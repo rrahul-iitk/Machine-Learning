{
 "cells": [
  {
   "cell_type": "code",
   "execution_count": 2,
   "metadata": {
    "collapsed": true
   },
   "outputs": [],
   "source": [
    "import pandas as pd\n",
    "import numpy as np\n",
    "from sklearn.model_selection import train_test_split\n",
    "from sklearn.metrics import accuracy_score, classification_report"
   ]
  },
  {
   "cell_type": "code",
   "execution_count": 2,
   "metadata": {
    "collapsed": false
   },
   "outputs": [
    {
     "name": "stdout",
     "output_type": "stream",
     "text": [
      "  Status_of_existing_checking_account  Duration_in_month Credit_history  \\\n",
      "0                                 A11                  6            A34   \n",
      "1                                 A12                 48            A32   \n",
      "2                                 A14                 12            A34   \n",
      "3                                 A11                 42            A32   \n",
      "4                                 A11                 24            A33   \n",
      "\n",
      "  Purpose  Credit_amount Savings_Account Present_Employment_since  \\\n",
      "0     A43           1169             A65                      A75   \n",
      "1     A43           5951             A61                      A73   \n",
      "2     A46           2096             A61                      A74   \n",
      "3     A42           7882             A61                      A74   \n",
      "4     A40           4870             A61                      A73   \n",
      "\n",
      "   Installment_rate_in_percentage_of_disposable_in_come  \\\n",
      "0                                                  4      \n",
      "1                                                  2      \n",
      "2                                                  2      \n",
      "3                                                  2      \n",
      "4                                                  3      \n",
      "\n",
      "  Personal_status_and_sex Other_debtors  ...   Property Age_in_year  \\\n",
      "0                     A93          A101  ...       A121          67   \n",
      "1                     A92          A101  ...       A121          22   \n",
      "2                     A93          A101  ...       A121          49   \n",
      "3                     A93          A103  ...       A122          45   \n",
      "4                     A93          A101  ...       A124          53   \n",
      "\n",
      "   Other_installment_plans Housing Number_of_existing_credits_at_the_bank  \\\n",
      "0                     A143    A152                                      2   \n",
      "1                     A143    A152                                      1   \n",
      "2                     A143    A152                                      1   \n",
      "3                     A143    A153                                      1   \n",
      "4                     A143    A153                                      2   \n",
      "\n",
      "    Job Number_of_people_being_liable_to_provide_maintenance_for  Telephone  \\\n",
      "0  A173                                                  1             A192   \n",
      "1  A173                                                  1             A191   \n",
      "2  A172                                                  2             A191   \n",
      "3  A173                                                  2             A191   \n",
      "4  A173                                                  2             A191   \n",
      "\n",
      "  Foreign_worker class  \n",
      "0           A201     1  \n",
      "1           A201     2  \n",
      "2           A201     1  \n",
      "3           A201     1  \n",
      "4           A201     2  \n",
      "\n",
      "[5 rows x 21 columns]\n"
     ]
    }
   ],
   "source": [
    "credit_data=pd.read_csv('credit_data.csv')\n",
    "print(credit_data.head())"
   ]
  },
  {
   "cell_type": "code",
   "execution_count": 3,
   "metadata": {
    "collapsed": false
   },
   "outputs": [
    {
     "name": "stdout",
     "output_type": "stream",
     "text": [
      "  Status_of_existing_checking_account  Duration_in_month Credit_history  \\\n",
      "0                                 A11                  6            A34   \n",
      "1                                 A12                 48            A32   \n",
      "2                                 A14                 12            A34   \n",
      "3                                 A11                 42            A32   \n",
      "4                                 A11                 24            A33   \n",
      "\n",
      "  Purpose  Credit_amount Savings_Account Present_Employment_since  \\\n",
      "0     A43           1169             A65                      A75   \n",
      "1     A43           5951             A61                      A73   \n",
      "2     A46           2096             A61                      A74   \n",
      "3     A42           7882             A61                      A74   \n",
      "4     A40           4870             A61                      A73   \n",
      "\n",
      "   Installment_rate_in_percentage_of_disposable_in_come  \\\n",
      "0                                                  4      \n",
      "1                                                  2      \n",
      "2                                                  2      \n",
      "3                                                  2      \n",
      "4                                                  3      \n",
      "\n",
      "  Personal_status_and_sex Other_debtors  ...   Property Age_in_year  \\\n",
      "0                     A93          A101  ...       A121          67   \n",
      "1                     A92          A101  ...       A121          22   \n",
      "2                     A93          A101  ...       A121          49   \n",
      "3                     A93          A103  ...       A122          45   \n",
      "4                     A93          A101  ...       A124          53   \n",
      "\n",
      "   Other_installment_plans Housing Number_of_existing_credits_at_the_bank  \\\n",
      "0                     A143    A152                                      2   \n",
      "1                     A143    A152                                      1   \n",
      "2                     A143    A152                                      1   \n",
      "3                     A143    A153                                      1   \n",
      "4                     A143    A153                                      2   \n",
      "\n",
      "    Job Number_of_people_being_liable_to_provide_maintenance_for  Telephone  \\\n",
      "0  A173                                                  1             A192   \n",
      "1  A173                                                  1             A191   \n",
      "2  A172                                                  2             A191   \n",
      "3  A173                                                  2             A191   \n",
      "4  A173                                                  2             A191   \n",
      "\n",
      "  Foreign_worker class  \n",
      "0           A201     0  \n",
      "1           A201     1  \n",
      "2           A201     0  \n",
      "3           A201     0  \n",
      "4           A201     1  \n",
      "\n",
      "[5 rows x 21 columns]\n"
     ]
    }
   ],
   "source": [
    "credit_data['class']= credit_data['class']-1\n",
    "credit_data.head()\n",
    "print(credit_data.head())"
   ]
  },
  {
   "cell_type": "code",
   "execution_count": 4,
   "metadata": {
    "collapsed": true
   },
   "outputs": [],
   "source": [
    "def IV_calc(data,var):\n",
    "    if data[var].dtypes == 'object':\n",
    "        dataf = data.groupby([var])['class'].agg(['count','sum'])\n",
    "        dataf.columns = [\"Total\",\"bad\"]\n",
    "        dataf[\"good\"] = dataf['Total'] - dataf['bad']\n",
    "        dataf[\"bad_per\"] = dataf[\"bad\"]/dataf[\"bad\"].sum()\n",
    "        dataf[\"good_per\"] = dataf[\"good\"]/dataf[\"good\"].sum()\n",
    "        dataf[\"IV\"] = np.log(dataf[\"good_per\"]/dataf[\"bad_per\"]) * (dataf[\"good_per\"] - dataf[\"bad_per\"])\n",
    "        return dataf\n",
    "    else:\n",
    "        data[\"bin_var\"] = pd.qcut(data[var].rank(method='first'),10)\n",
    "        dataf = data.groupby(['bin_var'])['class'].agg(['count','sum'])\n",
    "        dataf.columns = [\"Total\",\"bad\"]\n",
    "        dataf[\"good\"] = dataf['Total'] - dataf['bad']\n",
    "        dataf[\"bad_per\"] = dataf[\"bad\"]/dataf[\"bad\"].sum()\n",
    "        dataf[\"good_per\"] = dataf[\"good\"]/dataf[\"good\"].sum()\n",
    "        dataf[\"IV\"] = np.log(dataf[\"good_per\"]/dataf[\"bad_per\"]) * (dataf[\"good_per\"] - dataf[\"bad_per\"])\n",
    "        return dataf"
   ]
  },
  {
   "cell_type": "code",
   "execution_count": 6,
   "metadata": {
    "collapsed": false
   },
   "outputs": [],
   "source": [
    "discrete_columns = ['Status_of_existing_checking_account','Credit_history','Purpose','Savings_Account','Present_Employment_since','Personal_status_and_sex','Other_debtors','Property','Other_installment_plans','Housing','Job','Telephone','Foreign_worker']\n",
    "continuous_columns = ['Duration_in_month','Credit_amount','Installment_rate_in_percentage_of_disposable_in_come','Present_residence_since','Age_in_year','Number_of_existing_credits_at_the_bank','Number_of_people_being_liable_to_provide_maintenance_for']\n",
    "total_columns = discrete_columns + continuous_columns;\n"
   ]
  },
  {
   "cell_type": "code",
   "execution_count": 7,
   "metadata": {
    "collapsed": false
   },
   "outputs": [
    {
     "name": "stdout",
     "output_type": "stream",
     "text": [
      "20\n",
      "0.666 , Status_of_existing_checking_account ,type= object\n",
      "0.293 , Credit_history ,type= object\n",
      "0.261 , Duration_in_month ,type= int64\n",
      "0.196 , Savings_Account ,type= object\n",
      "0.169 , Purpose ,type= object\n",
      "0.113 , Property ,type= object\n",
      "0.113 , Credit_amount ,type= int64\n",
      "0.103 , Age_in_year ,type= int64\n",
      "0.098 , Number_of_existing_credits_at_the_bank ,type= int64\n",
      "0.086 , Present_Employment_since ,type= object\n",
      "0.083 , Housing ,type= object\n",
      "0.062 , Installment_rate_in_percentage_of_disposable_in_come ,type= int64\n",
      "0.058 , Other_installment_plans ,type= object\n",
      "0.049 , Present_residence_since ,type= int64\n",
      "0.045 , Personal_status_and_sex ,type= object\n",
      "0.044 , Foreign_worker ,type= object\n",
      "0.034 , Number_of_people_being_liable_to_provide_maintenance_for ,type= int64\n",
      "0.032 , Other_debtors ,type= object\n",
      "0.009 , Job ,type= object\n",
      "0.006 , Telephone ,type= object\n"
     ]
    }
   ],
   "source": [
    "IV_list = []\n",
    "for col in total_columns:\n",
    "    assigned_data = IV_calc(data=credit_data,var=col)\n",
    "    iv_val = round(assigned_data['IV'].sum(),3)\n",
    "    dt_type = credit_data[col].dtypes\n",
    "    IV_list.append((iv_val,col,dt_type))\n",
    "\n",
    "IV_list = sorted(IV_list, reverse = True)\n",
    "print(len(IV_list))\n",
    "for i in range(len(IV_list)):\n",
    "    print(IV_list[i][0], \",\", IV_list[i][1],\",type=\",IV_list[i][2])"
   ]
  },
  {
   "cell_type": "code",
   "execution_count": 8,
   "metadata": {
    "collapsed": true
   },
   "outputs": [],
   "source": [
    "dummy_stseca =pd.get_dummies(credit_data['Status_of_existing_checking_account'],prefix='status_exs_accnt')\n",
    "dummy_ch = pd.get_dummies(credit_data['Credit_history'],prefix='cred_hist')\n",
    "dummy_purpose = pd.get_dummies(credit_data['Purpose'],prefix='purpose')\n",
    "dummy_savacc = pd.get_dummies(credit_data['Savings_Account'],prefix='sav_acc')\n",
    "dummy_presc = pd.get_dummies(credit_data['Present_Employment_since'],prefix='pre_emp_snc')\n",
    "dummy_perssx = pd.get_dummies(credit_data['Personal_status_and_sex'],prefix='per_stat_sx')\n",
    "dummy_property = pd.get_dummies(credit_data['Property'],prefix='property')\n",
    "dummy_othinstpln =pd.get_dummies(credit_data['Other_installment_plans'],prefix='oth_inst_pln')\n",
    "dummy_forgnwrkr = pd.get_dummies(credit_data['Foreign_worker'],prefix='forgn_wrkr')\n",
    "dummy_othdts = pd.get_dummies(credit_data['Other_debtors'],prefix='oth_debtors')"
   ]
  },
  {
   "cell_type": "code",
   "execution_count": 14,
   "metadata": {
    "collapsed": false
   },
   "outputs": [],
   "source": [
    "continuous_columns = ['Duration_in_month', 'Credit_amount','Installment_rate_in_percentage_of_disposable_in_come', 'Age_in_year','Number_of_existing_credits_at_the_bank']\n",
    "credit_continuous = credit_data[continuous_columns]\n",
    "credit_data_new = pd.concat([dummy_stseca,dummy_ch,dummy_purpose,dummy_savacc, dummy_presc,dummy_perssx, dummy_property,dummy_othinstpln,dummy_othdts,dummy_forgnwrkr,credit_continuous,credit_data['class']],axis=1)"
   ]
  },
  {
   "cell_type": "code",
   "execution_count": 15,
   "metadata": {
    "collapsed": true
   },
   "outputs": [],
   "source": [
    "x_train,x_test,y_train,y_test = train_test_split(credit_data_new.drop(['class'],axis=1),credit_data_new['class'],train_size=0.7,random_state=42)\n",
    "y_train = pd.DataFrame(y_train)\n",
    "y_test = pd.DataFrame(y_test)"
   ]
  },
  {
   "cell_type": "code",
   "execution_count": 17,
   "metadata": {
    "collapsed": true
   },
   "outputs": [],
   "source": [
    "remove_cols_extra_dummy = ['status_exs_accnt_A11', 'cred_hist_A30',\n",
    "'purpose_A40', 'sav_acc_A61','pre_emp_snc_A71','per_stat_sx_A91',\n",
    "'oth_debtors_A101','property_A121', 'oth_inst_pln_A141','forgn_wrkr_A201']\n",
    "\n",
    "remove_cols_insig = []\n",
    "remove_cols = list(set(remove_cols_extra_dummy + remove_cols_insig))"
   ]
  },
  {
   "cell_type": "code",
   "execution_count": 18,
   "metadata": {
    "collapsed": false
   },
   "outputs": [
    {
     "name": "stdout",
     "output_type": "stream",
     "text": [
      "Optimization terminated successfully.\n",
      "         Current function value: 0.456186\n",
      "         Iterations 7\n",
      "                           Logit Regression Results                           \n",
      "==============================================================================\n",
      "Dep. Variable:                  class   No. Observations:                  700\n",
      "Model:                          Logit   Df Residuals:                      659\n",
      "Method:                           MLE   Df Model:                           40\n",
      "Date:                Mon, 20 Apr 2020   Pseudo R-squ.:                  0.2517\n",
      "Time:                        04:43:55   Log-Likelihood:                -319.33\n",
      "converged:                       True   LL-Null:                       -426.75\n",
      "                                        LLR p-value:                 8.624e-26\n",
      "========================================================================================================================\n",
      "                                                           coef    std err          z      P>|z|      [95.0% Conf. Int.]\n",
      "------------------------------------------------------------------------------------------------------------------------\n",
      "const                                                    0.7625      1.093      0.698      0.485        -1.380     2.905\n",
      "status_exs_accnt_A12                                    -0.3295      0.261     -1.262      0.207        -0.841     0.182\n",
      "status_exs_accnt_A13                                    -1.0005      0.455     -2.200      0.028        -1.892    -0.109\n",
      "status_exs_accnt_A14                                    -1.5554      0.275     -5.665      0.000        -2.094    -1.017\n",
      "cred_hist_A31                                            0.0991      0.622      0.159      0.874        -1.121     1.319\n",
      "cred_hist_A32                                           -0.4396      0.470     -0.936      0.349        -1.360     0.481\n",
      "cred_hist_A33                                           -1.0517      0.525     -2.002      0.045        -2.081    -0.022\n",
      "cred_hist_A34                                           -1.4906      0.482     -3.095      0.002        -2.434    -0.547\n",
      "purpose_A41                                             -1.6099      0.426     -3.781      0.000        -2.445    -0.775\n",
      "purpose_A410                                            -1.0218      0.816     -1.251      0.211        -2.622     0.578\n",
      "purpose_A42                                             -1.0331      0.319     -3.234      0.001        -1.659    -0.407\n",
      "purpose_A43                                             -1.0443      0.292     -3.575      0.000        -1.617    -0.472\n",
      "purpose_A44                                             -0.6334      0.774     -0.818      0.413        -2.151     0.885\n",
      "purpose_A45                                             -0.6976      0.646     -1.080      0.280        -1.964     0.568\n",
      "purpose_A46                                              0.1530      0.497      0.308      0.758        -0.821     1.127\n",
      "purpose_A48                                             -2.0515      1.201     -1.708      0.088        -4.405     0.302\n",
      "purpose_A49                                             -0.5883      0.391     -1.505      0.132        -1.355     0.178\n",
      "sav_acc_A62                                             -0.2640      0.338     -0.781      0.435        -0.926     0.398\n",
      "sav_acc_A63                                             -0.6581      0.480     -1.370      0.171        -1.600     0.284\n",
      "sav_acc_A64                                             -1.0675      0.613     -1.741      0.082        -2.269     0.134\n",
      "sav_acc_A65                                             -0.6475      0.296     -2.184      0.029        -1.229    -0.066\n",
      "pre_emp_snc_A72                                          0.1148      0.448      0.256      0.798        -0.763     0.992\n",
      "pre_emp_snc_A73                                          0.0142      0.415      0.034      0.973        -0.799     0.827\n",
      "pre_emp_snc_A74                                         -0.2943      0.458     -0.643      0.520        -1.191     0.603\n",
      "pre_emp_snc_A75                                         -0.1671      0.436     -0.383      0.702        -1.023     0.688\n",
      "per_stat_sx_A92                                         -0.1415      0.494     -0.287      0.774        -1.110     0.826\n",
      "per_stat_sx_A93                                         -0.6178      0.487     -1.270      0.204        -1.572     0.336\n",
      "per_stat_sx_A94                                         -0.1263      0.576     -0.219      0.826        -1.256     1.003\n",
      "property_A122                                            0.3993      0.299      1.335      0.182        -0.187     0.985\n",
      "property_A123                                            0.2301      0.279      0.824      0.410        -0.317     0.777\n",
      "property_A124                                            0.8407      0.369      2.276      0.023         0.117     1.565\n",
      "oth_inst_pln_A142                                       -0.1852      0.537     -0.345      0.730        -1.237     0.867\n",
      "oth_inst_pln_A143                                       -0.5004      0.287     -1.746      0.081        -1.062     0.061\n",
      "oth_debtors_A102                                        -0.0164      0.495     -0.033      0.974        -0.987     0.954\n",
      "oth_debtors_A103                                        -0.7171      0.470     -1.527      0.127        -1.637     0.203\n",
      "forgn_wrkr_A202                                         -1.3120      0.743     -1.765      0.078        -2.769     0.145\n",
      "Duration_in_month                                        0.0197      0.011      1.810      0.070        -0.002     0.041\n",
      "Credit_amount                                            0.0001   4.77e-05      2.353      0.019      1.88e-05     0.000\n",
      "Installment_rate_in_percentage_of_disposable_in_come     0.3338      0.103      3.236      0.001         0.132     0.536\n",
      "Age_in_year                                             -0.0305      0.011     -2.777      0.005        -0.052    -0.009\n",
      "Number_of_existing_credits_at_the_bank                   0.3471      0.221      1.568      0.117        -0.087     0.781\n",
      "========================================================================================================================\n"
     ]
    }
   ],
   "source": [
    "import statsmodels.api as sm\n",
    "logistic_model = sm.Logit(y_train,sm.add_constant(x_train.drop(remove_cols,axis =1))).fit()\n",
    "print(logistic_model.summary())"
   ]
  },
  {
   "cell_type": "code",
   "execution_count": 19,
   "metadata": {
    "collapsed": false
   },
   "outputs": [
    {
     "name": "stdout",
     "output_type": "stream",
     "text": [
      "\n",
      " Variance Inflation Factor\n",
      "status_exs_accnt_A12 1.722\n",
      "status_exs_accnt_A13 1.24\n",
      "status_exs_accnt_A14 1.823\n",
      "cred_hist_A31 2.214\n",
      "cred_hist_A32 6.991\n",
      "cred_hist_A33 2.894\n",
      "cred_hist_A34 5.997\n",
      "purpose_A41 1.421\n",
      "purpose_A410 1.213\n",
      "purpose_A42 1.545\n",
      "purpose_A43 1.754\n",
      "purpose_A44 1.078\n",
      "purpose_A45 1.116\n",
      "purpose_A46 1.201\n",
      "purpose_A48 1.097\n",
      "purpose_A49 1.484\n",
      "sav_acc_A62 1.141\n",
      "sav_acc_A63 1.103\n",
      "sav_acc_A64 1.109\n",
      "sav_acc_A65 1.179\n",
      "pre_emp_snc_A72 3.3\n",
      "pre_emp_snc_A73 4.403\n",
      "pre_emp_snc_A74 3.368\n",
      "pre_emp_snc_A75 3.91\n",
      "per_stat_sx_A92 6.309\n",
      "per_stat_sx_A93 6.948\n",
      "per_stat_sx_A94 3.227\n",
      "property_A122 1.56\n",
      "property_A123 1.741\n",
      "property_A124 1.784\n",
      "oth_inst_pln_A142 1.321\n",
      "oth_inst_pln_A143 1.395\n",
      "oth_debtors_A102 1.118\n",
      "oth_debtors_A103 1.195\n",
      "forgn_wrkr_A202 1.127\n",
      "Duration_in_month 2.006\n",
      "Credit_amount 2.455\n",
      "Installment_rate_in_percentage_of_disposable_in_come 1.336\n",
      "Age_in_year 1.378\n",
      "Number_of_existing_credits_at_the_bank 1.559\n"
     ]
    }
   ],
   "source": [
    "print(\"\\n Variance Inflation Factor\")\n",
    "cnames = x_train.drop(remove_cols,axis=1).columns \n",
    "for i in np.arange(0, len(cnames)):\n",
    "    xvars = list(cnames)\n",
    "    yvar = xvars.pop(i)\n",
    "    mod = sm.OLS(x_train.drop(remove_cols,axis=1)[yvar], sm.add_constant(x_train.drop(remove_cols,axis=1)[xvars]))\n",
    "    res = mod.fit()\n",
    "    vif = 1/(1-res.rsquared)\n",
    "    print(yvar, round(vif,3))"
   ]
  },
  {
   "cell_type": "code",
   "execution_count": 20,
   "metadata": {
    "collapsed": true
   },
   "outputs": [],
   "source": [
    "y_pred = pd.DataFrame(logistic_model.predict(sm.add_constant(x_train.drop(remove_cols,axis=1))))\n",
    "y_pred.columns = [\"probs\"]\n",
    "both = pd.concat([y_train,y_pred],axis=1)"
   ]
  },
  {
   "cell_type": "code",
   "execution_count": 27,
   "metadata": {
    "collapsed": false
   },
   "outputs": [],
   "source": [
    "zeros = both[['class','probs']][both['class']==0]\n",
    "ones = both[['class','probs']][both['class']==1]\n",
    "def df_crossjoin(df1, df2, **kwargs):\n",
    "    df1['_tmpkey'] = 1\n",
    "    df2['_tmpkey'] = 1\n",
    "    res = pd.merge(df1, df2, on='_tmpkey', **kwargs).drop('_tmpkey',axis=1)\n",
    "    res.index = pd.MultiIndex.from_product((df1.index, df2.index))\n",
    "    df1.drop('_tmpkey', axis=1, inplace=True)\n",
    "    df2.drop('_tmpkey', axis=1, inplace=True)\n",
    "    return res\n"
   ]
  },
  {
   "cell_type": "code",
   "execution_count": 29,
   "metadata": {
    "collapsed": false
   },
   "outputs": [
    {
     "name": "stdout",
     "output_type": "stream",
     "text": [
      "         class_x   probs_x  class_y   probs_y\n",
      "1   0        1.0  0.206071      0.0  0.199146\n",
      "    6        1.0  0.206071      0.0  0.847087\n",
      "    8        1.0  0.206071      0.0  0.682558\n",
      "    12       1.0  0.206071      0.0  0.191265\n",
      "    14       1.0  0.206071      0.0  0.043020\n",
      "    16       1.0  0.206071      0.0  0.108531\n",
      "    17       1.0  0.206071      0.0  0.014099\n",
      "    19       1.0  0.206071      0.0  0.675033\n",
      "    20       1.0  0.206071      0.0  0.552484\n",
      "    21       1.0  0.206071      0.0  0.262825\n",
      "    22       1.0  0.206071      0.0  0.146062\n",
      "    24       1.0  0.206071      0.0  0.330074\n",
      "    26       1.0  0.206071      0.0  0.169577\n",
      "    27       1.0  0.206071      0.0  0.302267\n",
      "    28       1.0  0.206071      0.0  0.871294\n",
      "    32       1.0  0.206071      0.0  0.734678\n",
      "    34       1.0  0.206071      0.0  0.030118\n",
      "    36       1.0  0.206071      0.0  0.733428\n",
      "    38       1.0  0.206071      0.0  0.244099\n",
      "    40       1.0  0.206071      0.0  0.393004\n",
      "    41       1.0  0.206071      0.0  0.218802\n",
      "    42       1.0  0.206071      0.0  0.293101\n",
      "    43       1.0  0.206071      0.0  0.538619\n",
      "    45       1.0  0.206071      0.0  0.124607\n",
      "    46       1.0  0.206071      0.0  0.345254\n",
      "    47       1.0  0.206071      0.0  0.067530\n",
      "    48       1.0  0.206071      0.0  0.012930\n",
      "    50       1.0  0.206071      0.0  0.568551\n",
      "    51       1.0  0.206071      0.0  0.840280\n",
      "    52       1.0  0.206071      0.0  0.054426\n",
      "...          ...       ...      ...       ...\n",
      "983 939      1.0       NaN      0.0       NaN\n",
      "    940      1.0       NaN      0.0       NaN\n",
      "    943      1.0       NaN      0.0       NaN\n",
      "    944      1.0       NaN      0.0       NaN\n",
      "    945      1.0       NaN      0.0       NaN\n",
      "    954      1.0       NaN      0.0       NaN\n",
      "    955      1.0       NaN      0.0       NaN\n",
      "    956      1.0       NaN      0.0       NaN\n",
      "    957      1.0       NaN      0.0       NaN\n",
      "    960      1.0       NaN      0.0       NaN\n",
      "    961      1.0       NaN      0.0       NaN\n",
      "    962      1.0       NaN      0.0       NaN\n",
      "    964      1.0       NaN      0.0       NaN\n",
      "    965      1.0       NaN      0.0       NaN\n",
      "    967      1.0       NaN      0.0       NaN\n",
      "    968      1.0       NaN      0.0       NaN\n",
      "    969      1.0       NaN      0.0       NaN\n",
      "    970      1.0       NaN      0.0       NaN\n",
      "    971      1.0       NaN      0.0       NaN\n",
      "    976      1.0       NaN      0.0       NaN\n",
      "    982      1.0       NaN      0.0       NaN\n",
      "    984      1.0       NaN      0.0       NaN\n",
      "    987      1.0       NaN      0.0       NaN\n",
      "    988      1.0       NaN      0.0       NaN\n",
      "    990      1.0       NaN      0.0       NaN\n",
      "    992      1.0       NaN      0.0       NaN\n",
      "    993      1.0       NaN      0.0       NaN\n",
      "    996      1.0       NaN      0.0       NaN\n",
      "    997      1.0       NaN      0.0       NaN\n",
      "    999      1.0       NaN      0.0       NaN\n",
      "\n",
      "[102619 rows x 4 columns]\n"
     ]
    }
   ],
   "source": [
    "joined_data = df_crossjoin(ones,zeros)\n",
    "print(joined_data)"
   ]
  },
  {
   "cell_type": "code",
   "execution_count": 30,
   "metadata": {
    "collapsed": false
   },
   "outputs": [
    {
     "name": "stdout",
     "output_type": "stream",
     "text": [
      "102619\n"
     ]
    }
   ],
   "source": [
    "joined_data['concordant_pair']=0\n",
    "joined_data.loc[joined_data['probs_x'] > joined_data['probs_y'], 'concordant_pair'] = 1\n",
    "joined_data['discordant_pair']=0\n",
    "joined_data.loc[joined_data['probs_x'] < joined_data['probs_y'], 'discordant_pair'] = 1\n",
    "joined_data['tied_pair'] = 0\n",
    "joined_data.loc[joined_data['probs_x'] == joined_data['probs_y'], 'tied_pair'] = 1\n",
    "print(joined_data.shape[0])"
   ]
  },
  {
   "cell_type": "code",
   "execution_count": 31,
   "metadata": {
    "collapsed": false
   },
   "outputs": [
    {
     "name": "stdout",
     "output_type": "stream",
     "text": [
      "\n",
      "C-statistics: 0.5125\n"
     ]
    }
   ],
   "source": [
    "p_conc = (joined_data['concordant_pair'].sum())/joined_data.shape[0]\n",
    "p_disc = (joined_data['discordant_pair'].sum())/(joined_data.shape[0])\n",
    "c_statistics = 0.5 + (p_conc - p_disc)/2.0\n",
    "print(\"\\nC-statistics:\", round(c_statistics,4))"
   ]
  },
  {
   "cell_type": "code",
   "execution_count": 32,
   "metadata": {
    "collapsed": false
   },
   "outputs": [
    {
     "ename": "ValueError",
     "evalue": "Input contains NaN, infinity or a value too large for dtype('float64').",
     "output_type": "error",
     "traceback": [
      "\u001b[0;31m---------------------------------------------------------------------------\u001b[0m",
      "\u001b[0;31mValueError\u001b[0m                                Traceback (most recent call last)",
      "\u001b[0;32m<ipython-input-32-1305006b5f18>\u001b[0m in \u001b[0;36m<module>\u001b[0;34m()\u001b[0m\n\u001b[1;32m      2\u001b[0m \u001b[1;32mfrom\u001b[0m \u001b[0msklearn\u001b[0m \u001b[1;32mimport\u001b[0m \u001b[0mmetrics\u001b[0m\u001b[1;33m\u001b[0m\u001b[0m\n\u001b[1;32m      3\u001b[0m \u001b[1;32mfrom\u001b[0m \u001b[0msklearn\u001b[0m\u001b[1;33m.\u001b[0m\u001b[0mmetrics\u001b[0m \u001b[1;32mimport\u001b[0m \u001b[0mauc\u001b[0m\u001b[1;33m\u001b[0m\u001b[0m\n\u001b[0;32m----> 4\u001b[0;31m \u001b[0mfpr\u001b[0m\u001b[1;33m,\u001b[0m \u001b[0mtpr\u001b[0m\u001b[1;33m,\u001b[0m \u001b[0mthresholds\u001b[0m \u001b[1;33m=\u001b[0m \u001b[0mmetrics\u001b[0m\u001b[1;33m.\u001b[0m\u001b[0mroc_curve\u001b[0m\u001b[1;33m(\u001b[0m\u001b[0mboth\u001b[0m\u001b[1;33m[\u001b[0m\u001b[1;34m'class'\u001b[0m\u001b[1;33m]\u001b[0m\u001b[1;33m,\u001b[0m\u001b[0mboth\u001b[0m\u001b[1;33m[\u001b[0m\u001b[1;34m'probs'\u001b[0m\u001b[1;33m]\u001b[0m\u001b[1;33m,\u001b[0m \u001b[0mpos_label\u001b[0m\u001b[1;33m=\u001b[0m\u001b[1;36m1\u001b[0m\u001b[1;33m)\u001b[0m\u001b[1;33m\u001b[0m\u001b[0m\n\u001b[0m\u001b[1;32m      5\u001b[0m \u001b[0mroc_auc\u001b[0m \u001b[1;33m=\u001b[0m \u001b[0mauc\u001b[0m\u001b[1;33m(\u001b[0m\u001b[0mfpr\u001b[0m\u001b[1;33m,\u001b[0m\u001b[0mtpr\u001b[0m\u001b[1;33m)\u001b[0m\u001b[1;33m\u001b[0m\u001b[0m\n\u001b[1;32m      6\u001b[0m \u001b[0mplt\u001b[0m\u001b[1;33m.\u001b[0m\u001b[0mfigure\u001b[0m\u001b[1;33m\u001b[0m\u001b[0m\n",
      "\u001b[0;32mC:\\ProgramData\\Anaconda3\\lib\\site-packages\\sklearn\\metrics\\ranking.py\u001b[0m in \u001b[0;36mroc_curve\u001b[0;34m(y_true, y_score, pos_label, sample_weight, drop_intermediate)\u001b[0m\n\u001b[1;32m    503\u001b[0m     \"\"\"\n\u001b[1;32m    504\u001b[0m     fps, tps, thresholds = _binary_clf_curve(\n\u001b[0;32m--> 505\u001b[0;31m         y_true, y_score, pos_label=pos_label, sample_weight=sample_weight)\n\u001b[0m\u001b[1;32m    506\u001b[0m \u001b[1;33m\u001b[0m\u001b[0m\n\u001b[1;32m    507\u001b[0m     \u001b[1;31m# Attempt to drop thresholds corresponding to points in between and\u001b[0m\u001b[1;33m\u001b[0m\u001b[1;33m\u001b[0m\u001b[0m\n",
      "\u001b[0;32mC:\\ProgramData\\Anaconda3\\lib\\site-packages\\sklearn\\metrics\\ranking.py\u001b[0m in \u001b[0;36m_binary_clf_curve\u001b[0;34m(y_true, y_score, pos_label, sample_weight)\u001b[0m\n\u001b[1;32m    298\u001b[0m     \u001b[0my_true\u001b[0m \u001b[1;33m=\u001b[0m \u001b[0mcolumn_or_1d\u001b[0m\u001b[1;33m(\u001b[0m\u001b[0my_true\u001b[0m\u001b[1;33m)\u001b[0m\u001b[1;33m\u001b[0m\u001b[0m\n\u001b[1;32m    299\u001b[0m     \u001b[0my_score\u001b[0m \u001b[1;33m=\u001b[0m \u001b[0mcolumn_or_1d\u001b[0m\u001b[1;33m(\u001b[0m\u001b[0my_score\u001b[0m\u001b[1;33m)\u001b[0m\u001b[1;33m\u001b[0m\u001b[0m\n\u001b[0;32m--> 300\u001b[0;31m     \u001b[0massert_all_finite\u001b[0m\u001b[1;33m(\u001b[0m\u001b[0my_true\u001b[0m\u001b[1;33m)\u001b[0m\u001b[1;33m\u001b[0m\u001b[0m\n\u001b[0m\u001b[1;32m    301\u001b[0m     \u001b[0massert_all_finite\u001b[0m\u001b[1;33m(\u001b[0m\u001b[0my_score\u001b[0m\u001b[1;33m)\u001b[0m\u001b[1;33m\u001b[0m\u001b[0m\n\u001b[1;32m    302\u001b[0m \u001b[1;33m\u001b[0m\u001b[0m\n",
      "\u001b[0;32mC:\\ProgramData\\Anaconda3\\lib\\site-packages\\sklearn\\utils\\validation.py\u001b[0m in \u001b[0;36massert_all_finite\u001b[0;34m(X)\u001b[0m\n\u001b[1;32m     63\u001b[0m \u001b[1;33m\u001b[0m\u001b[0m\n\u001b[1;32m     64\u001b[0m     Input MUST be an np.ndarray instance or a scipy.sparse matrix.\"\"\"\n\u001b[0;32m---> 65\u001b[0;31m     \u001b[0m_assert_all_finite\u001b[0m\u001b[1;33m(\u001b[0m\u001b[0mX\u001b[0m\u001b[1;33m.\u001b[0m\u001b[0mdata\u001b[0m \u001b[1;32mif\u001b[0m \u001b[0msp\u001b[0m\u001b[1;33m.\u001b[0m\u001b[0missparse\u001b[0m\u001b[1;33m(\u001b[0m\u001b[0mX\u001b[0m\u001b[1;33m)\u001b[0m \u001b[1;32melse\u001b[0m \u001b[0mX\u001b[0m\u001b[1;33m)\u001b[0m\u001b[1;33m\u001b[0m\u001b[0m\n\u001b[0m\u001b[1;32m     66\u001b[0m \u001b[1;33m\u001b[0m\u001b[0m\n\u001b[1;32m     67\u001b[0m \u001b[1;33m\u001b[0m\u001b[0m\n",
      "\u001b[0;32mC:\\ProgramData\\Anaconda3\\lib\\site-packages\\sklearn\\utils\\validation.py\u001b[0m in \u001b[0;36m_assert_all_finite\u001b[0;34m(X)\u001b[0m\n\u001b[1;32m     56\u001b[0m             and not np.isfinite(X).all()):\n\u001b[1;32m     57\u001b[0m         raise ValueError(\"Input contains NaN, infinity\"\n\u001b[0;32m---> 58\u001b[0;31m                          \" or a value too large for %r.\" % X.dtype)\n\u001b[0m\u001b[1;32m     59\u001b[0m \u001b[1;33m\u001b[0m\u001b[0m\n\u001b[1;32m     60\u001b[0m \u001b[1;33m\u001b[0m\u001b[0m\n",
      "\u001b[0;31mValueError\u001b[0m: Input contains NaN, infinity or a value too large for dtype('float64')."
     ]
    }
   ],
   "source": [
    "import matplotlib.pyplot as plt\n",
    "from sklearn import metrics\n",
    "from sklearn.metrics import auc\n",
    "fpr, tpr, thresholds = metrics.roc_curve(both['class'],both['probs'], pos_label=1)\n",
    "roc_auc = auc(fpr,tpr)\n",
    "plt.figure \n",
    "lw = 2\n",
    "plt.plot(fpr, tpr, color='darkorange', lw=lw, label='ROC curve (area =%0.2f)' % roc_auc)\n",
    "plt.plot([0, 1], [0, 1], color='navy', lw=lw, linestyle='--')\n",
    "plt.xlim([0.0, 1.0])\n",
    "plt.ylim([0.0, 1.05])\n",
    "plt.xlabel('False Positive Rate (1-Specificity)')\n",
    "plt.ylabel('True Positive Rate')\n",
    "plt.title('ROC Curve - German Credit Data')\n",
    "plt.legend(loc=\"lower right\")\n",
    "plt.show()"
   ]
  },
  {
   "cell_type": "code",
   "execution_count": 34,
   "metadata": {
    "collapsed": false
   },
   "outputs": [
    {
     "data": {
      "text/plain": [
       "0      0.199146\n",
       "1      0.206071\n",
       "2      0.288691\n",
       "3      0.099776\n",
       "4      0.021924\n",
       "5      0.090936\n",
       "6      0.847087\n",
       "7      0.225858\n",
       "8      0.682558\n",
       "9      0.008902\n",
       "10     0.386405\n",
       "11     0.655979\n",
       "12     0.191265\n",
       "13     0.751658\n",
       "14     0.043020\n",
       "15     0.074990\n",
       "16     0.108531\n",
       "17     0.014099\n",
       "18     0.820619\n",
       "19     0.675033\n",
       "20     0.552484\n",
       "21     0.262825\n",
       "22     0.146062\n",
       "23     0.053715\n",
       "24     0.330074\n",
       "25     0.012188\n",
       "26     0.169577\n",
       "27     0.302267\n",
       "28     0.871294\n",
       "29     0.297900\n",
       "         ...   \n",
       "956         NaN\n",
       "957         NaN\n",
       "958         NaN\n",
       "960         NaN\n",
       "961         NaN\n",
       "962         NaN\n",
       "964         NaN\n",
       "965         NaN\n",
       "966         NaN\n",
       "967         NaN\n",
       "968         NaN\n",
       "969         NaN\n",
       "970         NaN\n",
       "971         NaN\n",
       "972         NaN\n",
       "976         NaN\n",
       "979         NaN\n",
       "980         NaN\n",
       "981         NaN\n",
       "982         NaN\n",
       "983         NaN\n",
       "984         NaN\n",
       "987         NaN\n",
       "988         NaN\n",
       "990         NaN\n",
       "992         NaN\n",
       "993         NaN\n",
       "996         NaN\n",
       "997         NaN\n",
       "999         NaN\n",
       "Name: probs, dtype: float64"
      ]
     },
     "execution_count": 34,
     "metadata": {},
     "output_type": "execute_result"
    }
   ],
   "source": [
    "both['probs']"
   ]
  },
  {
   "cell_type": "code",
   "execution_count": 4,
   "metadata": {
    "collapsed": false
   },
   "outputs": [
    {
     "name": "stdout",
     "output_type": "stream",
     "text": [
      "[[-2.69061986  0.89977408  1.64481672]\n",
      " [ 0.58473438  1.59408041 -1.71484112]\n",
      " [-0.58885867 -1.06390362  2.29890119]]\n"
     ]
    }
   ],
   "source": [
    "a = np.random.randn(3, 3)\n",
    "b = np.random.randn(3, 1)\n",
    "c = a*b\n",
    "print(c)"
   ]
  },
  {
   "cell_type": "code",
   "execution_count": 5,
   "metadata": {
    "collapsed": true
   },
   "outputs": [],
   "source": [
    "A = np.random.randn(4,3)\n",
    "B = np.sum(A, axis = 1, keepdims = True)"
   ]
  },
  {
   "cell_type": "code",
   "execution_count": 7,
   "metadata": {
    "collapsed": false
   },
   "outputs": [
    {
     "name": "stdout",
     "output_type": "stream",
     "text": [
      "(4, 1)\n"
     ]
    }
   ],
   "source": [
    "print(B.shape)"
   ]
  },
  {
   "cell_type": "code",
   "execution_count": 8,
   "metadata": {
    "collapsed": false
   },
   "outputs": [
    {
     "data": {
      "text/plain": [
       "array([[ 0.58288027,  0.33497139,  1.47040882],\n",
       "       [-0.65056327,  0.0166006 , -0.2544    ],\n",
       "       [-0.67535331, -1.30938326, -1.85857936],\n",
       "       [-0.39843007,  0.00963093,  0.95712233],\n",
       "       [-1.68843272, -1.85698817, -0.6732123 ]])"
      ]
     },
     "execution_count": 8,
     "metadata": {},
     "output_type": "execute_result"
    }
   ],
   "source": [
    "a= np.random.randn(5, 3)\n",
    "a"
   ]
  },
  {
   "cell_type": "code",
   "execution_count": 9,
   "metadata": {
    "collapsed": false
   },
   "outputs": [
    {
     "name": "stdout",
     "output_type": "stream",
     "text": [
      "8\n",
      "7\n",
      "6\n",
      "5\n",
      "4\n",
      "3\n",
      "2\n",
      "1\n",
      "0\n"
     ]
    }
   ],
   "source": [
    "L=10\n",
    "for l in reversed(range(L-1)):\n",
    "    print(l)"
   ]
  },
  {
   "cell_type": "code",
   "execution_count": 10,
   "metadata": {
    "collapsed": false
   },
   "outputs": [
    {
     "name": "stdout",
     "output_type": "stream",
     "text": [
      "0\n",
      "1\n",
      "2\n",
      "3\n",
      "4\n",
      "5\n",
      "6\n",
      "7\n",
      "8\n",
      "9\n"
     ]
    }
   ],
   "source": [
    "L=10\n",
    "for l in (range(L)):\n",
    "    print(l)"
   ]
  },
  {
   "cell_type": "code",
   "execution_count": null,
   "metadata": {
    "collapsed": true
   },
   "outputs": [],
   "source": []
  }
 ],
 "metadata": {
  "kernelspec": {
   "display_name": "Python 3",
   "language": "python",
   "name": "python3"
  },
  "language_info": {
   "codemirror_mode": {
    "name": "ipython",
    "version": 3
   },
   "file_extension": ".py",
   "mimetype": "text/x-python",
   "name": "python",
   "nbconvert_exporter": "python",
   "pygments_lexer": "ipython3",
   "version": "3.6.0"
  }
 },
 "nbformat": 4,
 "nbformat_minor": 2
}
