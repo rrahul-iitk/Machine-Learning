{
 "cells": [
  {
   "cell_type": "code",
   "execution_count": 1,
   "metadata": {
    "collapsed": true
   },
   "outputs": [],
   "source": [
    "import pandas as pd\n",
    "import numpy as np\n",
    "from sklearn.model_selection import train_test_split\n",
    "from sklearn.metrics import accuracy_score, classification_report"
   ]
  },
  {
   "cell_type": "code",
   "execution_count": 2,
   "metadata": {
    "collapsed": false
   },
   "outputs": [
    {
     "name": "stdout",
     "output_type": "stream",
     "text": [
      "  Status_of_existing_checking_account  Duration_in_month Credit_history  \\\n",
      "0                                 A11                  6            A34   \n",
      "1                                 A12                 48            A32   \n",
      "2                                 A14                 12            A34   \n",
      "3                                 A11                 42            A32   \n",
      "4                                 A11                 24            A33   \n",
      "\n",
      "  Purpose  Credit_amount Savings_Account Present_Employment_since  \\\n",
      "0     A43           1169             A65                      A75   \n",
      "1     A43           5951             A61                      A73   \n",
      "2     A46           2096             A61                      A74   \n",
      "3     A42           7882             A61                      A74   \n",
      "4     A40           4870             A61                      A73   \n",
      "\n",
      "   Installment_rate_in_percentage_of_disposable_in_come  \\\n",
      "0                                                  4      \n",
      "1                                                  2      \n",
      "2                                                  2      \n",
      "3                                                  2      \n",
      "4                                                  3      \n",
      "\n",
      "  Personal_status_and_sex Other_debtors  ...   Property Age_in_year  \\\n",
      "0                     A93          A101  ...       A121          67   \n",
      "1                     A92          A101  ...       A121          22   \n",
      "2                     A93          A101  ...       A121          49   \n",
      "3                     A93          A103  ...       A122          45   \n",
      "4                     A93          A101  ...       A124          53   \n",
      "\n",
      "   Other_installment_plans Housing Number_of_existing_credits_at_the_bank  \\\n",
      "0                     A143    A152                                      2   \n",
      "1                     A143    A152                                      1   \n",
      "2                     A143    A152                                      1   \n",
      "3                     A143    A153                                      1   \n",
      "4                     A143    A153                                      2   \n",
      "\n",
      "    Job Number_of_people_being_liable_to_provide_maintenance_for  Telephone  \\\n",
      "0  A173                                                  1             A192   \n",
      "1  A173                                                  1             A191   \n",
      "2  A172                                                  2             A191   \n",
      "3  A173                                                  2             A191   \n",
      "4  A173                                                  2             A191   \n",
      "\n",
      "  Foreign_worker class  \n",
      "0           A201     1  \n",
      "1           A201     2  \n",
      "2           A201     1  \n",
      "3           A201     1  \n",
      "4           A201     2  \n",
      "\n",
      "[5 rows x 21 columns]\n"
     ]
    }
   ],
   "source": [
    "credit_data=pd.read_csv('credit_data.csv')\n",
    "print(credit_data.head())"
   ]
  },
  {
   "cell_type": "code",
   "execution_count": 3,
   "metadata": {
    "collapsed": false
   },
   "outputs": [
    {
     "name": "stdout",
     "output_type": "stream",
     "text": [
      "  Status_of_existing_checking_account  Duration_in_month Credit_history  \\\n",
      "0                                 A11                  6            A34   \n",
      "1                                 A12                 48            A32   \n",
      "2                                 A14                 12            A34   \n",
      "3                                 A11                 42            A32   \n",
      "4                                 A11                 24            A33   \n",
      "\n",
      "  Purpose  Credit_amount Savings_Account Present_Employment_since  \\\n",
      "0     A43           1169             A65                      A75   \n",
      "1     A43           5951             A61                      A73   \n",
      "2     A46           2096             A61                      A74   \n",
      "3     A42           7882             A61                      A74   \n",
      "4     A40           4870             A61                      A73   \n",
      "\n",
      "   Installment_rate_in_percentage_of_disposable_in_come  \\\n",
      "0                                                  4      \n",
      "1                                                  2      \n",
      "2                                                  2      \n",
      "3                                                  2      \n",
      "4                                                  3      \n",
      "\n",
      "  Personal_status_and_sex Other_debtors  ...   Property Age_in_year  \\\n",
      "0                     A93          A101  ...       A121          67   \n",
      "1                     A92          A101  ...       A121          22   \n",
      "2                     A93          A101  ...       A121          49   \n",
      "3                     A93          A103  ...       A122          45   \n",
      "4                     A93          A101  ...       A124          53   \n",
      "\n",
      "   Other_installment_plans Housing Number_of_existing_credits_at_the_bank  \\\n",
      "0                     A143    A152                                      2   \n",
      "1                     A143    A152                                      1   \n",
      "2                     A143    A152                                      1   \n",
      "3                     A143    A153                                      1   \n",
      "4                     A143    A153                                      2   \n",
      "\n",
      "    Job Number_of_people_being_liable_to_provide_maintenance_for  Telephone  \\\n",
      "0  A173                                                  1             A192   \n",
      "1  A173                                                  1             A191   \n",
      "2  A172                                                  2             A191   \n",
      "3  A173                                                  2             A191   \n",
      "4  A173                                                  2             A191   \n",
      "\n",
      "  Foreign_worker class  \n",
      "0           A201     0  \n",
      "1           A201     1  \n",
      "2           A201     0  \n",
      "3           A201     0  \n",
      "4           A201     1  \n",
      "\n",
      "[5 rows x 21 columns]\n"
     ]
    }
   ],
   "source": [
    "credit_data['class']= credit_data['class']-1\n",
    "credit_data.head()\n",
    "print(credit_data.head())"
   ]
  },
  {
   "cell_type": "code",
   "execution_count": 4,
   "metadata": {
    "collapsed": true
   },
   "outputs": [],
   "source": [
    "def IV_calc(data,var):\n",
    "    if data[var].dtypes == 'object':\n",
    "        dataf = data.groupby([var])['class'].agg(['count','sum'])\n",
    "        dataf.columns = [\"Total\",\"bad\"]\n",
    "        dataf[\"good\"] = dataf['Total'] - dataf['bad']\n",
    "        dataf[\"bad_per\"] = dataf[\"bad\"]/dataf[\"bad\"].sum()\n",
    "        dataf[\"good_per\"] = dataf[\"good\"]/dataf[\"good\"].sum()\n",
    "        dataf[\"IV\"] = np.log(dataf[\"good_per\"]/dataf[\"bad_per\"]) * (dataf[\"good_per\"] - dataf[\"bad_per\"])\n",
    "        return dataf\n",
    "    else:\n",
    "        data[\"bin_var\"] = pd.qcut(data[var].rank(method='first'),10)\n",
    "        dataf = data.groupby(['bin_var'])['class'].agg(['count','sum'])\n",
    "        dataf.columns = [\"Total\",\"bad\"]\n",
    "        dataf[\"good\"] = dataf['Total'] - dataf['bad']\n",
    "        dataf[\"bad_per\"] = dataf[\"bad\"]/dataf[\"bad\"].sum()\n",
    "        dataf[\"good_per\"] = dataf[\"good\"]/dataf[\"good\"].sum()\n",
    "        dataf[\"IV\"] = np.log(dataf[\"good_per\"]/dataf[\"bad_per\"]) * (dataf[\"good_per\"] - dataf[\"bad_per\"])\n",
    "        return dataf"
   ]
  },
  {
   "cell_type": "code",
   "execution_count": 5,
   "metadata": {
    "collapsed": false,
    "scrolled": true
   },
   "outputs": [
    {
     "name": "stdout",
     "output_type": "stream",
     "text": [
      "\n",
      "\n",
      " Credit History: Information Value\n",
      "\n",
      "                Total  bad  good   bad_per  good_per        IV\n",
      "Credit_history                                                \n",
      "A30                40   25    15  0.083333  0.021429  0.084074\n",
      "A31                49   28    21  0.093333  0.030000  0.071882\n",
      "A32               530  169   361  0.563333  0.515714  0.004206\n",
      "A33                88   28    60  0.093333  0.085714  0.000649\n",
      "A34               293   50   243  0.166667  0.347143  0.132423\n",
      "\t\t\t\tIV_total:  0.2932335473908263\n"
     ]
    }
   ],
   "source": [
    "print(\"\\n\\n Credit History: Information Value\\n\")\n",
    "print(IV_calc(credit_data,'Credit_history'))\n",
    "print(\"\\t\\t\\t\\tIV_total:  \" + str(IV_calc(credit_data,'Credit_history')['IV'].sum()))"
   ]
  },
  {
   "cell_type": "code",
   "execution_count": 6,
   "metadata": {
    "collapsed": false
   },
   "outputs": [
    {
     "name": "stdout",
     "output_type": "stream",
     "text": [
      "Index(['Status_of_existing_checking_account', 'Duration_in_month',\n",
      "       'Credit_history', 'Purpose', 'Credit_amount', 'Savings_Account',\n",
      "       'Present_Employment_since',\n",
      "       'Installment_rate_in_percentage_of_disposable_in_come',\n",
      "       'Personal_status_and_sex', 'Other_debtors', 'Present_residence_since',\n",
      "       'Property', 'Age_in_year', 'Other_installment_plans', 'Housing',\n",
      "       'Number_of_existing_credits_at_the_bank', 'Job',\n",
      "       'Number_of_people_being_liable_to_provide_maintenance_for', 'Telephone',\n",
      "       'Foreign_worker', 'class'],\n",
      "      dtype='object')\n"
     ]
    }
   ],
   "source": [
    "print(credit_data.columns)"
   ]
  },
  {
   "cell_type": "code",
   "execution_count": 7,
   "metadata": {
    "collapsed": false
   },
   "outputs": [
    {
     "name": "stdout",
     "output_type": "stream",
     "text": [
      "\n",
      "\n",
      "Status_of_existing_checking_account: Information Value\n",
      "\n",
      "                                     Total  bad  good   bad_per  good_per  \\\n",
      "Status_of_existing_checking_account                                         \n",
      "A11                                    274  135   139  0.450000  0.198571   \n",
      "A12                                    269  105   164  0.350000  0.234286   \n",
      "A13                                     63   14    49  0.046667  0.070000   \n",
      "A14                                    394   46   348  0.153333  0.497143   \n",
      "\n",
      "                                           IV  \n",
      "Status_of_existing_checking_account            \n",
      "A11                                  0.205693  \n",
      "A12                                  0.046447  \n",
      "A13                                  0.009461  \n",
      "A14                                  0.404410  \n",
      "\t\t\t\tIV_total:  0.6660115033513336\n",
      "\n",
      "\n",
      "Duration_in_month: Information Value\n",
      "\n",
      "                Total  bad  good   bad_per  good_per        IV\n",
      "bin_var                                                       \n",
      "[1, 100.9]        100   11    89  0.036667  0.127143  0.112502\n",
      "(100.9, 200.8]    100   20    80  0.066667  0.114286  0.025667\n",
      "(200.8, 300.7]    100   27    73  0.090000  0.104286  0.002105\n",
      "(300.7, 400.6]    100   25    75  0.083333  0.107143  0.005984\n",
      "(400.6, 500.5]    100   26    74  0.086667  0.105714  0.003784\n",
      "(500.5, 600.4]    100   38    62  0.126667  0.088571  0.013629\n",
      "(600.4, 700.3]    100   32    68  0.106667  0.097143  0.000891\n",
      "(700.3, 800.2]    100   31    69  0.103333  0.098571  0.000225\n",
      "(800.2, 900.1]    100   42    58  0.140000  0.082857  0.029973\n",
      "(900.1, 1000]     100   48    52  0.160000  0.074286  0.065765\n",
      "\t\t\t\tIV_total:  0.2605225223321392\n",
      "\n",
      "\n",
      "Credit_history: Information Value\n",
      "\n",
      "                Total  bad  good   bad_per  good_per        IV\n",
      "Credit_history                                                \n",
      "A30                40   25    15  0.083333  0.021429  0.084074\n",
      "A31                49   28    21  0.093333  0.030000  0.071882\n",
      "A32               530  169   361  0.563333  0.515714  0.004206\n",
      "A33                88   28    60  0.093333  0.085714  0.000649\n",
      "A34               293   50   243  0.166667  0.347143  0.132423\n",
      "\t\t\t\tIV_total:  0.2932335473908263\n",
      "\n",
      "\n",
      "Purpose: Information Value\n",
      "\n",
      "         Total  bad  good   bad_per  good_per        IV\n",
      "Purpose                                                \n",
      "A40        234   89   145  0.296667  0.207143  0.032157\n",
      "A41        103   17    86  0.056667  0.122857  0.051221\n",
      "A410        12    5     7  0.016667  0.010000  0.003406\n",
      "A42        181   58   123  0.193333  0.175714  0.001684\n",
      "A43        280   62   218  0.206667  0.311429  0.042959\n",
      "A44         12    4     8  0.013333  0.011429  0.000294\n",
      "A45         22    8    14  0.026667  0.020000  0.001918\n",
      "A46         50   22    28  0.073333  0.040000  0.020205\n",
      "A48          9    1     8  0.003333  0.011429  0.009974\n",
      "A49         97   34    63  0.113333  0.090000  0.005379\n",
      "\t\t\t\tIV_total:  0.16919506567307832\n",
      "\n",
      "\n",
      "Credit_amount: Information Value\n",
      "\n",
      "                Total  bad  good   bad_per  good_per        IV\n",
      "bin_var                                                       \n",
      "[1, 100.9]        100   31    69  0.103333  0.098571  0.000225\n",
      "(100.9, 200.8]    100   30    70  0.100000  0.100000  0.000000\n",
      "(200.8, 300.7]    100   26    74  0.086667  0.105714  0.003784\n",
      "(300.7, 400.6]    100   22    78  0.073333  0.111429  0.015938\n",
      "(400.6, 500.5]    100   30    70  0.100000  0.100000  0.000000\n",
      "(500.5, 600.4]    100   24    76  0.080000  0.108571  0.008725\n",
      "(600.4, 700.3]    100   23    77  0.076667  0.110000  0.012034\n",
      "(700.3, 800.2]    100   29    71  0.096667  0.101429  0.000229\n",
      "(800.2, 900.1]    100   38    62  0.126667  0.088571  0.013629\n",
      "(900.1, 1000]     100   47    53  0.156667  0.075714  0.058865\n",
      "\t\t\t\tIV_total:  0.11342803024552867\n",
      "\n",
      "\n",
      "Savings_Account: Information Value\n",
      "\n",
      "                 Total  bad  good   bad_per  good_per        IV\n",
      "Savings_Account                                                \n",
      "A61                603  217   386  0.723333  0.551429  0.046648\n",
      "A62                103   34    69  0.113333  0.098571  0.002060\n",
      "A63                 63   11    52  0.036667  0.074286  0.026561\n",
      "A64                 48    6    42  0.020000  0.060000  0.043944\n",
      "A65                183   32   151  0.106667  0.215714  0.076796\n",
      "\t\t\t\tIV_total:  0.19600955690422672\n",
      "\n",
      "\n",
      "Present_Employment_since: Information Value\n",
      "\n",
      "                          Total  bad  good   bad_per  good_per        IV\n",
      "Present_Employment_since                                                \n",
      "A71                          62   23    39  0.076667  0.055714  0.006689\n",
      "A72                         172   70   102  0.233333  0.145714  0.041253\n",
      "A73                         339  104   235  0.346667  0.335714  0.000352\n",
      "A74                         174   39   135  0.130000  0.192857  0.024792\n",
      "A75                         253   64   189  0.213333  0.270000  0.013349\n",
      "\t\t\t\tIV_total:  0.086433631026641\n",
      "\n",
      "\n",
      "Installment_rate_in_percentage_of_disposable_in_come: Information Value\n",
      "\n",
      "                Total  bad  good   bad_per  good_per        IV\n",
      "bin_var                                                       \n",
      "[1, 100.9]        100   26    74  0.086667  0.105714  0.003784\n",
      "(100.9, 200.8]    100   21    79  0.070000  0.112857  0.020470\n",
      "(200.8, 300.7]    100   27    73  0.090000  0.104286  0.002105\n",
      "(300.7, 400.6]    100   30    70  0.100000  0.100000  0.000000\n",
      "(400.6, 500.5]    100   29    71  0.096667  0.101429  0.000229\n",
      "(500.5, 600.4]    100   29    71  0.096667  0.101429  0.000229\n",
      "(600.4, 700.3]    100   39    61  0.130000  0.087143  0.017142\n",
      "(700.3, 800.2]    100   31    69  0.103333  0.098571  0.000225\n",
      "(800.2, 900.1]    100   39    61  0.130000  0.087143  0.017142\n",
      "(900.1, 1000]     100   29    71  0.096667  0.101429  0.000229\n",
      "\t\t\t\tIV_total:  0.061554683786294126\n",
      "\n",
      "\n",
      "Personal_status_and_sex: Information Value\n",
      "\n",
      "                         Total  bad  good   bad_per  good_per        IV\n",
      "Personal_status_and_sex                                                \n",
      "A91                         50   20    30  0.066667  0.042857  0.010520\n",
      "A92                        310  109   201  0.363333  0.287143  0.017931\n",
      "A93                        548  146   402  0.486667  0.574286  0.014505\n",
      "A94                         92   25    67  0.083333  0.095714  0.001715\n",
      "\t\t\t\tIV_total:  0.04467067763379073\n",
      "\n",
      "\n",
      "Other_debtars: Information Value\n",
      "\n"
     ]
    },
    {
     "ename": "KeyError",
     "evalue": "'Other_debtars'",
     "output_type": "error",
     "traceback": [
      "\u001b[0;31m---------------------------------------------------------------------------\u001b[0m",
      "\u001b[0;31mKeyError\u001b[0m                                  Traceback (most recent call last)",
      "\u001b[0;32mC:\\ProgramData\\Anaconda3\\lib\\site-packages\\pandas\\indexes\\base.py\u001b[0m in \u001b[0;36mget_loc\u001b[0;34m(self, key, method, tolerance)\u001b[0m\n\u001b[1;32m   2133\u001b[0m             \u001b[1;32mtry\u001b[0m\u001b[1;33m:\u001b[0m\u001b[1;33m\u001b[0m\u001b[0m\n\u001b[0;32m-> 2134\u001b[0;31m                 \u001b[1;32mreturn\u001b[0m \u001b[0mself\u001b[0m\u001b[1;33m.\u001b[0m\u001b[0m_engine\u001b[0m\u001b[1;33m.\u001b[0m\u001b[0mget_loc\u001b[0m\u001b[1;33m(\u001b[0m\u001b[0mkey\u001b[0m\u001b[1;33m)\u001b[0m\u001b[1;33m\u001b[0m\u001b[0m\n\u001b[0m\u001b[1;32m   2135\u001b[0m             \u001b[1;32mexcept\u001b[0m \u001b[0mKeyError\u001b[0m\u001b[1;33m:\u001b[0m\u001b[1;33m\u001b[0m\u001b[0m\n",
      "\u001b[0;32mpandas\\index.pyx\u001b[0m in \u001b[0;36mpandas.index.IndexEngine.get_loc (pandas\\index.c:4433)\u001b[0;34m()\u001b[0m\n",
      "\u001b[0;32mpandas\\index.pyx\u001b[0m in \u001b[0;36mpandas.index.IndexEngine.get_loc (pandas\\index.c:4279)\u001b[0;34m()\u001b[0m\n",
      "\u001b[0;32mpandas\\src\\hashtable_class_helper.pxi\u001b[0m in \u001b[0;36mpandas.hashtable.PyObjectHashTable.get_item (pandas\\hashtable.c:13742)\u001b[0;34m()\u001b[0m\n",
      "\u001b[0;32mpandas\\src\\hashtable_class_helper.pxi\u001b[0m in \u001b[0;36mpandas.hashtable.PyObjectHashTable.get_item (pandas\\hashtable.c:13696)\u001b[0;34m()\u001b[0m\n",
      "\u001b[0;31mKeyError\u001b[0m: 'Other_debtars'",
      "\nDuring handling of the above exception, another exception occurred:\n",
      "\u001b[0;31mKeyError\u001b[0m                                  Traceback (most recent call last)",
      "\u001b[0;32m<ipython-input-7-2cc7adf0f140>\u001b[0m in \u001b[0;36m<module>\u001b[0;34m()\u001b[0m\n\u001b[1;32m     10\u001b[0m \u001b[1;32mfor\u001b[0m \u001b[0mvar\u001b[0m \u001b[1;32min\u001b[0m \u001b[0mcolumns\u001b[0m\u001b[1;33m:\u001b[0m\u001b[1;33m\u001b[0m\u001b[0m\n\u001b[1;32m     11\u001b[0m     \u001b[0mprint\u001b[0m\u001b[1;33m(\u001b[0m\u001b[1;34m\"\\n\\n\"\u001b[0m\u001b[1;33m+\u001b[0m \u001b[0mstr\u001b[0m\u001b[1;33m(\u001b[0m\u001b[0mvar\u001b[0m\u001b[1;33m)\u001b[0m \u001b[1;33m+\u001b[0m\u001b[1;34m\": Information Value\\n\"\u001b[0m\u001b[1;33m)\u001b[0m\u001b[1;33m\u001b[0m\u001b[0m\n\u001b[0;32m---> 12\u001b[0;31m     \u001b[0mprint\u001b[0m\u001b[1;33m(\u001b[0m\u001b[0mIV_calc\u001b[0m\u001b[1;33m(\u001b[0m\u001b[0mcredit_data\u001b[0m\u001b[1;33m,\u001b[0m\u001b[0mvar\u001b[0m\u001b[1;33m)\u001b[0m\u001b[1;33m)\u001b[0m\u001b[1;33m\u001b[0m\u001b[0m\n\u001b[0m\u001b[1;32m     13\u001b[0m     \u001b[0mprint\u001b[0m\u001b[1;33m(\u001b[0m\u001b[1;34m\"\\t\\t\\t\\tIV_total:  \"\u001b[0m \u001b[1;33m+\u001b[0m \u001b[0mstr\u001b[0m\u001b[1;33m(\u001b[0m\u001b[0mIV_calc\u001b[0m\u001b[1;33m(\u001b[0m\u001b[0mcredit_data\u001b[0m\u001b[1;33m,\u001b[0m\u001b[0mvar\u001b[0m\u001b[1;33m)\u001b[0m\u001b[1;33m[\u001b[0m\u001b[1;34m'IV'\u001b[0m\u001b[1;33m]\u001b[0m\u001b[1;33m.\u001b[0m\u001b[0msum\u001b[0m\u001b[1;33m(\u001b[0m\u001b[1;33m)\u001b[0m\u001b[1;33m)\u001b[0m\u001b[1;33m)\u001b[0m\u001b[1;33m\u001b[0m\u001b[0m\n\u001b[1;32m     14\u001b[0m \u001b[1;33m\u001b[0m\u001b[0m\n",
      "\u001b[0;32m<ipython-input-4-ecb8be747342>\u001b[0m in \u001b[0;36mIV_calc\u001b[0;34m(data, var)\u001b[0m\n\u001b[1;32m      1\u001b[0m \u001b[1;32mdef\u001b[0m \u001b[0mIV_calc\u001b[0m\u001b[1;33m(\u001b[0m\u001b[0mdata\u001b[0m\u001b[1;33m,\u001b[0m\u001b[0mvar\u001b[0m\u001b[1;33m)\u001b[0m\u001b[1;33m:\u001b[0m\u001b[1;33m\u001b[0m\u001b[0m\n\u001b[0;32m----> 2\u001b[0;31m     \u001b[1;32mif\u001b[0m \u001b[0mdata\u001b[0m\u001b[1;33m[\u001b[0m\u001b[0mvar\u001b[0m\u001b[1;33m]\u001b[0m\u001b[1;33m.\u001b[0m\u001b[0mdtypes\u001b[0m \u001b[1;33m==\u001b[0m \u001b[1;34m'object'\u001b[0m\u001b[1;33m:\u001b[0m\u001b[1;33m\u001b[0m\u001b[0m\n\u001b[0m\u001b[1;32m      3\u001b[0m         \u001b[0mdataf\u001b[0m \u001b[1;33m=\u001b[0m \u001b[0mdata\u001b[0m\u001b[1;33m.\u001b[0m\u001b[0mgroupby\u001b[0m\u001b[1;33m(\u001b[0m\u001b[1;33m[\u001b[0m\u001b[0mvar\u001b[0m\u001b[1;33m]\u001b[0m\u001b[1;33m)\u001b[0m\u001b[1;33m[\u001b[0m\u001b[1;34m'class'\u001b[0m\u001b[1;33m]\u001b[0m\u001b[1;33m.\u001b[0m\u001b[0magg\u001b[0m\u001b[1;33m(\u001b[0m\u001b[1;33m[\u001b[0m\u001b[1;34m'count'\u001b[0m\u001b[1;33m,\u001b[0m\u001b[1;34m'sum'\u001b[0m\u001b[1;33m]\u001b[0m\u001b[1;33m)\u001b[0m\u001b[1;33m\u001b[0m\u001b[0m\n\u001b[1;32m      4\u001b[0m         \u001b[0mdataf\u001b[0m\u001b[1;33m.\u001b[0m\u001b[0mcolumns\u001b[0m \u001b[1;33m=\u001b[0m \u001b[1;33m[\u001b[0m\u001b[1;34m\"Total\"\u001b[0m\u001b[1;33m,\u001b[0m\u001b[1;34m\"bad\"\u001b[0m\u001b[1;33m]\u001b[0m\u001b[1;33m\u001b[0m\u001b[0m\n\u001b[1;32m      5\u001b[0m         \u001b[0mdataf\u001b[0m\u001b[1;33m[\u001b[0m\u001b[1;34m\"good\"\u001b[0m\u001b[1;33m]\u001b[0m \u001b[1;33m=\u001b[0m \u001b[0mdataf\u001b[0m\u001b[1;33m[\u001b[0m\u001b[1;34m'Total'\u001b[0m\u001b[1;33m]\u001b[0m \u001b[1;33m-\u001b[0m \u001b[0mdataf\u001b[0m\u001b[1;33m[\u001b[0m\u001b[1;34m'bad'\u001b[0m\u001b[1;33m]\u001b[0m\u001b[1;33m\u001b[0m\u001b[0m\n",
      "\u001b[0;32mC:\\ProgramData\\Anaconda3\\lib\\site-packages\\pandas\\core\\frame.py\u001b[0m in \u001b[0;36m__getitem__\u001b[0;34m(self, key)\u001b[0m\n\u001b[1;32m   2057\u001b[0m             \u001b[1;32mreturn\u001b[0m \u001b[0mself\u001b[0m\u001b[1;33m.\u001b[0m\u001b[0m_getitem_multilevel\u001b[0m\u001b[1;33m(\u001b[0m\u001b[0mkey\u001b[0m\u001b[1;33m)\u001b[0m\u001b[1;33m\u001b[0m\u001b[0m\n\u001b[1;32m   2058\u001b[0m         \u001b[1;32melse\u001b[0m\u001b[1;33m:\u001b[0m\u001b[1;33m\u001b[0m\u001b[0m\n\u001b[0;32m-> 2059\u001b[0;31m             \u001b[1;32mreturn\u001b[0m \u001b[0mself\u001b[0m\u001b[1;33m.\u001b[0m\u001b[0m_getitem_column\u001b[0m\u001b[1;33m(\u001b[0m\u001b[0mkey\u001b[0m\u001b[1;33m)\u001b[0m\u001b[1;33m\u001b[0m\u001b[0m\n\u001b[0m\u001b[1;32m   2060\u001b[0m \u001b[1;33m\u001b[0m\u001b[0m\n\u001b[1;32m   2061\u001b[0m     \u001b[1;32mdef\u001b[0m \u001b[0m_getitem_column\u001b[0m\u001b[1;33m(\u001b[0m\u001b[0mself\u001b[0m\u001b[1;33m,\u001b[0m \u001b[0mkey\u001b[0m\u001b[1;33m)\u001b[0m\u001b[1;33m:\u001b[0m\u001b[1;33m\u001b[0m\u001b[0m\n",
      "\u001b[0;32mC:\\ProgramData\\Anaconda3\\lib\\site-packages\\pandas\\core\\frame.py\u001b[0m in \u001b[0;36m_getitem_column\u001b[0;34m(self, key)\u001b[0m\n\u001b[1;32m   2064\u001b[0m         \u001b[1;31m# get column\u001b[0m\u001b[1;33m\u001b[0m\u001b[1;33m\u001b[0m\u001b[0m\n\u001b[1;32m   2065\u001b[0m         \u001b[1;32mif\u001b[0m \u001b[0mself\u001b[0m\u001b[1;33m.\u001b[0m\u001b[0mcolumns\u001b[0m\u001b[1;33m.\u001b[0m\u001b[0mis_unique\u001b[0m\u001b[1;33m:\u001b[0m\u001b[1;33m\u001b[0m\u001b[0m\n\u001b[0;32m-> 2066\u001b[0;31m             \u001b[1;32mreturn\u001b[0m \u001b[0mself\u001b[0m\u001b[1;33m.\u001b[0m\u001b[0m_get_item_cache\u001b[0m\u001b[1;33m(\u001b[0m\u001b[0mkey\u001b[0m\u001b[1;33m)\u001b[0m\u001b[1;33m\u001b[0m\u001b[0m\n\u001b[0m\u001b[1;32m   2067\u001b[0m \u001b[1;33m\u001b[0m\u001b[0m\n\u001b[1;32m   2068\u001b[0m         \u001b[1;31m# duplicate columns & possible reduce dimensionality\u001b[0m\u001b[1;33m\u001b[0m\u001b[1;33m\u001b[0m\u001b[0m\n",
      "\u001b[0;32mC:\\ProgramData\\Anaconda3\\lib\\site-packages\\pandas\\core\\generic.py\u001b[0m in \u001b[0;36m_get_item_cache\u001b[0;34m(self, item)\u001b[0m\n\u001b[1;32m   1384\u001b[0m         \u001b[0mres\u001b[0m \u001b[1;33m=\u001b[0m \u001b[0mcache\u001b[0m\u001b[1;33m.\u001b[0m\u001b[0mget\u001b[0m\u001b[1;33m(\u001b[0m\u001b[0mitem\u001b[0m\u001b[1;33m)\u001b[0m\u001b[1;33m\u001b[0m\u001b[0m\n\u001b[1;32m   1385\u001b[0m         \u001b[1;32mif\u001b[0m \u001b[0mres\u001b[0m \u001b[1;32mis\u001b[0m \u001b[1;32mNone\u001b[0m\u001b[1;33m:\u001b[0m\u001b[1;33m\u001b[0m\u001b[0m\n\u001b[0;32m-> 1386\u001b[0;31m             \u001b[0mvalues\u001b[0m \u001b[1;33m=\u001b[0m \u001b[0mself\u001b[0m\u001b[1;33m.\u001b[0m\u001b[0m_data\u001b[0m\u001b[1;33m.\u001b[0m\u001b[0mget\u001b[0m\u001b[1;33m(\u001b[0m\u001b[0mitem\u001b[0m\u001b[1;33m)\u001b[0m\u001b[1;33m\u001b[0m\u001b[0m\n\u001b[0m\u001b[1;32m   1387\u001b[0m             \u001b[0mres\u001b[0m \u001b[1;33m=\u001b[0m \u001b[0mself\u001b[0m\u001b[1;33m.\u001b[0m\u001b[0m_box_item_values\u001b[0m\u001b[1;33m(\u001b[0m\u001b[0mitem\u001b[0m\u001b[1;33m,\u001b[0m \u001b[0mvalues\u001b[0m\u001b[1;33m)\u001b[0m\u001b[1;33m\u001b[0m\u001b[0m\n\u001b[1;32m   1388\u001b[0m             \u001b[0mcache\u001b[0m\u001b[1;33m[\u001b[0m\u001b[0mitem\u001b[0m\u001b[1;33m]\u001b[0m \u001b[1;33m=\u001b[0m \u001b[0mres\u001b[0m\u001b[1;33m\u001b[0m\u001b[0m\n",
      "\u001b[0;32mC:\\ProgramData\\Anaconda3\\lib\\site-packages\\pandas\\core\\internals.py\u001b[0m in \u001b[0;36mget\u001b[0;34m(self, item, fastpath)\u001b[0m\n\u001b[1;32m   3541\u001b[0m \u001b[1;33m\u001b[0m\u001b[0m\n\u001b[1;32m   3542\u001b[0m             \u001b[1;32mif\u001b[0m \u001b[1;32mnot\u001b[0m \u001b[0misnull\u001b[0m\u001b[1;33m(\u001b[0m\u001b[0mitem\u001b[0m\u001b[1;33m)\u001b[0m\u001b[1;33m:\u001b[0m\u001b[1;33m\u001b[0m\u001b[0m\n\u001b[0;32m-> 3543\u001b[0;31m                 \u001b[0mloc\u001b[0m \u001b[1;33m=\u001b[0m \u001b[0mself\u001b[0m\u001b[1;33m.\u001b[0m\u001b[0mitems\u001b[0m\u001b[1;33m.\u001b[0m\u001b[0mget_loc\u001b[0m\u001b[1;33m(\u001b[0m\u001b[0mitem\u001b[0m\u001b[1;33m)\u001b[0m\u001b[1;33m\u001b[0m\u001b[0m\n\u001b[0m\u001b[1;32m   3544\u001b[0m             \u001b[1;32melse\u001b[0m\u001b[1;33m:\u001b[0m\u001b[1;33m\u001b[0m\u001b[0m\n\u001b[1;32m   3545\u001b[0m                 \u001b[0mindexer\u001b[0m \u001b[1;33m=\u001b[0m \u001b[0mnp\u001b[0m\u001b[1;33m.\u001b[0m\u001b[0marange\u001b[0m\u001b[1;33m(\u001b[0m\u001b[0mlen\u001b[0m\u001b[1;33m(\u001b[0m\u001b[0mself\u001b[0m\u001b[1;33m.\u001b[0m\u001b[0mitems\u001b[0m\u001b[1;33m)\u001b[0m\u001b[1;33m)\u001b[0m\u001b[1;33m[\u001b[0m\u001b[0misnull\u001b[0m\u001b[1;33m(\u001b[0m\u001b[0mself\u001b[0m\u001b[1;33m.\u001b[0m\u001b[0mitems\u001b[0m\u001b[1;33m)\u001b[0m\u001b[1;33m]\u001b[0m\u001b[1;33m\u001b[0m\u001b[0m\n",
      "\u001b[0;32mC:\\ProgramData\\Anaconda3\\lib\\site-packages\\pandas\\indexes\\base.py\u001b[0m in \u001b[0;36mget_loc\u001b[0;34m(self, key, method, tolerance)\u001b[0m\n\u001b[1;32m   2134\u001b[0m                 \u001b[1;32mreturn\u001b[0m \u001b[0mself\u001b[0m\u001b[1;33m.\u001b[0m\u001b[0m_engine\u001b[0m\u001b[1;33m.\u001b[0m\u001b[0mget_loc\u001b[0m\u001b[1;33m(\u001b[0m\u001b[0mkey\u001b[0m\u001b[1;33m)\u001b[0m\u001b[1;33m\u001b[0m\u001b[0m\n\u001b[1;32m   2135\u001b[0m             \u001b[1;32mexcept\u001b[0m \u001b[0mKeyError\u001b[0m\u001b[1;33m:\u001b[0m\u001b[1;33m\u001b[0m\u001b[0m\n\u001b[0;32m-> 2136\u001b[0;31m                 \u001b[1;32mreturn\u001b[0m \u001b[0mself\u001b[0m\u001b[1;33m.\u001b[0m\u001b[0m_engine\u001b[0m\u001b[1;33m.\u001b[0m\u001b[0mget_loc\u001b[0m\u001b[1;33m(\u001b[0m\u001b[0mself\u001b[0m\u001b[1;33m.\u001b[0m\u001b[0m_maybe_cast_indexer\u001b[0m\u001b[1;33m(\u001b[0m\u001b[0mkey\u001b[0m\u001b[1;33m)\u001b[0m\u001b[1;33m)\u001b[0m\u001b[1;33m\u001b[0m\u001b[0m\n\u001b[0m\u001b[1;32m   2137\u001b[0m \u001b[1;33m\u001b[0m\u001b[0m\n\u001b[1;32m   2138\u001b[0m         \u001b[0mindexer\u001b[0m \u001b[1;33m=\u001b[0m \u001b[0mself\u001b[0m\u001b[1;33m.\u001b[0m\u001b[0mget_indexer\u001b[0m\u001b[1;33m(\u001b[0m\u001b[1;33m[\u001b[0m\u001b[0mkey\u001b[0m\u001b[1;33m]\u001b[0m\u001b[1;33m,\u001b[0m \u001b[0mmethod\u001b[0m\u001b[1;33m=\u001b[0m\u001b[0mmethod\u001b[0m\u001b[1;33m,\u001b[0m \u001b[0mtolerance\u001b[0m\u001b[1;33m=\u001b[0m\u001b[0mtolerance\u001b[0m\u001b[1;33m)\u001b[0m\u001b[1;33m\u001b[0m\u001b[0m\n",
      "\u001b[0;32mpandas\\index.pyx\u001b[0m in \u001b[0;36mpandas.index.IndexEngine.get_loc (pandas\\index.c:4433)\u001b[0;34m()\u001b[0m\n",
      "\u001b[0;32mpandas\\index.pyx\u001b[0m in \u001b[0;36mpandas.index.IndexEngine.get_loc (pandas\\index.c:4279)\u001b[0;34m()\u001b[0m\n",
      "\u001b[0;32mpandas\\src\\hashtable_class_helper.pxi\u001b[0m in \u001b[0;36mpandas.hashtable.PyObjectHashTable.get_item (pandas\\hashtable.c:13742)\u001b[0;34m()\u001b[0m\n",
      "\u001b[0;32mpandas\\src\\hashtable_class_helper.pxi\u001b[0m in \u001b[0;36mpandas.hashtable.PyObjectHashTable.get_item (pandas\\hashtable.c:13696)\u001b[0;34m()\u001b[0m\n",
      "\u001b[0;31mKeyError\u001b[0m: 'Other_debtars'"
     ]
    }
   ],
   "source": [
    "columns = ['Status_of_existing_checking_account', 'Duration_in_month',\n",
    "       'Credit_history', 'Purpose', 'Credit_amount', 'Savings_Account',\n",
    "       'Present_Employment_since',\n",
    "       'Installment_rate_in_percentage_of_disposable_in_come',\n",
    "       'Personal_status_and_sex', 'Other_debtars', 'Present_residence_since',\n",
    "       'Property', 'Age_in_year', 'Other_installment_plans', 'Housing',\n",
    "       'Number_of_existing_credits_at_the_bank', 'Job',\n",
    "       'Number_of_people_being_liable_to_provide_maintenance_for', 'Telephone',\n",
    "       'Foreign_worker'];\n",
    "for var in columns:\n",
    "    print(\"\\n\\n\"+ str(var) +\": Information Value\\n\")\n",
    "    print(IV_calc(credit_data,var))\n",
    "    print(\"\\t\\t\\t\\tIV_total:  \" + str(IV_calc(credit_data,var)['IV'].sum()))\n",
    "    "
   ]
  },
  {
   "cell_type": "code",
   "execution_count": 8,
   "metadata": {
    "collapsed": false
   },
   "outputs": [],
   "source": [
    "discrete_columns = ['Status_of_existing_checking_account','Credit_history','Purpose','Savings_Account','Present_Employment_since','Personal_status_and_sex','Other_debtors','Property','Other_installment_plans','Housing','Job','Telephone','Foreign_worker']\n",
    "continuous_columns = ['Duration_in_month','Credit_amount','Installment_rate_in_percentage_of_disposable_in_come','Present_residence_since','Age_in_year','Number_of_existing_credits_at_the_bank','Number_of_people_being_liable_to_provide_maintenance_for']\n",
    "total_columns = discrete_columns + continuous_columns;\n"
   ]
  },
  {
   "cell_type": "code",
   "execution_count": 9,
   "metadata": {
    "collapsed": false
   },
   "outputs": [
    {
     "name": "stdout",
     "output_type": "stream",
     "text": [
      "20\n",
      "0.666 , Status_of_existing_checking_account ,type= object\n",
      "0.293 , Credit_history ,type= object\n",
      "0.261 , Duration_in_month ,type= int64\n",
      "0.196 , Savings_Account ,type= object\n",
      "0.169 , Purpose ,type= object\n",
      "0.113 , Property ,type= object\n",
      "0.113 , Credit_amount ,type= int64\n",
      "0.103 , Age_in_year ,type= int64\n",
      "0.098 , Number_of_existing_credits_at_the_bank ,type= int64\n",
      "0.086 , Present_Employment_since ,type= object\n",
      "0.083 , Housing ,type= object\n",
      "0.062 , Installment_rate_in_percentage_of_disposable_in_come ,type= int64\n",
      "0.058 , Other_installment_plans ,type= object\n",
      "0.049 , Present_residence_since ,type= int64\n",
      "0.045 , Personal_status_and_sex ,type= object\n",
      "0.044 , Foreign_worker ,type= object\n",
      "0.034 , Number_of_people_being_liable_to_provide_maintenance_for ,type= int64\n",
      "0.032 , Other_debtors ,type= object\n",
      "0.009 , Job ,type= object\n",
      "0.006 , Telephone ,type= object\n"
     ]
    }
   ],
   "source": [
    "IV_list = []\n",
    "for col in total_columns:\n",
    "    assigned_data = IV_calc(data=credit_data,var=col)\n",
    "    iv_val = round(assigned_data['IV'].sum(),3)\n",
    "    dt_type = credit_data[col].dtypes\n",
    "    IV_list.append((iv_val,col,dt_type))\n",
    "\n",
    "IV_list = sorted(IV_list, reverse = True)\n",
    "print(len(IV_list))\n",
    "for i in range(len(IV_list)):\n",
    "    print(IV_list[i][0], \",\", IV_list[i][1],\",type=\",IV_list[i][2])"
   ]
  },
  {
   "cell_type": "code",
   "execution_count": 10,
   "metadata": {
    "collapsed": false
   },
   "outputs": [],
   "source": [
    "dummy_stseca = pd.get_dummies(credit_data['Status_of_existing_checking_account'], prefix='status_exs_accnt')\n",
    "dummy_ch = pd.get_dummies(credit_data['Credit_history'], prefix='cred_hist')\n",
    "dummy_savacc = pd.get_dummies(credit_data['Savings_Account'], prefix='sav_acc')\n",
    "dummy_purpose = pd.get_dummies(credit_data['Purpose'], prefix = 'purpose')\n",
    "dummy_property = pd.get_dummies(credit_data['Property'], prefix='property')\n",
    "dummy_presc = pd.get_dummies(credit_data['Present_Employment_since'], prefix = 'pre_emp_snc')\n",
    "dummy_housing = pd.get_dummies(credit_data['Housing'], prefix = 'housing')\n",
    "dummy_othinstpln = pd.get_dummies(credit_data['Other_installment_plans'], prefix = 'oth_inst_pln')\n",
    "dummy_persex = pd.get_dummies(credit_data['Personal_status_and_sex'], prefix = 'per_stat_sx')"
   ]
  },
  {
   "cell_type": "code",
   "execution_count": 11,
   "metadata": {
    "collapsed": false,
    "scrolled": true
   },
   "outputs": [
    {
     "data": {
      "text/html": [
       "<div>\n",
       "<table border=\"1\" class=\"dataframe\">\n",
       "  <thead>\n",
       "    <tr style=\"text-align: right;\">\n",
       "      <th></th>\n",
       "      <th>status_exs_accnt_A11</th>\n",
       "      <th>status_exs_accnt_A12</th>\n",
       "      <th>status_exs_accnt_A13</th>\n",
       "      <th>status_exs_accnt_A14</th>\n",
       "      <th>cred_hist_A30</th>\n",
       "      <th>cred_hist_A31</th>\n",
       "      <th>cred_hist_A32</th>\n",
       "      <th>cred_hist_A33</th>\n",
       "      <th>cred_hist_A34</th>\n",
       "      <th>sav_acc_A61</th>\n",
       "      <th>...</th>\n",
       "      <th>per_stat_sx_A92</th>\n",
       "      <th>per_stat_sx_A93</th>\n",
       "      <th>per_stat_sx_A94</th>\n",
       "      <th>Duration_in_month</th>\n",
       "      <th>Credit_amount</th>\n",
       "      <th>Installment_rate_in_percentage_of_disposable_in_come</th>\n",
       "      <th>Present_residence_since</th>\n",
       "      <th>Age_in_year</th>\n",
       "      <th>Number_of_existing_credits_at_the_bank</th>\n",
       "      <th>class</th>\n",
       "    </tr>\n",
       "  </thead>\n",
       "  <tbody>\n",
       "    <tr>\n",
       "      <th>0</th>\n",
       "      <td>1</td>\n",
       "      <td>0</td>\n",
       "      <td>0</td>\n",
       "      <td>0</td>\n",
       "      <td>0</td>\n",
       "      <td>0</td>\n",
       "      <td>0</td>\n",
       "      <td>0</td>\n",
       "      <td>1</td>\n",
       "      <td>0</td>\n",
       "      <td>...</td>\n",
       "      <td>0</td>\n",
       "      <td>1</td>\n",
       "      <td>0</td>\n",
       "      <td>6</td>\n",
       "      <td>1169</td>\n",
       "      <td>4</td>\n",
       "      <td>4</td>\n",
       "      <td>67</td>\n",
       "      <td>2</td>\n",
       "      <td>0</td>\n",
       "    </tr>\n",
       "    <tr>\n",
       "      <th>1</th>\n",
       "      <td>0</td>\n",
       "      <td>1</td>\n",
       "      <td>0</td>\n",
       "      <td>0</td>\n",
       "      <td>0</td>\n",
       "      <td>0</td>\n",
       "      <td>1</td>\n",
       "      <td>0</td>\n",
       "      <td>0</td>\n",
       "      <td>1</td>\n",
       "      <td>...</td>\n",
       "      <td>1</td>\n",
       "      <td>0</td>\n",
       "      <td>0</td>\n",
       "      <td>48</td>\n",
       "      <td>5951</td>\n",
       "      <td>2</td>\n",
       "      <td>2</td>\n",
       "      <td>22</td>\n",
       "      <td>1</td>\n",
       "      <td>1</td>\n",
       "    </tr>\n",
       "    <tr>\n",
       "      <th>2</th>\n",
       "      <td>0</td>\n",
       "      <td>0</td>\n",
       "      <td>0</td>\n",
       "      <td>1</td>\n",
       "      <td>0</td>\n",
       "      <td>0</td>\n",
       "      <td>0</td>\n",
       "      <td>0</td>\n",
       "      <td>1</td>\n",
       "      <td>1</td>\n",
       "      <td>...</td>\n",
       "      <td>0</td>\n",
       "      <td>1</td>\n",
       "      <td>0</td>\n",
       "      <td>12</td>\n",
       "      <td>2096</td>\n",
       "      <td>2</td>\n",
       "      <td>3</td>\n",
       "      <td>49</td>\n",
       "      <td>1</td>\n",
       "      <td>0</td>\n",
       "    </tr>\n",
       "    <tr>\n",
       "      <th>3</th>\n",
       "      <td>1</td>\n",
       "      <td>0</td>\n",
       "      <td>0</td>\n",
       "      <td>0</td>\n",
       "      <td>0</td>\n",
       "      <td>0</td>\n",
       "      <td>1</td>\n",
       "      <td>0</td>\n",
       "      <td>0</td>\n",
       "      <td>1</td>\n",
       "      <td>...</td>\n",
       "      <td>0</td>\n",
       "      <td>1</td>\n",
       "      <td>0</td>\n",
       "      <td>42</td>\n",
       "      <td>7882</td>\n",
       "      <td>2</td>\n",
       "      <td>4</td>\n",
       "      <td>45</td>\n",
       "      <td>1</td>\n",
       "      <td>0</td>\n",
       "    </tr>\n",
       "    <tr>\n",
       "      <th>4</th>\n",
       "      <td>1</td>\n",
       "      <td>0</td>\n",
       "      <td>0</td>\n",
       "      <td>0</td>\n",
       "      <td>0</td>\n",
       "      <td>0</td>\n",
       "      <td>0</td>\n",
       "      <td>1</td>\n",
       "      <td>0</td>\n",
       "      <td>1</td>\n",
       "      <td>...</td>\n",
       "      <td>0</td>\n",
       "      <td>1</td>\n",
       "      <td>0</td>\n",
       "      <td>24</td>\n",
       "      <td>4870</td>\n",
       "      <td>3</td>\n",
       "      <td>4</td>\n",
       "      <td>53</td>\n",
       "      <td>2</td>\n",
       "      <td>1</td>\n",
       "    </tr>\n",
       "  </tbody>\n",
       "</table>\n",
       "<p>5 rows × 50 columns</p>\n",
       "</div>"
      ],
      "text/plain": [
       "   status_exs_accnt_A11  status_exs_accnt_A12  status_exs_accnt_A13  \\\n",
       "0                     1                     0                     0   \n",
       "1                     0                     1                     0   \n",
       "2                     0                     0                     0   \n",
       "3                     1                     0                     0   \n",
       "4                     1                     0                     0   \n",
       "\n",
       "   status_exs_accnt_A14  cred_hist_A30  cred_hist_A31  cred_hist_A32  \\\n",
       "0                     0              0              0              0   \n",
       "1                     0              0              0              1   \n",
       "2                     1              0              0              0   \n",
       "3                     0              0              0              1   \n",
       "4                     0              0              0              0   \n",
       "\n",
       "   cred_hist_A33  cred_hist_A34  sav_acc_A61  ...    per_stat_sx_A92  \\\n",
       "0              0              1            0  ...                  0   \n",
       "1              0              0            1  ...                  1   \n",
       "2              0              1            1  ...                  0   \n",
       "3              0              0            1  ...                  0   \n",
       "4              1              0            1  ...                  0   \n",
       "\n",
       "   per_stat_sx_A93  per_stat_sx_A94  Duration_in_month  Credit_amount  \\\n",
       "0                1                0                  6           1169   \n",
       "1                0                0                 48           5951   \n",
       "2                1                0                 12           2096   \n",
       "3                1                0                 42           7882   \n",
       "4                1                0                 24           4870   \n",
       "\n",
       "   Installment_rate_in_percentage_of_disposable_in_come  \\\n",
       "0                                                  4      \n",
       "1                                                  2      \n",
       "2                                                  2      \n",
       "3                                                  2      \n",
       "4                                                  3      \n",
       "\n",
       "   Present_residence_since  Age_in_year  \\\n",
       "0                        4           67   \n",
       "1                        2           22   \n",
       "2                        3           49   \n",
       "3                        4           45   \n",
       "4                        4           53   \n",
       "\n",
       "   Number_of_existing_credits_at_the_bank  class  \n",
       "0                                       2      0  \n",
       "1                                       1      1  \n",
       "2                                       1      0  \n",
       "3                                       1      0  \n",
       "4                                       2      1  \n",
       "\n",
       "[5 rows x 50 columns]"
      ]
     },
     "execution_count": 11,
     "metadata": {},
     "output_type": "execute_result"
    }
   ],
   "source": [
    "continuous_columns = ['Duration_in_month','Credit_amount','Installment_rate_in_percentage_of_disposable_in_come','Present_residence_since','Age_in_year','Number_of_existing_credits_at_the_bank']\n",
    "credit_continuous = credit_data[continuous_columns]\n",
    "credit_data_new= pd.concat([dummy_stseca,dummy_ch, dummy_savacc,dummy_purpose,dummy_property,dummy_presc,dummy_housing, dummy_othinstpln,dummy_persex,credit_continuous,credit_data['class']],axis=1)\n",
    "credit_data_new.head()"
   ]
  },
  {
   "cell_type": "code",
   "execution_count": 12,
   "metadata": {
    "collapsed": false
   },
   "outputs": [],
   "source": [
    "x_train,x_test,y_train,y_test = train_test_split(credit_data_new.drop(['class'],axis=1),credit_data_new['class'],train_size=0.7,random_state=42)\n",
    "y_train = pd.DataFrame(y_train)\n",
    "y_test = pd.DataFrame(y_test)"
   ]
  },
  {
   "cell_type": "code",
   "execution_count": 13,
   "metadata": {
    "collapsed": true
   },
   "outputs": [],
   "source": [
    "remove_cols_extra_dummy = ['status_exs_accnt_A11', 'cred_hist_A30',\n",
    "'purpose_A40', 'sav_acc_A61','pre_emp_snc_A71','per_stat_sx_A91',\n",
    "'property_A121', 'oth_inst_pln_A141','housing_A151']\n",
    "\n",
    "remove_cols_insig = []\n",
    "remove_cols = list(set(remove_cols_extra_dummy + remove_cols_insig))"
   ]
  },
  {
   "cell_type": "code",
   "execution_count": 14,
   "metadata": {
    "collapsed": false
   },
   "outputs": [
    {
     "name": "stdout",
     "output_type": "stream",
     "text": [
      "Optimization terminated successfully.\n",
      "         Current function value: 0.459405\n",
      "         Iterations 7\n",
      "                           Logit Regression Results                           \n",
      "==============================================================================\n",
      "Dep. Variable:                  class   No. Observations:                  700\n",
      "Model:                          Logit   Df Residuals:                      659\n",
      "Method:                           MLE   Df Model:                           40\n",
      "Date:                Sun, 19 Apr 2020   Pseudo R-squ.:                  0.2464\n",
      "Time:                        22:10:24   Log-Likelihood:                -321.58\n",
      "converged:                       True   LL-Null:                       -426.75\n",
      "                                        LLR p-value:                 5.512e-25\n",
      "========================================================================================================================\n",
      "                                                           coef    std err          z      P>|z|      [95.0% Conf. Int.]\n",
      "------------------------------------------------------------------------------------------------------------------------\n",
      "const                                                    0.9186      1.136      0.808      0.419        -1.308     3.146\n",
      "status_exs_accnt_A12                                    -0.2845      0.258     -1.103      0.270        -0.790     0.221\n",
      "status_exs_accnt_A13                                    -0.8891      0.454     -1.958      0.050        -1.779     0.001\n",
      "status_exs_accnt_A14                                    -1.4659      0.273     -5.378      0.000        -2.000    -0.932\n",
      "cred_hist_A31                                            0.0779      0.623      0.125      0.901        -1.144     1.300\n",
      "cred_hist_A32                                           -0.4312      0.472     -0.914      0.361        -1.356     0.493\n",
      "cred_hist_A33                                           -0.9918      0.531     -1.868      0.062        -2.032     0.049\n",
      "cred_hist_A34                                           -1.4523      0.485     -2.997      0.003        -2.402    -0.503\n",
      "sav_acc_A62                                             -0.2795      0.339     -0.825      0.409        -0.944     0.385\n",
      "sav_acc_A63                                             -0.6528      0.479     -1.363      0.173        -1.591     0.286\n",
      "sav_acc_A64                                             -1.0275      0.604     -1.701      0.089        -2.211     0.156\n",
      "sav_acc_A65                                             -0.6558      0.293     -2.235      0.025        -1.231    -0.081\n",
      "purpose_A41                                             -1.6088      0.425     -3.788      0.000        -2.441    -0.776\n",
      "purpose_A410                                            -1.1081      0.803     -1.379      0.168        -2.683     0.467\n",
      "purpose_A42                                             -1.0503      0.319     -3.292      0.001        -1.676    -0.425\n",
      "purpose_A43                                             -1.0584      0.290     -3.656      0.000        -1.626    -0.491\n",
      "purpose_A44                                             -0.4632      0.774     -0.599      0.549        -1.980     1.054\n",
      "purpose_A45                                             -0.6062      0.634     -0.956      0.339        -1.849     0.637\n",
      "purpose_A46                                              0.1670      0.495      0.337      0.736        -0.803     1.137\n",
      "purpose_A48                                             -1.9132      1.203     -1.590      0.112        -4.272     0.446\n",
      "purpose_A49                                             -0.5280      0.392     -1.346      0.178        -1.297     0.241\n",
      "property_A122                                            0.4408      0.297      1.482      0.138        -0.142     1.024\n",
      "property_A123                                            0.3777      0.271      1.392      0.164        -0.154     0.910\n",
      "property_A124                                            0.8525      0.500      1.704      0.088        -0.128     1.833\n",
      "pre_emp_snc_A72                                          0.0259      0.444      0.058      0.953        -0.844     0.896\n",
      "pre_emp_snc_A73                                         -0.0578      0.413     -0.140      0.889        -0.867     0.752\n",
      "pre_emp_snc_A74                                         -0.4051      0.457     -0.887      0.375        -1.300     0.490\n",
      "pre_emp_snc_A75                                         -0.2484      0.439     -0.565      0.572        -1.110     0.613\n",
      "housing_A152                                            -0.3707      0.284     -1.304      0.192        -0.928     0.186\n",
      "housing_A153                                            -0.1480      0.566     -0.261      0.794        -1.258     0.962\n",
      "oth_inst_pln_A142                                       -0.0609      0.536     -0.114      0.910        -1.112     0.990\n",
      "oth_inst_pln_A143                                       -0.5046      0.288     -1.750      0.080        -1.070     0.061\n",
      "per_stat_sx_A92                                         -0.2228      0.501     -0.445      0.656        -1.205     0.759\n",
      "per_stat_sx_A93                                         -0.6530      0.488     -1.339      0.180        -1.609     0.303\n",
      "per_stat_sx_A94                                         -0.2498      0.583     -0.429      0.668        -1.392     0.892\n",
      "Duration_in_month                                        0.0215      0.011      1.977      0.048         0.000     0.043\n",
      "Credit_amount                                            0.0001   4.76e-05      2.216      0.027      1.22e-05     0.000\n",
      "Installment_rate_in_percentage_of_disposable_in_come     0.3372      0.103      3.279      0.001         0.136     0.539\n",
      "Present_residence_since                                  0.0260      0.102      0.256      0.798        -0.173     0.225\n",
      "Age_in_year                                             -0.0313      0.011     -2.754      0.006        -0.054    -0.009\n",
      "Number_of_existing_credits_at_the_bank                   0.3261      0.222      1.468      0.142        -0.109     0.761\n",
      "========================================================================================================================\n"
     ]
    }
   ],
   "source": [
    "import statsmodels.api as sm\n",
    "logistic_model = sm.Logit(y_train,sm.add_constant(x_train.drop(remove_cols,axis =1))).fit()\n",
    "print(logistic_model.summary())"
   ]
  },
  {
   "cell_type": "code",
   "execution_count": 17,
   "metadata": {
    "collapsed": false
   },
   "outputs": [
    {
     "name": "stdout",
     "output_type": "stream",
     "text": [
      "\n",
      " Variance Inflation Factor\n",
      "status_exs_accnt_A12 1.703\n",
      "status_exs_accnt_A13 1.239\n",
      "status_exs_accnt_A14 1.822\n",
      "cred_hist_A31 2.192\n",
      "cred_hist_A32 6.935\n",
      "cred_hist_A33 2.901\n",
      "cred_hist_A34 6.0\n",
      "sav_acc_A62 1.148\n",
      "sav_acc_A63 1.102\n",
      "sav_acc_A64 1.102\n",
      "sav_acc_A65 1.182\n",
      "purpose_A41 1.407\n",
      "purpose_A410 1.173\n",
      "purpose_A42 1.553\n",
      "purpose_A43 1.723\n",
      "purpose_A44 1.079\n",
      "purpose_A45 1.119\n",
      "purpose_A46 1.194\n",
      "purpose_A48 1.095\n",
      "purpose_A49 1.48\n",
      "property_A122 1.553\n",
      "property_A123 1.651\n",
      "property_A124 3.423\n",
      "pre_emp_snc_A72 3.276\n",
      "pre_emp_snc_A73 4.353\n",
      "pre_emp_snc_A74 3.338\n",
      "pre_emp_snc_A75 3.94\n",
      "housing_A152 1.818\n",
      "housing_A153 3.417\n",
      "oth_inst_pln_A142 1.317\n",
      "oth_inst_pln_A143 1.395\n",
      "per_stat_sx_A92 6.42\n",
      "per_stat_sx_A93 6.949\n",
      "per_stat_sx_A94 3.269\n",
      "Duration_in_month 2.013\n",
      "Credit_amount 2.465\n",
      "Installment_rate_in_percentage_of_disposable_in_come 1.331\n",
      "Present_residence_since 1.336\n",
      "Age_in_year 1.483\n",
      "Number_of_existing_credits_at_the_bank 1.562\n"
     ]
    }
   ],
   "source": [
    "print(\"\\n Variance Inflation Factor\")\n",
    "cnames = x_train.drop(remove_cols,axis=1).columns \n",
    "for i in np.arange(0, len(cnames)):\n",
    "    xvars = list(cnames)\n",
    "    yvar = xvars.pop(i)\n",
    "    mod = sm.OLS(x_train.drop(remove_cols,axis=1)[yvar], sm.add_constant(x_train.drop(remove_cols,axis=1)[xvars]))\n",
    "    res = mod.fit()\n",
    "    vif = 1/(1-res.rsquared)\n",
    "    print(yvar, round(vif,3))"
   ]
  },
  {
   "cell_type": "markdown",
   "metadata": {},
   "source": [
    "# Calculation of C-statistics"
   ]
  },
  {
   "cell_type": "code",
   "execution_count": 23,
   "metadata": {
    "collapsed": false
   },
   "outputs": [],
   "source": [
    "y_pred = pd.DataFrame(logistic_model.predict(sm.add_constant(x_train.drop(remove_cols,axis=1))))\n",
    "y_pred.columns = [\"probs\"]\n",
    "both = pd.concat([y_train,y_pred],axis=1)"
   ]
  },
  {
   "cell_type": "code",
   "execution_count": 28,
   "metadata": {
    "collapsed": false
   },
   "outputs": [],
   "source": [
    "zeros = both[['class','probs']][both['class']==0]\n",
    "ones = both[['class','probs']][both['class']==1]\n",
    "def df_crossjoin(df1,df2, **kwargs):\n",
    "    df1['_tmpkey']=1\n",
    "    df2['_tmpkey']=1\n",
    "    res = pd.merge(df1,df2, on='_tmpkey',**kwargs).drop('_tmpkey',axis=1)\n",
    "    res.index = pd.MultiIndex.from_product((df1.index,df2.index))\n",
    "    df1.drop('_tmpkey',axis = 1, inplace=True)\n",
    "    df2.drop('_tmpkey',axis =1, inplace=True)\n",
    "    return res"
   ]
  },
  {
   "cell_type": "code",
   "execution_count": 37,
   "metadata": {
    "collapsed": false
   },
   "outputs": [],
   "source": [
    "joined_data = df_crossjoin(zeros,ones)\n",
    "print(joined_data)"
   ]
  },
  {
   "cell_type": "code",
   "execution_count": 39,
   "metadata": {
    "collapsed": false
   },
   "outputs": [
    {
     "name": "stdout",
     "output_type": "stream",
     "text": [
      "102619\n"
     ]
    }
   ],
   "source": [
    "joined_data['concordant_pair']=0\n",
    "joined_data.loc[joined_data['probs_x'] > joined_data['probs_y'], 'concordant_pair'] = 1\n",
    "joined_data['discordant_pair']=0\n",
    "joined_data.loc[joined_data['probs_x'] < joined_data['probs_y'], 'discordant_pair'] = 1\n",
    "joined_data['tied_pair'] = 0\n",
    "joined_data.loc[joined_data['probs_x'] == joined_data['probs_y'], 'tied_pair'] = 1\n",
    "print(joined_data.shape[0])"
   ]
  },
  {
   "cell_type": "code",
   "execution_count": 42,
   "metadata": {
    "collapsed": false
   },
   "outputs": [
    {
     "name": "stdout",
     "output_type": "stream",
     "text": [
      "\n",
      "C-statistics: 0.4862\n"
     ]
    }
   ],
   "source": [
    "p_conc = (joined_data['concordant_pair'].sum())/joined_data.shape[0]\n",
    "p_disc = (joined_data['discordant_pair'].sum())/(joined_data.shape[0])\n",
    "c_statistics = 0.5 + (p_conc - p_disc)/2.0\n",
    "print(\"\\nC-statistics:\", round(c_statistics,4))"
   ]
  },
  {
   "cell_type": "markdown",
   "metadata": {},
   "source": [
    "# ROC plotting"
   ]
  },
  {
   "cell_type": "code",
   "execution_count": 43,
   "metadata": {
    "collapsed": false
   },
   "outputs": [
    {
     "ename": "ValueError",
     "evalue": "Input contains NaN, infinity or a value too large for dtype('float64').",
     "output_type": "error",
     "traceback": [
      "\u001b[0;31m---------------------------------------------------------------------------\u001b[0m",
      "\u001b[0;31mValueError\u001b[0m                                Traceback (most recent call last)",
      "\u001b[0;32m<ipython-input-43-1305006b5f18>\u001b[0m in \u001b[0;36m<module>\u001b[0;34m()\u001b[0m\n\u001b[1;32m      2\u001b[0m \u001b[1;32mfrom\u001b[0m \u001b[0msklearn\u001b[0m \u001b[1;32mimport\u001b[0m \u001b[0mmetrics\u001b[0m\u001b[1;33m\u001b[0m\u001b[0m\n\u001b[1;32m      3\u001b[0m \u001b[1;32mfrom\u001b[0m \u001b[0msklearn\u001b[0m\u001b[1;33m.\u001b[0m\u001b[0mmetrics\u001b[0m \u001b[1;32mimport\u001b[0m \u001b[0mauc\u001b[0m\u001b[1;33m\u001b[0m\u001b[0m\n\u001b[0;32m----> 4\u001b[0;31m \u001b[0mfpr\u001b[0m\u001b[1;33m,\u001b[0m \u001b[0mtpr\u001b[0m\u001b[1;33m,\u001b[0m \u001b[0mthresholds\u001b[0m \u001b[1;33m=\u001b[0m \u001b[0mmetrics\u001b[0m\u001b[1;33m.\u001b[0m\u001b[0mroc_curve\u001b[0m\u001b[1;33m(\u001b[0m\u001b[0mboth\u001b[0m\u001b[1;33m[\u001b[0m\u001b[1;34m'class'\u001b[0m\u001b[1;33m]\u001b[0m\u001b[1;33m,\u001b[0m\u001b[0mboth\u001b[0m\u001b[1;33m[\u001b[0m\u001b[1;34m'probs'\u001b[0m\u001b[1;33m]\u001b[0m\u001b[1;33m,\u001b[0m \u001b[0mpos_label\u001b[0m\u001b[1;33m=\u001b[0m\u001b[1;36m1\u001b[0m\u001b[1;33m)\u001b[0m\u001b[1;33m\u001b[0m\u001b[0m\n\u001b[0m\u001b[1;32m      5\u001b[0m \u001b[0mroc_auc\u001b[0m \u001b[1;33m=\u001b[0m \u001b[0mauc\u001b[0m\u001b[1;33m(\u001b[0m\u001b[0mfpr\u001b[0m\u001b[1;33m,\u001b[0m\u001b[0mtpr\u001b[0m\u001b[1;33m)\u001b[0m\u001b[1;33m\u001b[0m\u001b[0m\n\u001b[1;32m      6\u001b[0m \u001b[0mplt\u001b[0m\u001b[1;33m.\u001b[0m\u001b[0mfigure\u001b[0m\u001b[1;33m\u001b[0m\u001b[0m\n",
      "\u001b[0;32mC:\\ProgramData\\Anaconda3\\lib\\site-packages\\sklearn\\metrics\\ranking.py\u001b[0m in \u001b[0;36mroc_curve\u001b[0;34m(y_true, y_score, pos_label, sample_weight, drop_intermediate)\u001b[0m\n\u001b[1;32m    503\u001b[0m     \"\"\"\n\u001b[1;32m    504\u001b[0m     fps, tps, thresholds = _binary_clf_curve(\n\u001b[0;32m--> 505\u001b[0;31m         y_true, y_score, pos_label=pos_label, sample_weight=sample_weight)\n\u001b[0m\u001b[1;32m    506\u001b[0m \u001b[1;33m\u001b[0m\u001b[0m\n\u001b[1;32m    507\u001b[0m     \u001b[1;31m# Attempt to drop thresholds corresponding to points in between and\u001b[0m\u001b[1;33m\u001b[0m\u001b[1;33m\u001b[0m\u001b[0m\n",
      "\u001b[0;32mC:\\ProgramData\\Anaconda3\\lib\\site-packages\\sklearn\\metrics\\ranking.py\u001b[0m in \u001b[0;36m_binary_clf_curve\u001b[0;34m(y_true, y_score, pos_label, sample_weight)\u001b[0m\n\u001b[1;32m    298\u001b[0m     \u001b[0my_true\u001b[0m \u001b[1;33m=\u001b[0m \u001b[0mcolumn_or_1d\u001b[0m\u001b[1;33m(\u001b[0m\u001b[0my_true\u001b[0m\u001b[1;33m)\u001b[0m\u001b[1;33m\u001b[0m\u001b[0m\n\u001b[1;32m    299\u001b[0m     \u001b[0my_score\u001b[0m \u001b[1;33m=\u001b[0m \u001b[0mcolumn_or_1d\u001b[0m\u001b[1;33m(\u001b[0m\u001b[0my_score\u001b[0m\u001b[1;33m)\u001b[0m\u001b[1;33m\u001b[0m\u001b[0m\n\u001b[0;32m--> 300\u001b[0;31m     \u001b[0massert_all_finite\u001b[0m\u001b[1;33m(\u001b[0m\u001b[0my_true\u001b[0m\u001b[1;33m)\u001b[0m\u001b[1;33m\u001b[0m\u001b[0m\n\u001b[0m\u001b[1;32m    301\u001b[0m     \u001b[0massert_all_finite\u001b[0m\u001b[1;33m(\u001b[0m\u001b[0my_score\u001b[0m\u001b[1;33m)\u001b[0m\u001b[1;33m\u001b[0m\u001b[0m\n\u001b[1;32m    302\u001b[0m \u001b[1;33m\u001b[0m\u001b[0m\n",
      "\u001b[0;32mC:\\ProgramData\\Anaconda3\\lib\\site-packages\\sklearn\\utils\\validation.py\u001b[0m in \u001b[0;36massert_all_finite\u001b[0;34m(X)\u001b[0m\n\u001b[1;32m     63\u001b[0m \u001b[1;33m\u001b[0m\u001b[0m\n\u001b[1;32m     64\u001b[0m     Input MUST be an np.ndarray instance or a scipy.sparse matrix.\"\"\"\n\u001b[0;32m---> 65\u001b[0;31m     \u001b[0m_assert_all_finite\u001b[0m\u001b[1;33m(\u001b[0m\u001b[0mX\u001b[0m\u001b[1;33m.\u001b[0m\u001b[0mdata\u001b[0m \u001b[1;32mif\u001b[0m \u001b[0msp\u001b[0m\u001b[1;33m.\u001b[0m\u001b[0missparse\u001b[0m\u001b[1;33m(\u001b[0m\u001b[0mX\u001b[0m\u001b[1;33m)\u001b[0m \u001b[1;32melse\u001b[0m \u001b[0mX\u001b[0m\u001b[1;33m)\u001b[0m\u001b[1;33m\u001b[0m\u001b[0m\n\u001b[0m\u001b[1;32m     66\u001b[0m \u001b[1;33m\u001b[0m\u001b[0m\n\u001b[1;32m     67\u001b[0m \u001b[1;33m\u001b[0m\u001b[0m\n",
      "\u001b[0;32mC:\\ProgramData\\Anaconda3\\lib\\site-packages\\sklearn\\utils\\validation.py\u001b[0m in \u001b[0;36m_assert_all_finite\u001b[0;34m(X)\u001b[0m\n\u001b[1;32m     56\u001b[0m             and not np.isfinite(X).all()):\n\u001b[1;32m     57\u001b[0m         raise ValueError(\"Input contains NaN, infinity\"\n\u001b[0;32m---> 58\u001b[0;31m                          \" or a value too large for %r.\" % X.dtype)\n\u001b[0m\u001b[1;32m     59\u001b[0m \u001b[1;33m\u001b[0m\u001b[0m\n\u001b[1;32m     60\u001b[0m \u001b[1;33m\u001b[0m\u001b[0m\n",
      "\u001b[0;31mValueError\u001b[0m: Input contains NaN, infinity or a value too large for dtype('float64')."
     ]
    }
   ],
   "source": [
    "import matplotlib.pyplot as plt\n",
    "from sklearn import metrics\n",
    "from sklearn.metrics import auc\n",
    "fpr, tpr, thresholds = metrics.roc_curve(both['class'],both['probs'], pos_label=1)\n",
    "roc_auc = auc(fpr,tpr)\n",
    "plt.figure \n",
    "lw = 2\n",
    "plt.plot(fpr, tpr, color='darkorange', lw=lw, label='ROC curve (area =%0.2f)' % roc_auc)\n",
    "plt.plot([0, 1], [0, 1], color='navy', lw=lw, linestyle='--')\n",
    "plt.xlim([0.0, 1.0])\n",
    "plt.ylim([0.0, 1.05])\n",
    "plt.xlabel('False Positive Rate (1-Specificity)')\n",
    "plt.ylabel('True Positive Rate')\n",
    "plt.title('ROC Curve - German Credit Data')\n",
    "plt.legend(loc=\"lower right\")\n",
    "plt.show()"
   ]
  },
  {
   "cell_type": "code",
   "execution_count": null,
   "metadata": {
    "collapsed": true
   },
   "outputs": [],
   "source": []
  }
 ],
 "metadata": {
  "kernelspec": {
   "display_name": "Python 3",
   "language": "python",
   "name": "python3"
  },
  "language_info": {
   "codemirror_mode": {
    "name": "ipython",
    "version": 3
   },
   "file_extension": ".py",
   "mimetype": "text/x-python",
   "name": "python",
   "nbconvert_exporter": "python",
   "pygments_lexer": "ipython3",
   "version": "3.6.0"
  }
 },
 "nbformat": 4,
 "nbformat_minor": 2
}
