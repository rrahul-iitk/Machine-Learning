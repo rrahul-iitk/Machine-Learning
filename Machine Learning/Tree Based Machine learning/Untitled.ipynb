{
 "cells": [
  {
   "cell_type": "code",
   "execution_count": 1,
   "metadata": {
    "collapsed": true
   },
   "outputs": [],
   "source": [
    "import pandas as pd \n",
    "import numpy as np\n",
    "from sklearn.model_selection import train_test_split"
   ]
  },
  {
   "cell_type": "code",
   "execution_count": 2,
   "metadata": {
    "collapsed": false
   },
   "outputs": [
    {
     "name": "stdout",
     "output_type": "stream",
     "text": [
      "   Age Attrition     BusinessTravel  DailyRate              Department  \\\n",
      "0   41       Yes      Travel_Rarely       1102                   Sales   \n",
      "1   49        No  Travel_Frequently        279  Research & Development   \n",
      "2   37       Yes      Travel_Rarely       1373  Research & Development   \n",
      "3   33        No  Travel_Frequently       1392  Research & Development   \n",
      "4   27        No      Travel_Rarely        591  Research & Development   \n",
      "\n",
      "   DistanceFromHome  Education EducationField  EmployeeCount  EmployeeNumber  \\\n",
      "0                 1          2  Life Sciences              1               1   \n",
      "1                 8          1  Life Sciences              1               2   \n",
      "2                 2          2          Other              1               4   \n",
      "3                 3          4  Life Sciences              1               5   \n",
      "4                 2          1        Medical              1               7   \n",
      "\n",
      "           ...           RelationshipSatisfaction StandardHours  \\\n",
      "0          ...                                  1            80   \n",
      "1          ...                                  4            80   \n",
      "2          ...                                  2            80   \n",
      "3          ...                                  3            80   \n",
      "4          ...                                  4            80   \n",
      "\n",
      "   StockOptionLevel  TotalWorkingYears  TrainingTimesLastYear WorkLifeBalance  \\\n",
      "0                 0                  8                      0               1   \n",
      "1                 1                 10                      3               3   \n",
      "2                 0                  7                      3               3   \n",
      "3                 0                  8                      3               3   \n",
      "4                 1                  6                      3               3   \n",
      "\n",
      "   YearsAtCompany YearsInCurrentRole  YearsSinceLastPromotion  \\\n",
      "0               6                  4                        0   \n",
      "1              10                  7                        1   \n",
      "2               0                  0                        0   \n",
      "3               8                  7                        3   \n",
      "4               2                  2                        2   \n",
      "\n",
      "   YearsWithCurrManager  \n",
      "0                     5  \n",
      "1                     7  \n",
      "2                     0  \n",
      "3                     0  \n",
      "4                     2  \n",
      "\n",
      "[5 rows x 35 columns]\n",
      "(1470, 35)\n"
     ]
    }
   ],
   "source": [
    "hrattr_data = pd.read_csv(\"WA_Fn-UseC_-HR-Employee-Attrition.csv\")\n",
    "print(hrattr_data.head(5))\n",
    "print(hrattr_data.shape)"
   ]
  },
  {
   "cell_type": "code",
   "execution_count": 3,
   "metadata": {
    "collapsed": true
   },
   "outputs": [],
   "source": [
    "hrattr_data['Attrition_ind'] = 0\n",
    "hrattr_data.loc[hrattr_data['Attrition'] == 'Yes', 'Attrition_ind'] = 1"
   ]
  },
  {
   "cell_type": "code",
   "execution_count": 4,
   "metadata": {
    "collapsed": true
   },
   "outputs": [],
   "source": [
    "dummy_busnstrvl = pd.get_dummies(hrattr_data['BusinessTravel'],prefix='busns_trvl')\n",
    "dummy_dept = pd.get_dummies(hrattr_data['Department'], prefix='dept')\n",
    "dummy_edufield = pd.get_dummies(hrattr_data['EducationField'],prefix='edufield')\n",
    "dummy_gender = pd.get_dummies(hrattr_data['Gender'], prefix='gend')\n",
    "dummy_jobrole = pd.get_dummies(hrattr_data['JobRole'],prefix='jobrole')\n",
    "dummy_maritstat = pd.get_dummies(hrattr_data['MaritalStatus'],prefix='maritalstat')\n",
    "dummy_overtime = pd.get_dummies(hrattr_data['OverTime'],prefix='overtime')"
   ]
  },
  {
   "cell_type": "code",
   "execution_count": 5,
   "metadata": {
    "collapsed": false
   },
   "outputs": [],
   "source": [
    "continuous_columns = ['Age','DailyRate','DistanceFromHome','Education',\n",
    "'EnvironmentSatisfaction','HourlyRate','JobInvolvement','JobLevel','JobSatisfaction', 'MonthlyIncome', 'MonthlyRate',\n",
    "'NumCompaniesWorked','PercentSalaryHike', 'PerformanceRating',\n",
    "'RelationshipSatisfaction','StockOptionLevel', 'TotalWorkingYears',\n",
    "'TrainingTimesLastYear','WorkLifeBalance', 'YearsAtCompany',\n",
    "'YearsInCurrentRole', 'YearsSinceLastPromotion','YearsWithCurrManager']"
   ]
  },
  {
   "cell_type": "code",
   "execution_count": 6,
   "metadata": {
    "collapsed": true
   },
   "outputs": [],
   "source": [
    "hrattr_continuous = hrattr_data[continuous_columns]"
   ]
  },
  {
   "cell_type": "code",
   "execution_count": 7,
   "metadata": {
    "collapsed": true
   },
   "outputs": [],
   "source": [
    "hrattr_data_new = pd.concat([dummy_busnstrvl, dummy_dept,\n",
    "dummy_edufield, dummy_gender, dummy_jobrole, dummy_maritstat,\n",
    "dummy_overtime, hrattr_continuous, hrattr_data['Attrition_ind']],axis=1)"
   ]
  },
  {
   "cell_type": "code",
   "execution_count": 8,
   "metadata": {
    "collapsed": false
   },
   "outputs": [],
   "source": [
    "x_train, x_test, y_train, y_test = train_test_split(hrattr_data_new.drop(['Attrition_ind'], axis = 1), hrattr_data_new['Attrition_ind'], train_size = 0.7, random_state = 42)"
   ]
  },
  {
   "cell_type": "markdown",
   "metadata": {},
   "source": [
    "# #Decision Tree Classifier"
   ]
  },
  {
   "cell_type": "code",
   "execution_count": 9,
   "metadata": {
    "collapsed": false
   },
   "outputs": [
    {
     "data": {
      "text/plain": [
       "DecisionTreeClassifier(class_weight=None, criterion='gini', max_depth=5,\n",
       "            max_features=None, max_leaf_nodes=None,\n",
       "            min_impurity_split=1e-07, min_samples_leaf=1,\n",
       "            min_samples_split=2, min_weight_fraction_leaf=0.0,\n",
       "            presort=False, random_state=42, splitter='best')"
      ]
     },
     "execution_count": 9,
     "metadata": {},
     "output_type": "execute_result"
    }
   ],
   "source": [
    "from sklearn.tree import DecisionTreeClassifier\n",
    "from sklearn.metrics import accuracy_score, classification_report\n",
    "dt_fit = DecisionTreeClassifier(criterion='gini', max_depth = 5, min_samples_split = 2, min_samples_leaf=1, random_state=42)\n",
    "dt_fit.fit(x_train,y_train)"
   ]
  },
  {
   "cell_type": "code",
   "execution_count": 10,
   "metadata": {
    "collapsed": false
   },
   "outputs": [
    {
     "name": "stdout",
     "output_type": "stream",
     "text": [
      "\n",
      " Decision Tree - Train Confusion Matrix\n",
      "\n",
      " Predicted    0   1\n",
      "Actual            \n",
      "0          844   9\n",
      "1           98  78\n",
      "\n",
      "Decision Tree - Train accuracy\n",
      "\n",
      " 0.896\n"
     ]
    }
   ],
   "source": [
    "print(\"\\n Decision Tree - Train Confusion Matrix\\n\\n\", pd.crosstab(y_train, dt_fit.predict(x_train), rownames=[\"Actual\"], colnames = [\"Predicted\"]))\n",
    "print (\"\\nDecision Tree - Train accuracy\\n\\n\",round(accuracy_score(y_train, dt_fit.predict(x_train)),3))"
   ]
  },
  {
   "cell_type": "code",
   "execution_count": 11,
   "metadata": {
    "collapsed": false
   },
   "outputs": [
    {
     "name": "stdout",
     "output_type": "stream",
     "text": [
      "\n",
      "\n",
      "Decision Tree - Test ConfusionMatrix\n",
      "\n",
      " Predicted    0   1\n",
      "Actuall           \n",
      "0          361  19\n",
      "1           49  12\n",
      "\n",
      "Decision Tree - Test accuracy 0.846\n"
     ]
    }
   ],
   "source": [
    "print (\"\\n\\nDecision Tree - Test ConfusionMatrix\\n\\n\",pd.crosstab(y_test, dt_fit.predict(x_test),rownames =[\"Actuall\"],colnames = [\"Predicted\"]))\n",
    "print (\"\\nDecision Tree - Test accuracy\",round(accuracy_score(y_test,dt_fit.predict(x_test)),3))"
   ]
  },
  {
   "cell_type": "code",
   "execution_count": 12,
   "metadata": {
    "collapsed": false
   },
   "outputs": [
    {
     "name": "stdout",
     "output_type": "stream",
     "text": [
      "\n",
      "Decision Tree - Test Classification Report\n",
      "              precision    recall  f1-score   support\n",
      "\n",
      "          0       0.88      0.95      0.91       380\n",
      "          1       0.39      0.20      0.26        61\n",
      "\n",
      "avg / total       0.81      0.85      0.82       441\n",
      "\n"
     ]
    }
   ],
   "source": [
    "print (\"\\nDecision Tree - Test Classification Report\\n\",classification_report( y_test, dt_fit.predict(x_test)))"
   ]
  },
  {
   "cell_type": "markdown",
   "metadata": {},
   "source": [
    "By carefully observing the results, we can infer that, even though the test accuracy is high(84.6%), the precision and recall of one category (Attrition = Yes) is low (precision = 0.39 andrecall = 0.20). This could be a serious issue when management tries to use this model to provide some extra benefits proactively to the employees with a high chance of attrition prior to actual attrition, as this model is unable to identify the real employees who will be leaving. Hence, we need to look for other modifications; one way is to control the model by using class weights. By utilizing class weights, we can increase the importance of a particular class at the cost of an increase in other errors.\n",
    "\n",
    "For example, by increasing class weight to category 1, we can identify more employees with the characteristics of actual attrition, but by doing so, we will mark some of the nonpotential churner employees as potential attriters (which should be acceptable).\n",
    "\n",
    "Another classical example of the important use of class weights is, in banking scenarios. When giving loans, it is better to reject some good applications than accepting bad loans. Hence, even in this case, it is a better idea to use higher weightage to defaulters over nondefaulters."
   ]
  },
  {
   "cell_type": "markdown",
   "metadata": {},
   "source": [
    "# #Tuning class weights in decision tree classifier\n",
    "\n",
    "In the following code, class weights are tuned to see the performance change in decision trees with the same parameters. A dummy DataFrame is created to save all the results of various precision-recall details of combinations:"
   ]
  },
  {
   "cell_type": "code",
   "execution_count": 13,
   "metadata": {
    "collapsed": false
   },
   "outputs": [],
   "source": [
    "dummyarray = np.empty((6,10))\n",
    "dt_wttune = pd.DataFrame(dummyarray)"
   ]
  },
  {
   "cell_type": "code",
   "execution_count": 14,
   "metadata": {
    "collapsed": true
   },
   "outputs": [],
   "source": [
    "dt_wttune.columns = [\"zero_wght\",\"one_wght\",\"tr_accuracy\",\"tst_accuracy\", \"prec_zero\",\"prec_one\", \"prec_ovll\",\n",
    "      \"recl_zero\",\"recl_one\",\"recl_ovll\"]"
   ]
  },
  {
   "cell_type": "code",
   "execution_count": 15,
   "metadata": {
    "collapsed": true
   },
   "outputs": [],
   "source": [
    "##Weights for the zero category are verified from 0.01 to 0.5, as we know we do not want to\n",
    "##explore cases where the zero category will be given higher weightage than one category\n",
    "zero_clwghts = [0.01,0.1,0.2,0.3,0.4,0.5]"
   ]
  },
  {
   "cell_type": "code",
   "execution_count": 16,
   "metadata": {
    "collapsed": false
   },
   "outputs": [
    {
     "name": "stdout",
     "output_type": "stream",
     "text": [
      "\n",
      "Class Weights {0: 0.01, 1: 0.99} Train accuracy: 0.342 Test accuracy: 0.272\n",
      "Test Confusion Matrix\n",
      "\n",
      " Predicted   0    1\n",
      "Actual            \n",
      "0          65  315\n",
      "1           6   55\n",
      "\n",
      "Class Weights {0: 0.1, 1: 0.9} Train accuracy: 0.806 Test accuracy: 0.732\n",
      "Test Confusion Matrix\n",
      "\n",
      " Predicted    0   1\n",
      "Actual            \n",
      "0          282  98\n",
      "1           20  41\n",
      "\n",
      "Class Weights {0: 0.2, 1: 0.8} Train accuracy: 0.871 Test accuracy: 0.83\n",
      "Test Confusion Matrix\n",
      "\n",
      " Predicted    0   1\n",
      "Actual            \n",
      "0          341  39\n",
      "1           36  25\n",
      "\n",
      "Class Weights {0: 0.3, 1: 0.7} Train accuracy: 0.881 Test accuracy: 0.839\n",
      "Test Confusion Matrix\n",
      "\n",
      " Predicted    0   1\n",
      "Actual            \n",
      "0          345  35\n",
      "1           36  25\n",
      "\n",
      "Class Weights {0: 0.4, 1: 0.6} Train accuracy: 0.894 Test accuracy: 0.832\n",
      "Test Confusion Matrix\n",
      "\n",
      " Predicted    0   1\n",
      "Actual            \n",
      "0          346  34\n",
      "1           40  21\n",
      "\n",
      "Class Weights {0: 0.5, 1: 0.5} Train accuracy: 0.896 Test accuracy: 0.846\n",
      "Test Confusion Matrix\n",
      "\n",
      " Predicted    0   1\n",
      "Actual            \n",
      "0          361  19\n",
      "1           49  12\n"
     ]
    }
   ],
   "source": [
    "for i in range(len(zero_clwghts)):\n",
    "    clwght = {0:zero_clwghts[i],1:1.0-zero_clwghts[i]}\n",
    "    dt_fit = DecisionTreeClassifier(criterion=\"gini\", max_depth=5,min_samples_split=2, min_samples_leaf=1,random_state=42,class_weight =clwght)\n",
    "    dt_fit.fit(x_train,y_train)\n",
    "    dt_wttune.loc[i, 'zero_wght'] = clwght[0]\n",
    "    dt_wttune.loc[i, 'one_wght'] = clwght[1]\n",
    "    dt_wttune.loc[i, 'tr_accuracy'] = round(accuracy_score(y_train,dt_fit.predict( x_train)),3)\n",
    "    dt_wttune.loc[i, 'tst_accuracy'] = round(accuracy_score(y_test,dt_fit.predict( x_test)),3)\n",
    "    clf_sp = classification_report(y_test,dt_fit.predict(x_test)).split()\n",
    "    dt_wttune.loc[i, 'prec_zero'] = float(clf_sp[5])\n",
    "    dt_wttune.loc[i, 'prec_one'] = float(clf_sp[10])\n",
    "    dt_wttune.loc[i, 'prec_ovll'] = float(clf_sp[17])\n",
    "    dt_wttune.loc[i, 'recl_zero'] = float(clf_sp[6])\n",
    "    dt_wttune.loc[i, 'recl_one'] = float(clf_sp[11])\n",
    "    dt_wttune.loc[i, 'recl_ovll'] = float(clf_sp[18])\n",
    "    print (\"\\nClass Weights\",clwght,\"Train accuracy:\",round(accuracy_score( y_train,dt_fit.predict(x_train)),3),\"Test accuracy:\",round(accuracy_score(y_test, dt_fit.predict(x_test)),3))\n",
    "    print (\"Test Confusion Matrix\\n\\n\",pd.crosstab(y_test,dt_fit.predict( x_test),rownames =[\"Actual\"],colnames = [\"Predicted\"]))\n"
   ]
  },
  {
   "cell_type": "markdown",
   "metadata": {},
   "source": [
    "From the above results, we can seen that at class weight values of 0.3 (for zero) and\n",
    "0.7 (for one) it is identifying a higher number of attriters (25 out of 61) without\n",
    "compromising test accuracy 83.9% using decision trees methodology"
   ]
  },
  {
   "cell_type": "markdown",
   "metadata": {},
   "source": [
    "# #Bagging classifier"
   ]
  },
  {
   "cell_type": "code",
   "execution_count": 17,
   "metadata": {
    "collapsed": false
   },
   "outputs": [],
   "source": [
    "from sklearn.tree import DecisionTreeClassifier \n",
    "from sklearn.ensemble import BaggingClassifier"
   ]
  },
  {
   "cell_type": "code",
   "execution_count": 18,
   "metadata": {
    "collapsed": false
   },
   "outputs": [],
   "source": [
    "dt_fit = DecisionTreeClassifier(criterion = 'gini', max_depth = 5, min_samples_split =2, min_samples_leaf =1, \n",
    "                                random_state = 42, class_weight ={0:0.3, 1:0.7})"
   ]
  },
  {
   "cell_type": "code",
   "execution_count": 19,
   "metadata": {
    "collapsed": false
   },
   "outputs": [],
   "source": [
    "bag_fit = BaggingClassifier(base_estimator = dt_fit, n_estimators = 5000, max_samples = 0.67, max_features = 1.0, \n",
    "                            bootstrap = True, bootstrap_features = False, n_jobs = -1, random_state = 42 )"
   ]
  },
  {
   "cell_type": "code",
   "execution_count": 20,
   "metadata": {
    "collapsed": false
   },
   "outputs": [
    {
     "data": {
      "text/plain": [
       "BaggingClassifier(base_estimator=DecisionTreeClassifier(class_weight={0: 0.3, 1: 0.7}, criterion='gini',\n",
       "            max_depth=5, max_features=None, max_leaf_nodes=None,\n",
       "            min_impurity_split=1e-07, min_samples_leaf=1,\n",
       "            min_samples_split=2, min_weight_fraction_leaf=0.0,\n",
       "            presort=False, random_state=42, splitter='best'),\n",
       "         bootstrap=True, bootstrap_features=False, max_features=1.0,\n",
       "         max_samples=0.67, n_estimators=5000, n_jobs=-1, oob_score=False,\n",
       "         random_state=42, verbose=0, warm_start=False)"
      ]
     },
     "execution_count": 20,
     "metadata": {},
     "output_type": "execute_result"
    }
   ],
   "source": [
    "bag_fit.fit(x_train, y_train)"
   ]
  },
  {
   "cell_type": "code",
   "execution_count": 21,
   "metadata": {
    "collapsed": false
   },
   "outputs": [
    {
     "name": "stdout",
     "output_type": "stream",
     "text": [
      "\n",
      "Bagging - Train Confusion Matrix\n",
      "\n",
      " Predicted    0    1\n",
      "Actuall            \n",
      "0          846    7\n",
      "1           66  110\n",
      "\n",
      "Bagging- Train accuracy 0.929\n",
      "\n",
      "Bagging - Train Classification Report\n",
      "              precision    recall  f1-score   support\n",
      "\n",
      "          0       0.93      0.99      0.96       853\n",
      "          1       0.94      0.62      0.75       176\n",
      "\n",
      "avg / total       0.93      0.93      0.92      1029\n",
      "\n",
      "\n",
      "\n",
      "Bagging - Test Confusion Matrix\n",
      "\n",
      " Predicted    0   1\n",
      "Actuall           \n",
      "0          372   8\n",
      "1           49  12\n",
      "\n",
      "Bagging - Test accuracy 0.871\n",
      "\n",
      "Bagging - Test Classification Report\n",
      "              precision    recall  f1-score   support\n",
      "\n",
      "          0       0.88      0.98      0.93       380\n",
      "          1       0.60      0.20      0.30        61\n",
      "\n",
      "avg / total       0.84      0.87      0.84       441\n",
      "\n"
     ]
    }
   ],
   "source": [
    "print (\"\\nBagging - Train Confusion Matrix\\n\\n\",pd.crosstab(y_train, bag_fit.predict(x_train),rownames = [\"Actuall\"],colnames = [\"Predicted\"]))\n",
    "print (\"\\nBagging- Train accuracy\",round(accuracy_score(y_train,bag_fit.predict(x_train)),3))\n",
    "print (\"\\nBagging - Train Classification Report\\n\",classification_report(y_train, bag_fit.predict(x_train)))\n",
    "print (\"\\n\\nBagging - Test Confusion Matrix\\n\\n\",pd.crosstab(y_test,bag_fit.predict(x_test),rownames = [\"Actuall\"],colnames = [\"Predicted\"]))\n",
    "print (\"\\nBagging - Test accuracy\",round(accuracy_score(y_test,bag_fit.predict(x_test)),3))\n",
    "print (\"\\nBagging - Test Classification Report\\n\",classification_report(y_test, bag_fit.predict(x_test)))"
   ]
  },
  {
   "cell_type": "markdown",
   "metadata": {},
   "source": [
    "# #Random Forest Classifier"
   ]
  },
  {
   "cell_type": "code",
   "execution_count": 22,
   "metadata": {
    "collapsed": true
   },
   "outputs": [],
   "source": [
    "from sklearn.ensemble import RandomForestClassifier"
   ]
  },
  {
   "cell_type": "markdown",
   "metadata": {},
   "source": [
    "The parameters used in random forest are: n_estimators representing the number of\n",
    "individual decision trees used is 5000, maximum features selected are auto, which means it\n",
    "will select sqrt(p) for classification and p/3 for regression automatically. Here is the\n",
    "straightforward classification problem though. Minimum samples per leaf provides the\n",
    "minimum number of observations required in the terminal node:"
   ]
  },
  {
   "cell_type": "code",
   "execution_count": 23,
   "metadata": {
    "collapsed": true
   },
   "outputs": [],
   "source": [
    "rf_fit = RandomForestClassifier(n_estimators = 5000, criterion= 'gini',max_depth = 5, min_samples_split = 2,\n",
    "                                bootstrap= True, max_features = 'auto', min_samples_leaf = 1, class_weight= {0:0.3,1:0.7})"
   ]
  },
  {
   "cell_type": "code",
   "execution_count": 24,
   "metadata": {
    "collapsed": false
   },
   "outputs": [
    {
     "data": {
      "text/plain": [
       "RandomForestClassifier(bootstrap=True, class_weight={0: 0.3, 1: 0.7},\n",
       "            criterion='gini', max_depth=5, max_features='auto',\n",
       "            max_leaf_nodes=None, min_impurity_split=1e-07,\n",
       "            min_samples_leaf=1, min_samples_split=2,\n",
       "            min_weight_fraction_leaf=0.0, n_estimators=5000, n_jobs=1,\n",
       "            oob_score=False, random_state=None, verbose=0,\n",
       "            warm_start=False)"
      ]
     },
     "execution_count": 24,
     "metadata": {},
     "output_type": "execute_result"
    }
   ],
   "source": [
    "rf_fit.fit(x_train, y_train)"
   ]
  },
  {
   "cell_type": "code",
   "execution_count": 25,
   "metadata": {
    "collapsed": false
   },
   "outputs": [
    {
     "name": "stdout",
     "output_type": "stream",
     "text": [
      "\n",
      "Random Forest - Train Confusion Matrix\n",
      "\n",
      " Predicted    0    1\n",
      "Actuall            \n",
      "0          842   11\n",
      "1           74  102\n",
      "\n",
      "Random Forest - Train accuracy 0.917\n",
      "\n",
      "Random Forest - Train Classification Report\n",
      "              precision    recall  f1-score   support\n",
      "\n",
      "          0       0.92      0.99      0.95       853\n",
      "          1       0.90      0.58      0.71       176\n",
      "\n",
      "avg / total       0.92      0.92      0.91      1029\n",
      "\n",
      "\n",
      "\n",
      "Random Forest - Test Confusion Matrix\n",
      "\n",
      " Predicted    0   1\n",
      "Actuall           \n",
      "0          373   7\n",
      "1           49  12\n",
      "\n",
      "Random Forest - Test accuracy 0.873\n",
      "\n",
      "Random Forest - Test Classification Report\n",
      "              precision    recall  f1-score   support\n",
      "\n",
      "          0       0.88      0.98      0.93       380\n",
      "          1       0.63      0.20      0.30        61\n",
      "\n",
      "avg / total       0.85      0.87      0.84       441\n",
      "\n"
     ]
    }
   ],
   "source": [
    "print(\"\\nRandom Forest - Train Confusion Matrix\\n\\n\",pd.crosstab(y_train, rf_fit.predict(x_train),rownames =\n",
    "                                                                  [\"Actuall\"],colnames = [\"Predicted\"]))\n",
    "print(\"\\nRandom Forest - Train accuracy\",round(accuracy_score(y_train,rf_fit.predict(x_train)),3))\n",
    "print(\"\\nRandom Forest - Train Classification Report\\n\",classification_report( y_train, rf_fit.predict(x_train)))\n",
    "print(\"\\n\\nRandom Forest - Test Confusion Matrix\\n\\n\",pd.crosstab(y_test, rf_fit.predict(x_test),rownames =\n",
    "                                                                  [\"Actuall\"],colnames = [\"Predicted\"]))\n",
    "print(\"\\nRandom Forest - Test accuracy\",round(accuracy_score(y_test,rf_fit.predict(x_test)),3))\n",
    "print(\"\\nRandom Forest - Test Classification Report\\n\",classification_report( y_test, rf_fit.predict(x_test)))"
   ]
  },
  {
   "cell_type": "markdown",
   "metadata": {},
   "source": [
    "Random forest classifier produced 87.8% test accuracy compared with bagging 87.3%, and\n",
    "also identifies 14 actually attrited employees in contrast with bagging, for which 13 attrited\n",
    "employees have been identified:"
   ]
  },
  {
   "cell_type": "markdown",
   "metadata": {},
   "source": [
    "# Plot of variable importance by mean decrease in gini"
   ]
  },
  {
   "cell_type": "code",
   "execution_count": 26,
   "metadata": {
    "collapsed": false
   },
   "outputs": [],
   "source": [
    "model_ranks = pd.Series(rf_fit.feature_importances_, index = x_train.columns, name = 'Importance').sort_values(ascending= False, inplace=False)\n",
    "model_ranks.index.name = 'Variables'\n",
    "top_features = model_ranks.iloc[:31].sort_values(ascending = True, inplace = False)"
   ]
  },
  {
   "cell_type": "code",
   "execution_count": 27,
   "metadata": {
    "collapsed": false
   },
   "outputs": [
    {
     "data": {
      "image/png": "[encoded data removed]",
      "text/plain": [
       "<matplotlib.figure.Figure at 0xe696370>"
      ]
     },
     "metadata": {},
     "output_type": "display_data"
    }
   ],
   "source": [
    "import matplotlib.pyplot as plt\n",
    "plt.figure(figsize=(20,10))\n",
    "ax = top_features.plot(kind='barh')\n",
    "_ = ax.set_title(\"Variable Importance Plot\")\n",
    "_ = ax.set_xlabel('Mean decrease in Variance')\n",
    "_ = ax.set_yticklabels(top_features.index, fontsize=13)\n",
    "plt.show()"
   ]
  },
  {
   "cell_type": "markdown",
   "metadata": {
    "collapsed": true
   },
   "source": [
    "From the variable importance plot, it seems that the monthly income variable seems to be\n",
    "most significant, followed by overtime, total working years, stock option levels, years at\n",
    "company, and so on. This provides us with some insight into what are major contributing\n",
    "factors that determine whether the employee will remain with the company or leave the\n",
    "organization"
   ]
  },
  {
   "cell_type": "markdown",
   "metadata": {},
   "source": [
    "# Random forest classifier - grid search"
   ]
  },
  {
   "cell_type": "markdown",
   "metadata": {},
   "source": [
    "Tuning parameters in a machine learning model plays a critical role. Here, we are showing\n",
    "a grid search example on how to tune a random forest model."
   ]
  },
  {
   "cell_type": "code",
   "execution_count": 28,
   "metadata": {
    "collapsed": true
   },
   "outputs": [],
   "source": [
    "from sklearn.pipeline import Pipeline\n",
    "from sklearn.model_selection import train_test_split, GridSearchCV"
   ]
  },
  {
   "cell_type": "code",
   "execution_count": 29,
   "metadata": {
    "collapsed": false
   },
   "outputs": [],
   "source": [
    "pipeline = Pipeline([('clf', RandomForestClassifier(criterion='gini', class_weight = {0:0.3,1:0.7}))])"
   ]
  },
  {
   "cell_type": "code",
   "execution_count": 30,
   "metadata": {
    "collapsed": false
   },
   "outputs": [],
   "source": [
    "parameters = {'clf__n_estimators': (2000,3000,5000),\n",
    "             'clf__max_depth': (5,15,30),\n",
    "             'clf__min_samples_split': (2,3),\n",
    "             'clf__min_samples_leaf': (1,2)}"
   ]
  },
  {
   "cell_type": "code",
   "execution_count": 31,
   "metadata": {
    "collapsed": false
   },
   "outputs": [
    {
     "name": "stdout",
     "output_type": "stream",
     "text": [
      "Fitting 5 folds for each of 36 candidates, totalling 180 fits\n"
     ]
    },
    {
     "name": "stderr",
     "output_type": "stream",
     "text": [
      "[Parallel(n_jobs=-1)]: Done  34 tasks      | elapsed:   38.7s\n",
      "[Parallel(n_jobs=-1)]: Done 180 out of 180 | elapsed:  3.5min finished\n"
     ]
    },
    {
     "data": {
      "text/plain": [
       "GridSearchCV(cv=5, error_score='raise',\n",
       "       estimator=Pipeline(steps=[('clf', RandomForestClassifier(bootstrap=True, class_weight={0: 0.3, 1: 0.7},\n",
       "            criterion='gini', max_depth=None, max_features='auto',\n",
       "            max_leaf_nodes=None, min_impurity_split=1e-07,\n",
       "            min_samples_leaf=1, min_samples_split=2,\n",
       "            min_weight_fraction_leaf=0.0, n_estimators=10, n_jobs=1,\n",
       "            oob_score=False, random_state=None, verbose=0,\n",
       "            warm_start=False))]),\n",
       "       fit_params={}, iid=True, n_jobs=-1,\n",
       "       param_grid={'clf__n_estimators': (2000, 3000, 5000), 'clf__max_depth': (5, 15, 30), 'clf__min_samples_split': (2, 3), 'clf__min_samples_leaf': (1, 2)},\n",
       "       pre_dispatch='2*n_jobs', refit=True, return_train_score=True,\n",
       "       scoring='accuracy', verbose=1)"
      ]
     },
     "execution_count": 31,
     "metadata": {},
     "output_type": "execute_result"
    }
   ],
   "source": [
    "grid_search = GridSearchCV(pipeline, parameters, n_jobs = -1, cv=5, verbose=1, scoring='accuracy')\n",
    "grid_search.fit(x_train,y_train)"
   ]
  },
  {
   "cell_type": "code",
   "execution_count": 32,
   "metadata": {
    "collapsed": false
   },
   "outputs": [
    {
     "name": "stdout",
     "output_type": "stream",
     "text": [
      "Best Training score: 0.867\n",
      "Best parameters set:\n",
      "\tclf__max_depth: 5\n",
      "\tclf__min_samples_leaf: 1\n",
      "\tclf__min_samples_split: 3\n",
      "\tclf__n_estimators: 3000\n",
      "\n",
      "Testing accuracy: 0.873\n",
      "\n",
      "Complete report of Testing data\n",
      "              precision    recall  f1-score   support\n",
      "\n",
      "          0       0.89      0.98      0.93       380\n",
      "          1       0.62      0.21      0.32        61\n",
      "\n",
      "avg / total       0.85      0.87      0.85       441\n",
      "\n",
      "\n",
      "\n",
      "Random Forest Grid Search- Test Confusion Matrix\n",
      "\n",
      " Predicted    0   1\n",
      "Actuall           \n",
      "0          372   8\n",
      "1           48  13\n"
     ]
    }
   ],
   "source": [
    "print ('Best Training score: %0.3f' % grid_search.best_score_)\n",
    "print ('Best parameters set:')\n",
    "best_parameters = grid_search.best_estimator_.get_params()\n",
    "for param_name in sorted(parameters.keys()):\n",
    "    print ('\\t%s: %r' % (param_name, best_parameters[param_name]))\n",
    "\n",
    "predictions = grid_search.predict(x_test)\n",
    "print (\"\\nTesting accuracy:\",round(accuracy_score(y_test,predictions),4))\n",
    "print (\"\\nComplete report of Testing data\\n\",classification_report(y_test, predictions))\n",
    "print (\"\\n\\nRandom Forest Grid Search- Test Confusion Matrix\\n\\n\",pd.crosstab( y_test, predictions,rownames =\n",
    "                                                                              [\"Actuall\"],colnames = [\"Predicted\"]))"
   ]
  },
  {
   "cell_type": "markdown",
   "metadata": {},
   "source": [
    "In the preceding results, grid search seems to not provide much advantage compared with\n",
    "the already explored random forest result. But, practically, most of the times, it will provide\n",
    "better and more robust results compared with a simple exploration of models. However, by\n",
    "carefully evaluating many different combinations, it will eventually discover the best\n",
    "parameters combination:"
   ]
  },
  {
   "cell_type": "markdown",
   "metadata": {
    "collapsed": true
   },
   "source": [
    "# #AdaBoost Classifier"
   ]
  },
  {
   "cell_type": "code",
   "execution_count": 33,
   "metadata": {
    "collapsed": true
   },
   "outputs": [],
   "source": [
    "from sklearn.ensemble import AdaBoostClassifier \n",
    "from sklearn.tree import DecisionTreeClassifier"
   ]
  },
  {
   "cell_type": "code",
   "execution_count": 34,
   "metadata": {
    "collapsed": true
   },
   "outputs": [],
   "source": [
    "dtree = DecisionTreeClassifier(criterion='gini', max_depth=1)"
   ]
  },
  {
   "cell_type": "markdown",
   "metadata": {},
   "source": [
    "In AdaBoost, decision stump has been used as a base estimator to fit on whole datasets and\n",
    "then fits additional copies of the classifier on the same dataset up to 5000 times. The\n",
    "learning rate shrinks the contribution of each classifer by 0.05. There is a trade-off between\n",
    "learning rate and the number of estimators. By carefully choosing a low learning rate and a\n",
    "long number of estimators, one can converge optimum very much, however at the expense\n",
    "of computing power:"
   ]
  },
  {
   "cell_type": "code",
   "execution_count": 35,
   "metadata": {
    "collapsed": false
   },
   "outputs": [
    {
     "data": {
      "text/plain": [
       "AdaBoostClassifier(algorithm='SAMME.R',\n",
       "          base_estimator=DecisionTreeClassifier(class_weight=None, criterion='gini', max_depth=1,\n",
       "            max_features=None, max_leaf_nodes=None,\n",
       "            min_impurity_split=1e-07, min_samples_leaf=1,\n",
       "            min_samples_split=2, min_weight_fraction_leaf=0.0,\n",
       "            presort=False, random_state=None, splitter='best'),\n",
       "          learning_rate=0.05, n_estimators=5000, random_state=42)"
      ]
     },
     "execution_count": 35,
     "metadata": {},
     "output_type": "execute_result"
    }
   ],
   "source": [
    "adabst_fit = AdaBoostClassifier(base_estimator = dtree, n_estimators=5000, learning_rate = 0.05, random_state = 42)\n",
    "adabst_fit.fit(x_train,y_train)"
   ]
  },
  {
   "cell_type": "code",
   "execution_count": 36,
   "metadata": {
    "collapsed": false
   },
   "outputs": [
    {
     "name": "stdout",
     "output_type": "stream",
     "text": [
      "\n",
      "AdaBoost - Train Confusion Matrix\n",
      "\n",
      " Predicted    0    1\n",
      "Actuall            \n",
      "0          844    9\n",
      "1           55  121\n",
      "\n",
      "AdaBoost - Train accuracy 0.938\n",
      "\n",
      "AdaBoost - Train Classification Report\n",
      "              precision    recall  f1-score   support\n",
      "\n",
      "          0       0.94      0.99      0.96       853\n",
      "          1       0.93      0.69      0.79       176\n",
      "\n",
      "avg / total       0.94      0.94      0.93      1029\n",
      "\n",
      "\n",
      "AdaBoost - Test Confusion Matrix\n",
      "\n",
      " Predicted    0   1\n",
      "Actuall           \n",
      "0          360  20\n",
      "1           38  23\n",
      "\n",
      "AdaBoost - Test accuracy 0.868\n",
      "\n",
      "AdaBoost - Test Classification Report\n",
      "              precision    recall  f1-score   support\n",
      "\n",
      "          0       0.90      0.95      0.93       380\n",
      "          1       0.53      0.38      0.44        61\n",
      "\n",
      "avg / total       0.85      0.87      0.86       441\n",
      "\n"
     ]
    }
   ],
   "source": [
    "print(\"\\nAdaBoost - Train Confusion Matrix\\n\\n\", \n",
    "       pd.crosstab(y_train,adabst_fit.predict(x_train), rownames = [\"Actuall\"],colnames =[\"Predicted\"]))\n",
    "print(\"\\nAdaBoost - Train accuracy\",round(accuracy_score(y_train,adabst_fit.predict(x_train)), 3))\n",
    "print(\"\\nAdaBoost - Train Classification Report\\n\",classification_report(y_train,adabst_fit.predict(x_train)))\n",
    "print(\"\\nAdaBoost - Test Confusion Matrix\\n\\n\", \n",
    "       pd.crosstab(y_test,adabst_fit.predict(x_test), rownames = [\"Actuall\"],colnames =[\"Predicted\"]))\n",
    "print(\"\\nAdaBoost - Test accuracy\",round(accuracy_score(y_test,adabst_fit.predict(x_test)), 3))\n",
    "print(\"\\nAdaBoost - Test Classification Report\\n\",classification_report(y_test,adabst_fit.predict(x_test)))"
   ]
  },
  {
   "cell_type": "markdown",
   "metadata": {},
   "source": [
    "The result of the AdaBoost seems to be much better than the known best random forest\n",
    "classifiers in terms of the recall of 1 value. Though there is a slight decrease in accuracy to\n",
    "86.8% compared with the best accuracy of 87.8%, the number of 1's predicted is 23 from the\n",
    "RF, which is 14 with some expense of increase in 0's, but it really made good progress in\n",
    "terms of identifying actual attriters"
   ]
  },
  {
   "cell_type": "markdown",
   "metadata": {
    "collapsed": true
   },
   "source": [
    "# #Gradient Boosting Classifier"
   ]
  },
  {
   "cell_type": "code",
   "execution_count": 37,
   "metadata": {
    "collapsed": true
   },
   "outputs": [],
   "source": [
    "from sklearn.ensemble import GradientBoostingClassifier"
   ]
  },
  {
   "cell_type": "code",
   "execution_count": 38,
   "metadata": {
    "collapsed": false
   },
   "outputs": [
    {
     "data": {
      "text/plain": [
       "GradientBoostingClassifier(criterion='friedman_mse', init=None,\n",
       "              learning_rate=0.05, loss='deviance', max_depth=1,\n",
       "              max_features=None, max_leaf_nodes=None,\n",
       "              min_impurity_split=1e-07, min_samples_leaf=1,\n",
       "              min_samples_split=2, min_weight_fraction_leaf=0.0,\n",
       "              n_estimators=5000, presort='auto', random_state=42,\n",
       "              subsample=1.0, verbose=0, warm_start=False)"
      ]
     },
     "execution_count": 38,
     "metadata": {},
     "output_type": "execute_result"
    }
   ],
   "source": [
    "gbc_fit = GradientBoostingClassifier(loss = 'deviance', learning_rate=0.05, n_estimators=5000, min_samples_split=2,\n",
    "                                     min_samples_leaf=1, max_depth=1, random_state=42)\n",
    "gbc_fit.fit(x_train,y_train)"
   ]
  },
  {
   "cell_type": "code",
   "execution_count": 39,
   "metadata": {
    "collapsed": false
   },
   "outputs": [
    {
     "name": "stdout",
     "output_type": "stream",
     "text": [
      "\n",
      "Gradient Boost - Train Confusion Matrix\n",
      "\n",
      " Predicted    0    1\n",
      "Actuall            \n",
      "0          850    3\n",
      "1           49  127\n",
      "\n",
      "Gradient Boost - Train accuracy 0.949\n",
      "\n",
      "Gradient Boost - Train Classification Report\n",
      "              precision    recall  f1-score   support\n",
      "\n",
      "          0       0.95      1.00      0.97       853\n",
      "          1       0.98      0.72      0.83       176\n",
      "\n",
      "avg / total       0.95      0.95      0.95      1029\n",
      "\n",
      "\n",
      "\n",
      "Gradient Boost - Test Confusion Matrix\n",
      "\n",
      " Predicted    0   1\n",
      "Actuall           \n",
      "0          362  18\n",
      "1           37  24\n",
      "\n",
      "Gradient Boost - Test accuracy 0.875\n",
      "\n",
      "Gradient Boost - Test Classification Report\n",
      "              precision    recall  f1-score   support\n",
      "\n",
      "          0       0.91      0.95      0.93       380\n",
      "          1       0.57      0.39      0.47        61\n",
      "\n",
      "avg / total       0.86      0.88      0.87       441\n",
      "\n"
     ]
    }
   ],
   "source": [
    "print(\"\\nGradient Boost - Train Confusion Matrix\\n\\n\",pd.crosstab(y_train, gbc_fit.predict(x_train),rownames =\n",
    "                                                                   [\"Actuall\"],colnames = [\"Predicted\"]))\n",
    "print(\"\\nGradient Boost - Train accuracy\",round(accuracy_score(y_train, gbc_fit.predict(x_train)),3))\n",
    "print(\"\\nGradient Boost - Train Classification Report\\n\",classification_report( y_train, gbc_fit.predict(x_train)))\n",
    "print(\"\\n\\nGradient Boost - Test Confusion Matrix\\n\\n\",pd.crosstab(y_test, gbc_fit.predict(x_test),rownames =\n",
    "                                                                    [\"Actuall\"],colnames = [\"Predicted\"]))\n",
    "print(\"\\nGradient Boost - Test accuracy\",round(accuracy_score(y_test,gbc_fit.predict(x_test)),3)) \n",
    "print(\"\\nGradient Boost - Test Classification Report\\n\",classification_report( y_test,gbc_fit.predict(x_test)))"
   ]
  },
  {
   "cell_type": "markdown",
   "metadata": {},
   "source": [
    "Gradient boosting has given better results than AdaBoost with the\n",
    "highest possible test accuracy of 87.5% with most 1's captured as 24, compared with\n",
    "AdaBoost with which the test accuracy obtained was 86.8%. Hence, it has been proven that\n",
    "it is no wonder why every data scientist tries to use this algorithm to win competitions!"
   ]
  },
  {
   "cell_type": "markdown",
   "metadata": {},
   "source": [
    "# #Ensemble of ensembles with different types of classifiers"
   ]
  },
  {
   "cell_type": "code",
   "execution_count": 40,
   "metadata": {
    "collapsed": true
   },
   "outputs": [],
   "source": [
    "clwght={0:0.3,1:0.7}"
   ]
  },
  {
   "cell_type": "code",
   "execution_count": 41,
   "metadata": {
    "collapsed": false
   },
   "outputs": [
    {
     "name": "stdout",
     "output_type": "stream",
     "text": [
      "\n",
      "Logistic Regression for Ensemble - Train Confusion Matrix\n",
      "\n",
      " Predicted    0    1\n",
      "Actuall            \n",
      "0          783   70\n",
      "1           62  114\n",
      "\n",
      "Logistic Regression for Ensemble - Train accuracy 0.872\n",
      "\n",
      "Logistic Regression for Ensemble - Train Classification Report\n",
      "              precision    recall  f1-score   support\n",
      "\n",
      "          0       0.93      0.92      0.92       853\n",
      "          1       0.62      0.65      0.63       176\n",
      "\n",
      "avg / total       0.87      0.87      0.87      1029\n",
      "\n",
      "\n",
      "\n",
      "Logistic Regression for Ensemble - Test Confusion Matrix\n",
      "\n",
      " Predicted    0   1\n",
      "Actuall           \n",
      "0          338  42\n",
      "1           31  30\n",
      "\n",
      "Logistic Regression for Ensemble - Test accuracy 0.834\n",
      "\n",
      "Logistic Regression for Ensemble - Test Classification Report\n",
      "              precision    recall  f1-score   support\n",
      "\n",
      "          0       0.92      0.89      0.90       380\n",
      "          1       0.42      0.49      0.45        61\n",
      "\n",
      "avg / total       0.85      0.83      0.84       441\n",
      "\n"
     ]
    }
   ],
   "source": [
    "#Classifier 1\n",
    "from sklearn.linear_model import LogisticRegression\n",
    "clf1_logreg_fit = LogisticRegression(fit_intercept=True, class_weight=clwght)\n",
    "clf1_logreg_fit.fit(x_train,y_train)\n",
    "print(\"\\nLogistic Regression for Ensemble - Train Confusion Matrix\\n\\n\",\n",
    "       pd.crosstab( y_train, clf1_logreg_fit.predict(x_train),rownames= [\"Actuall\"],colnames = [\"Predicted\"]))\n",
    "print(\"\\nLogistic Regression for Ensemble - Train accuracy\",\n",
    "      round(accuracy_score(y_train,clf1_logreg_fit.predict(x_train)),3))\n",
    "print(\"\\nLogistic Regression for Ensemble - Train Classification Report\\n\",\n",
    "       classification_report(y_train,clf1_logreg_fit.predict(x_train)))\n",
    "print(\"\\n\\nLogistic Regression for Ensemble - Test Confusion Matrix\\n\\n\",\n",
    "      pd.crosstab( y_test,clf1_logreg_fit.predict(x_test),rownames =[\"Actuall\"],colnames = [\"Predicted\"]))\n",
    "print(\"\\nLogistic Regression for Ensemble - Test accuracy\",\n",
    "      round(accuracy_score(y_test,clf1_logreg_fit.predict(x_test)),3))\n",
    "print(\"\\nLogistic Regression for Ensemble - Test Classification Report\\n\", \n",
    "      classification_report( y_test,clf1_logreg_fit.predict(x_test)))"
   ]
  },
  {
   "cell_type": "code",
   "execution_count": 42,
   "metadata": {
    "collapsed": false
   },
   "outputs": [
    {
     "name": "stdout",
     "output_type": "stream",
     "text": [
      "\n",
      "Decision Tree for Ensemble - Train Confusion Matrix\n",
      "\n",
      " Predicted    0    1\n",
      "Actuall            \n",
      "0          787   66\n",
      "1           56  120\n",
      "\n",
      "Decision Tree for Ensemble - Train accuracy 0.881\n",
      "\n",
      "Decision Tree for Ensemble - Train Classification Report\n",
      "              precision    recall  f1-score   support\n",
      "\n",
      "          0       0.93      0.92      0.93       853\n",
      "          1       0.65      0.68      0.66       176\n",
      "\n",
      "avg / total       0.88      0.88      0.88      1029\n",
      "\n",
      "\n",
      "\n",
      "Decision Tree for Ensemble - Test Confusion Matrix\n",
      "\n",
      " Predicted    0   1\n",
      "Actuall           \n",
      "0          345  35\n",
      "1           36  25\n",
      "\n",
      "Decision Tree for Ensemble - Test accuracy 0.839\n",
      "\n",
      "Decision Tree for Ensemble - Test Classification Report\n",
      "              precision    recall  f1-score   support\n",
      "\n",
      "          0       0.91      0.91      0.91       380\n",
      "          1       0.42      0.41      0.41        61\n",
      "\n",
      "avg / total       0.84      0.84      0.84       441\n",
      "\n"
     ]
    }
   ],
   "source": [
    "## Classifier 2\n",
    "from sklearn.tree import DecisionTreeClassifier\n",
    "clf2_dt_fit = DecisionTreeClassifier(criterion='gini', max_depth=5, min_samples_split=2, min_samples_leaf=1,\n",
    "                                     random_state=42, class_weight= clwght)\n",
    "\n",
    "clf2_dt_fit.fit(x_train,y_train)\n",
    "\n",
    "print(\"\\nDecision Tree for Ensemble - Train Confusion Matrix\\n\\n\",\n",
    "       pd.crosstab( y_train, clf2_dt_fit.predict(x_train),rownames =[\"Actuall\"],colnames = [\"Predicted\"]))\n",
    "print(\"\\nDecision Tree for Ensemble - Train accuracy\",round(accuracy_score( y_train,clf2_dt_fit.predict(x_train)),3))\n",
    "print(\"\\nDecision Tree for Ensemble - Train Classification Report\\n\",\n",
    "      classification_report(y_train,clf2_dt_fit.predict(x_train)))\n",
    "print(\"\\n\\nDecision Tree for Ensemble - Test Confusion Matrix\\n\\n\",\n",
    "       pd.crosstab(y_test, clf2_dt_fit.predict(x_test),rownames =[\"Actuall\"],colnames = [\"Predicted\"]))\n",
    "print(\"\\nDecision Tree for Ensemble - Test accuracy\",round(accuracy_score(y_test, clf2_dt_fit.predict(x_test)),3))\n",
    "print(\"\\nDecision Tree for Ensemble - Test Classification Report\\n\",\n",
    "      classification_report(y_test, clf2_dt_fit.predict(x_test)))"
   ]
  },
  {
   "cell_type": "code",
   "execution_count": 43,
   "metadata": {
    "collapsed": false
   },
   "outputs": [
    {
     "name": "stdout",
     "output_type": "stream",
     "text": [
      "\n",
      "Random Forest for Ensemble - Train Confusion Matrix\n",
      "\n",
      " Predicted    0    1\n",
      "Actuall            \n",
      "0          846    7\n",
      "1           61  115\n",
      "\n",
      "Random Forest for Ensemble - Train accuracy 0.934\n",
      "\n",
      "Random Forest for Ensemble - Train Classification Report\n",
      "              precision    recall  f1-score   support\n",
      "\n",
      "          0       0.93      0.99      0.96       853\n",
      "          1       0.94      0.65      0.77       176\n",
      "\n",
      "avg / total       0.93      0.93      0.93      1029\n",
      "\n",
      "\n",
      "\n",
      "Random Forest for Ensemble - Test Confusion Matrix\n",
      "\n",
      " Predicted    0   1\n",
      "Actuall           \n",
      "0          373   7\n",
      "1           51  10\n",
      "\n",
      "Random Forest for Ensemble - Test accuracy 0.868\n",
      "\n",
      "Random Forest for Ensemble - Test Classification Report\n",
      "              precision    recall  f1-score   support\n",
      "\n",
      "          0       0.88      0.98      0.93       380\n",
      "          1       0.59      0.16      0.26        61\n",
      "\n",
      "avg / total       0.84      0.87      0.83       441\n",
      "\n"
     ]
    }
   ],
   "source": [
    "## Classifier 3\n",
    "from sklearn.ensemble import RandomForestClassifier\n",
    "clf3_rf_fit = RandomForestClassifier(n_estimators=10000, criterion=\"gini\", max_depth=6,min_samples_split=2,\n",
    "                                    min_samples_leaf=1, class_weight = clwght)\n",
    "clf3_rf_fit.fit(x_train,y_train)\n",
    "\n",
    "print(\"\\nRandom Forest for Ensemble - Train Confusion Matrix\\n\\n\",\n",
    "      pd.crosstab(y_train, clf3_rf_fit.predict(x_train),rownames =[\"Actuall\"],colnames = [\"Predicted\"]))\n",
    "print(\"\\nRandom Forest for Ensemble - Train accuracy\", round(accuracy_score( y_train,clf3_rf_fit.predict(x_train)),3))\n",
    "print(\"\\nRandom Forest for Ensemble - Train Classification Report\\n\",\n",
    "      classification_report(y_train,clf3_rf_fit.predict(x_train)))\n",
    "print(\"\\n\\nRandom Forest for Ensemble - Test Confusion Matrix\\n\\n\",\n",
    "      pd.crosstab( y_test, clf3_rf_fit.predict(x_test),rownames =[\"Actuall\"],colnames = [\"Predicted\"]))\n",
    "print(\"\\nRandom Forest for Ensemble - Test accuracy\", round(accuracy_score( y_test,clf3_rf_fit.predict(x_test)),3))\n",
    "print(\"\\nRandom Forest for Ensemble - Test Classification Report\\n\",\n",
    "      classification_report(y_test,clf3_rf_fit.predict(x_test)))"
   ]
  },
  {
   "cell_type": "code",
   "execution_count": 44,
   "metadata": {
    "collapsed": false
   },
   "outputs": [
    {
     "name": "stdout",
     "output_type": "stream",
     "text": [
      "\n",
      "AdaBoost for Ensemble - Train Confusion Matrix\n",
      "\n",
      " Predicted    0    1\n",
      "Actuall            \n",
      "0          809   44\n",
      "1           25  151\n",
      "\n",
      "AdaBoost for Ensemble - Train accuracy 0.933\n",
      "\n",
      "AdaBoost for Ensemble - Train Classification Report\n",
      "              precision    recall  f1-score   support\n",
      "\n",
      "          0       0.97      0.95      0.96       853\n",
      "          1       0.77      0.86      0.81       176\n",
      "\n",
      "avg / total       0.94      0.93      0.93      1029\n",
      "\n",
      "\n",
      "\n",
      "AdaBoost for Ensemble - Test Confusion Matrix\n",
      "\n",
      " Predicted    0   1\n",
      "Actuall           \n",
      "0          342  38\n",
      "1           33  28\n",
      "\n",
      "AdaBoost for Ensemble - Test accuracy 0.839\n",
      "\n",
      "AdaBoost for Ensemble - Test Classification Report\n",
      "              precision    recall  f1-score   support\n",
      "\n",
      "          0       0.91      0.90      0.91       380\n",
      "          1       0.42      0.46      0.44        61\n",
      "\n",
      "avg / total       0.84      0.84      0.84       441\n",
      "\n"
     ]
    }
   ],
   "source": [
    "##Classifier4\n",
    "from sklearn.ensemble import AdaBoostClassifier\n",
    "clf4_dtree = DecisionTreeClassifier(criterion='gini',max_depth=1,class_weight = clwght)\n",
    "clf4_adabst_fit = AdaBoostClassifier(base_estimator= clf4_dtree,n_estimators=5000,learning_rate=0.05,random_state=42)\n",
    "clf4_adabst_fit.fit(x_train, y_train)\n",
    "\n",
    "print(\"\\nAdaBoost for Ensemble - Train Confusion Matrix\\n\\n\",\n",
    "       pd.crosstab(y_train, clf4_adabst_fit.predict(x_train),rownames= [\"Actuall\"],colnames = [\"Predicted\"]))\n",
    "print(\"\\nAdaBoost for Ensemble - Train accuracy\",round(accuracy_score(y_train, clf4_adabst_fit.predict(x_train)),3))\n",
    "print(\"\\nAdaBoost for Ensemble - Train Classification Report\\n\", \n",
    "       classification_report(y_train,clf4_adabst_fit.predict(x_train)))\n",
    "\n",
    "print(\"\\n\\nAdaBoost for Ensemble - Test Confusion Matrix\\n\\n\",\n",
    "       pd.crosstab(y_test, clf4_adabst_fit.predict(x_test),rownames =[\"Actuall\"],colnames = [\"Predicted\"]))\n",
    "print(\"\\nAdaBoost for Ensemble - Test accuracy\",round(accuracy_score(y_test, clf4_adabst_fit.predict(x_test)),3))\n",
    "print(\"\\nAdaBoost for Ensemble - Test Classification Report\\n\",\n",
    "      classification_report(y_test, clf4_adabst_fit.predict(x_test)))"
   ]
  },
  {
   "cell_type": "markdown",
   "metadata": {
    "collapsed": true
   },
   "source": [
    "ensemble = pd.DataFrame()"
   ]
  },
  {
   "cell_type": "markdown",
   "metadata": {
    "collapsed": false
   },
   "source": [
    "ensemble[\"log_output_one\"] = pd.DataFrame(clf1_logreg_fit.predict_proba(x_train))[1]\n",
    "ensemble[\"dtr_output_one\"] = pd.DataFrame(clf2_dt_fit.predict_proba(x_train))[1]\n",
    "ensemble[\"rf_output_one\"] = pd.DataFrame(clf3_rf_fit.predict_proba(x_train))[1]\n",
    "ensemble[\"adb_output_one\"] = pd.DataFrame(clf4_adabst_fit.predict_proba( x_train))[1]\n",
    "ensemble = pd.concat([ensemble,pd.DataFrame(y_train).reset_index(drop=True)],axis=1)"
   ]
  },
  {
   "cell_type": "markdown",
   "metadata": {
    "collapsed": false
   },
   "source": [
    "##Fitting meta classifier \n",
    "meta_logit_fit = LogisticRegression(fit_intercept=False)\n",
    "meta_logit_fit.fit(ensemble[['log_output_one', 'dtr_output_one',\n",
    "                             'rf_output_one', 'adb_output_one']],ensemble['Attrition_ind'])\n",
    "coefs = meta_logit_fit.coef_\n",
    "ensemble_test = pd.DataFrame()\n",
    "ensemble_test[\"log_output_one\"] = pd.DataFrame(clf1_logreg_fit.predict_proba(x_test))[1]\n",
    "ensemble_test[\"dtr_output_one\"] = pd.DataFrame(clf2_dt_fit.predict_proba(x_test))[1]\n",
    "ensemble_test[\"rf_output_one\"] = pd.DataFrame(clf3_rf_fit.predict_proba(x_test))[1]\n",
    "ensemble_test[\"adb_output_one\"] = pd.DataFrame(clf4_adabst_fit.predict_proba(x_test))[1]\n",
    "\n",
    "ensemble_test = pd.concat([ensemble_test,pd.DataFrame(y_test).reset_index(drop=True)],axis=1)"
   ]
  },
  {
   "cell_type": "markdown",
   "metadata": {
    "collapsed": false
   },
   "source": [
    "print(\"\\n\\nEnsemble of Models - Test Confusion Matrix\\n\\n\",\n",
    "       pd.crosstab(ensemble_test['Attrition_ind'],ensemble_test['all_one'],rownames =[\"Actuall\"], colnames = [\"Predicted\"]))\n",
    "\n",
    "print(\"\\nEnsemble of Models - Test accuracy\",\n",
    "      round(accuracy_score(ensemble_test['Attrition_ind'],ensemble_test['all_one']),3))\n",
    "print(\"\\nEnsemble of Models - Test Classification Report\\n\",\n",
    "      classification_report( ensemble_test['Attrition_ind'],ensemble_test['all_one']))"
   ]
  },
  {
   "cell_type": "markdown",
   "metadata": {
    "collapsed": true
   },
   "source": [
    "ensemble = pd.DataFrame()\n",
    "ensemble[\"log_output_one\"] = pd.DataFrame(clf1_logreg_fit.predict_proba( x_train))[1]\n",
    "ensemble[\"dtr_output_one\"] = pd.DataFrame(clf2_dt_fit.predict_proba(x_train))[1]\n",
    "ensemble[\"rf_output_one\"] = pd.DataFrame(clf3_rf_fit.predict_proba(x_train))[1]\n",
    "ensemble[\"adb_output_one\"] = pd.DataFrame(clf4_adabst_fit.predict_proba( x_train))[1]\n",
    "ensemble = pd.concat([ensemble,pd.DataFrame(y_train).reset_index(drop =True )],axis=1)"
   ]
  },
  {
   "cell_type": "markdown",
   "metadata": {
    "collapsed": true
   },
   "source": [
    "# Fitting meta-classifier\n",
    "meta_logit_fit = LogisticRegression(fit_intercept=False)\n",
    "meta_logit_fit.fit(ensemble[['log_output_one', 'dtr_output_one','rf_output_one', 'adb_output_one']],ensemble['Attrition_ind'])\n",
    "coefs = meta_logit_fit.coef_\n",
    "ensemble_test = pd.DataFrame()\n",
    "ensemble_test[\"log_output_one\"] = pd.DataFrame(clf1_logreg_fit.predict_proba( x_test))[1]\n",
    "ensemble_test[\"dtr_output_one\"] = pd.DataFrame(clf2_dt_fit.predict_proba( x_test))[1]\n",
    "ensemble_test[\"rf_output_one\"] = pd.DataFrame(clf3_rf_fit.predict_proba( x_test))[1]\n",
    "\n",
    "ensemble_test[\"adb_output_one\"] =pd.DataFrame(clf4_adabst_fit.predict_proba( x_test))[1]\n",
    "coefs = meta_logit_fit.coef_\n",
    "\n",
    "ensemble_test = pd.DataFrame()\n",
    "ensemble_test[\"log_output_one\"] =pd.DataFrame(clf1_logreg_fit.predict_proba( x_test))[1]\n",
    "ensemble_test[\"dtr_output_one\"] =pd.DataFrame(clf2_dt_fit.predict_proba( x_test))[1]\n",
    "ensemble_test[\"rf_output_one\"] =pd.DataFrame(clf3_rf_fit.predict_proba( x_test))[1]\n",
    "ensemble_test[\"adb_output_one\"] =pd.DataFrame(clf4_adabst_fit.predict_proba( x_test))[1]\n",
    "print (\"\\n\\nEnsemble of Models - Test Confusion Matrix\\n\\n\",pd.crosstab(ensemble_test['Attrition_ind'],ensemble_test['all_one'],rownames =[\"Actuall\"], colnames = [\"Predicted\"]))\n",
    "print (\"\\nEnsemble of Models - Test accuracy\",round(accuracy_score(ensemble_test['Attrition_ind'],ensemble_test['all_one']),3))\n",
    "print (\"\\nEnsemble of Models - Test Classification Report\\n\",classification_report( ensemble_test['Attrition_ind'],ensemble_test['all_one']))"
   ]
  },
  {
   "cell_type": "markdown",
   "metadata": {},
   "source": [
    "# #Ensemble of ensemble- by applying bagging on simple classifier"
   ]
  },
  {
   "cell_type": "markdown",
   "metadata": {},
   "source": [
    "In the following example, AdaBoost is used as a base classifier and the results of individual\n",
    "AdaBoost models are combined using the bagging classifier to generate final outcomes.\n",
    "Nonetheless, each AdaBoost is made up of decision trees with a depth of 1 (decision\n",
    "stumps). Here, we would like to show that classifier inside classifier inside classifier is\n",
    "possible (sounds like the Inception movie though!):"
   ]
  },
  {
   "cell_type": "code",
   "execution_count": 45,
   "metadata": {
    "collapsed": false
   },
   "outputs": [],
   "source": [
    "from sklearn.tree import DecisionTreeClassifier\n",
    "from sklearn.ensemble import AdaBoostClassifier, BaggingClassifier "
   ]
  },
  {
   "cell_type": "code",
   "execution_count": 46,
   "metadata": {
    "collapsed": true
   },
   "outputs": [],
   "source": [
    "clwght = {0:0.3, 1:0.7}\n",
    "eoe_dtree = DecisionTreeClassifier(criterion='gini',max_depth=1, class_weight = clwght)"
   ]
  },
  {
   "cell_type": "code",
   "execution_count": 47,
   "metadata": {
    "collapsed": false
   },
   "outputs": [
    {
     "data": {
      "text/plain": [
       "AdaBoostClassifier(algorithm='SAMME.R',\n",
       "          base_estimator=DecisionTreeClassifier(class_weight={0: 0.3, 1: 0.7}, criterion='gini',\n",
       "            max_depth=1, max_features=None, max_leaf_nodes=None,\n",
       "            min_impurity_split=1e-07, min_samples_leaf=1,\n",
       "            min_samples_split=2, min_weight_fraction_leaf=0.0,\n",
       "            presort=False, random_state=None, splitter='best'),\n",
       "          learning_rate=0.05, n_estimators=500, random_state=42)"
      ]
     },
     "execution_count": 47,
     "metadata": {},
     "output_type": "execute_result"
    }
   ],
   "source": [
    "eoe_adabst_fit = AdaBoostClassifier(base_estimator = eoe_dtree, n_estimators = 500, \n",
    "                                    learning_rate = 0.05, random_state=42)\n",
    "eoe_adabst_fit.fit(x_train,y_train)"
   ]
  },
  {
   "cell_type": "code",
   "execution_count": 48,
   "metadata": {
    "collapsed": false
   },
   "outputs": [
    {
     "name": "stdout",
     "output_type": "stream",
     "text": [
      "\n",
      "AdaBoost - Train Confusion Matrix\n",
      "\n",
      " Predicted    0    1\n",
      "Actuall            \n",
      "0          806   47\n",
      "1           63  113\n",
      "\n",
      "AdaBoost - Train accuracy 0.893\n",
      "\n",
      "AdaBoost - Train Classification Report\n",
      "              precision    recall  f1-score   support\n",
      "\n",
      "          0       0.93      0.94      0.94       853\n",
      "          1       0.71      0.64      0.67       176\n",
      "\n",
      "avg / total       0.89      0.89      0.89      1029\n",
      "\n"
     ]
    }
   ],
   "source": [
    "print (\"\\nAdaBoost - Train Confusion Matrix\\n\\n\",\n",
    "       pd.crosstab(y_train,eoe_adabst_fit.predict(x_train),rownames = [\"Actuall\"],colnames =[\"Predicted\"]))\n",
    "print (\"\\nAdaBoost - Train accuracy\", round(accuracy_score(y_train,eoe_adabst_fit.predict(x_train)),3))\n",
    "print (\"\\nAdaBoost - Train Classification Report\\n\",classification_report(y_train, eoe_adabst_fit.predict(x_train)))"
   ]
  },
  {
   "cell_type": "code",
   "execution_count": 49,
   "metadata": {
    "collapsed": false
   },
   "outputs": [
    {
     "name": "stdout",
     "output_type": "stream",
     "text": [
      "\n",
      "\n",
      "AdaBoost - Test Confusion Matrix\n",
      "\n",
      " Predicted    0   1\n",
      "Actuall           \n",
      "0          349  31\n",
      "1           34  27\n",
      "\n",
      "AdaBoost - Test accuracy 0.853\n",
      "\n",
      "AdaBoost - Test Classification Report\n",
      "              precision    recall  f1-score   support\n",
      "\n",
      "          0       0.91      0.92      0.91       380\n",
      "          1       0.47      0.44      0.45        61\n",
      "\n",
      "avg / total       0.85      0.85      0.85       441\n",
      "\n"
     ]
    }
   ],
   "source": [
    "print(\"\\n\\nAdaBoost - Test Confusion Matrix\\n\\n\",\n",
    "       pd.crosstab(y_test,eoe_adabst_fit.predict(x_test),rownames = [\"Actuall\"],colnames =[\"Predicted\"]))\n",
    "print(\"\\nAdaBoost - Test accuracy\",round(accuracy_score(y_test,eoe_adabst_fit.predict(x_test)),3))\n",
    "print(\"\\nAdaBoost - Test Classification Report\\n\",classification_report(y_test, eoe_adabst_fit.predict(x_test)))"
   ]
  },
  {
   "cell_type": "markdown",
   "metadata": {},
   "source": [
    "The bagging classifier consists of 50 AdaBoost classifiers to ensemble the ensembles:"
   ]
  },
  {
   "cell_type": "code",
   "execution_count": 51,
   "metadata": {
    "collapsed": false
   },
   "outputs": [
    {
     "data": {
      "text/plain": [
       "BaggingClassifier(base_estimator=AdaBoostClassifier(algorithm='SAMME.R',\n",
       "          base_estimator=DecisionTreeClassifier(class_weight={0: 0.3, 1: 0.7}, criterion='gini',\n",
       "            max_depth=1, max_features=None, max_leaf_nodes=None,\n",
       "            min_impurity_split=1e-07, min_samples_leaf=1,\n",
       "            min_samples_split=2, min_weight_fraction_leaf=0.0,\n",
       "            presort=False, random_state=None, splitter='best'),\n",
       "          learning_rate=0.05, n_estimators=500, random_state=42),\n",
       "         bootstrap=True, bootstrap_features=False, max_features=1.0,\n",
       "         max_samples=1.0, n_estimators=50, n_jobs=-1, oob_score=False,\n",
       "         random_state=42, verbose=0, warm_start=False)"
      ]
     },
     "execution_count": 51,
     "metadata": {},
     "output_type": "execute_result"
    }
   ],
   "source": [
    "bag_fit = BaggingClassifier(base_estimator = eoe_adabst_fit,n_estimators =50, max_samples=1.0, max_features=1.0,\n",
    "                            bootstrap=True,bootstrap_features=False, n_jobs=-1, random_state=42)\n",
    "bag_fit.fit(x_train,y_train)"
   ]
  },
  {
   "cell_type": "code",
   "execution_count": 55,
   "metadata": {
    "collapsed": false
   },
   "outputs": [
    {
     "name": "stdout",
     "output_type": "stream",
     "text": [
      "\n",
      "Ensemble of AdaBoost - Train Confusion Matrix\n",
      "\n",
      " predicted    0    1\n",
      "Actual             \n",
      "0          824   29\n",
      "1           69  107\n",
      "\n",
      "Ensemble of AdaBoost - Train accuracy 0.905\n",
      "\n",
      "Ensemble of AdaBoost - Train Classifier Report\n",
      "              precision    recall  f1-score   support\n",
      "\n",
      "          0       0.92      0.97      0.94       853\n",
      "          1       0.79      0.61      0.69       176\n",
      "\n",
      "avg / total       0.90      0.90      0.90      1029\n",
      "\n"
     ]
    }
   ],
   "source": [
    "print(\"\\nEnsemble of AdaBoost - Train Confusion Matrix\\n\\n\",\n",
    "      pd.crosstab(y_train,bag_fit.predict(x_train),rownames=[\"Actual\"],colnames=[\"predicted\"]))\n",
    "print(\"\\nEnsemble of AdaBoost - Train accuracy\",\n",
    "     round(accuracy_score(y_train,bag_fit.predict(x_train)),3))\n",
    "print(\"\\nEnsemble of AdaBoost - Train Classifier Report\\n\",classification_report(y_train, bag_fit.predict(x_train)))"
   ]
  },
  {
   "cell_type": "code",
   "execution_count": 56,
   "metadata": {
    "collapsed": false
   },
   "outputs": [
    {
     "name": "stdout",
     "output_type": "stream",
     "text": [
      "\n",
      "Ensemble of AdaBoost - Test Confusion Matrix\n",
      "\n",
      " predicted    0   1\n",
      "Actual            \n",
      "0          359  21\n",
      "1           36  25\n",
      "\n",
      "Ensemble of AdaBoost - Train accuracy 0.871\n",
      "\n",
      "Ensemble of AdaBoost - Train Classifier Report\n",
      "              precision    recall  f1-score   support\n",
      "\n",
      "          0       0.91      0.94      0.93       380\n",
      "          1       0.54      0.41      0.47        61\n",
      "\n",
      "avg / total       0.86      0.87      0.86       441\n",
      "\n"
     ]
    }
   ],
   "source": [
    "print(\"\\nEnsemble of AdaBoost - Test Confusion Matrix\\n\\n\",\n",
    "      pd.crosstab(y_test,bag_fit.predict(x_test),rownames=[\"Actual\"],colnames=[\"predicted\"]))\n",
    "print(\"\\nEnsemble of AdaBoost - Train accuracy\",\n",
    "     round(accuracy_score(y_test,bag_fit.predict(x_test)),3))\n",
    "print(\"\\nEnsemble of AdaBoost - Train Classifier Report\\n\",classification_report(y_test, bag_fit.predict(x_test)))"
   ]
  },
  {
   "cell_type": "markdown",
   "metadata": {},
   "source": [
    "The results of the ensemble on AdaBoost have shown some improvements, in which the test\n",
    "accuracy obtained is 87.1%, which is almost to that of gradient boosting at 87.5%, which is\n",
    "the best value we have seen so far. However, the number of 1's identified is 25 here, which\n",
    "is greater than Gradient Boosting. Hence, it has been proven that an ensemble of ensembles\n",
    "does work!"
   ]
  },
  {
   "cell_type": "code",
   "execution_count": null,
   "metadata": {
    "collapsed": true
   },
   "outputs": [],
   "source": []
  }
 ],
 "metadata": {
  "kernelspec": {
   "display_name": "Python 3",
   "language": "python",
   "name": "python3"
  },
  "language_info": {
   "codemirror_mode": {
    "name": "ipython",
    "version": 3
   },
   "file_extension": ".py",
   "mimetype": "text/x-python",
   "name": "python",
   "nbconvert_exporter": "python",
   "pygments_lexer": "ipython3",
   "version": "3.6.0"
  }
 },
 "nbformat": 4,
 "nbformat_minor": 2
}
