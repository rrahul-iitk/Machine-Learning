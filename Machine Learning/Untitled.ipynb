{
 "cells": [
  {
   "cell_type": "code",
   "execution_count": 13,
   "metadata": {
    "collapsed": true
   },
   "outputs": [],
   "source": [
    "import pandas as pd \n",
    "from sklearn.linear_model import Ridge, Lasso\n",
    "from sklearn.model_selection import train_test_split"
   ]
  },
  {
   "cell_type": "code",
   "execution_count": 14,
   "metadata": {
    "collapsed": true
   },
   "outputs": [],
   "source": [
    "wine_quality = pd.read_csv(\"winequality-red.csv\", sep=';')\n",
    "wine_quality.rename(columns = lambda x: x.replace(\" \",\"_\"), inplace= True)\n",
    "all_columns = ['fixed_acidity', 'volatile_acidity', 'citric_acid',\n",
    "'residual_sugar', 'chlorides', 'free_sulfur_dioxide',\n",
    "'total_sulfur_dioxide', 'density', 'pH', 'sulphates', 'alcohol']"
   ]
  },
  {
   "cell_type": "code",
   "execution_count": 15,
   "metadata": {
    "collapsed": false
   },
   "outputs": [],
   "source": [
    "pdx = wine_quality[all_columns]\n",
    "pdy = wine_quality['quality']\n",
    "\n",
    "x_train, x_test, y_train, y_test = train_test_split(pdx, pdy, train_size = 0.7, random_state = 42)"
   ]
  },
  {
   "cell_type": "code",
   "execution_count": 16,
   "metadata": {
    "collapsed": false
   },
   "outputs": [
    {
     "name": "stdout",
     "output_type": "stream",
     "text": [
      "\n",
      " Ridge Regression: Best Parameters\n",
      "\n",
      "Lambda:  0.0001 Train R-Squared value: 0.3612 Test R-Squared value: 0.35135\n"
     ]
    }
   ],
   "source": [
    "alphas = [1e-4,1e-3,1e-2,0.1,0.5,1.0,5.0,10.0]\n",
    "\n",
    "initrsq = 0\n",
    "print(\"\\n Ridge Regression: Best Parameters\\n\")\n",
    "for alph in alphas:\n",
    "    ridge_reg = Ridge(alpha=alph)\n",
    "    ridge_reg.fit(x_train, y_train)\n",
    "    tr_rsqrd = ridge_reg.score(x_train,y_train)\n",
    "    ts_rsqrd = ridge_reg.score(x_test, y_test)\n",
    "    \n",
    "    if ts_rsqrd > initrsq:\n",
    "        print(\"Lambda: \", alph, \"Train R-Squared value:\", round(tr_rsqrd,5), \"Test R-Squared value:\", round(ts_rsqrd,5))\n",
    "        initrsq = ts_rsqrd"
   ]
  },
  {
   "cell_type": "code",
   "execution_count": 18,
   "metadata": {
    "collapsed": false
   },
   "outputs": [
    {
     "name": "stdout",
     "output_type": "stream",
     "text": [
      "\n",
      "Ridge Regression coefficient values of Alpha = 0.0001\n",
      "\n",
      "fixed_acidity :  0.021706419837\n",
      "volatile_acidity :  -1.10082846933\n",
      "citric_acid :  -0.248062597576\n",
      "residual_sugar :  0.00691481334966\n",
      "chlorides :  -1.67610062703\n",
      "free_sulfur_dioxide :  0.00456956994204\n",
      "total_sulfur_dioxide :  -0.00326831243606\n",
      "density :  -12.3196987494\n",
      "pH :  -0.328830332602\n",
      "sulphates :  0.810203601116\n",
      "alcohol :  0.293744901661\n",
      "\n",
      "Lasso Regression coefficient values of Alpha = 0.0001\n",
      "\n",
      "fixed_acidity :  0.0107649928845\n",
      "volatile_acidity :  -1.10668687205\n",
      "citric_acid :  -0.242788971465\n",
      "residual_sugar :  0.001350800261\n",
      "chlorides :  -1.62931096227\n",
      "free_sulfur_dioxide :  0.00470797325756\n",
      "total_sulfur_dioxide :  -0.00329331359609\n",
      "density :  -0.0\n",
      "pH :  -0.377021550904\n",
      "sulphates :  0.783513269352\n",
      "alcohol :  0.305283362099\n"
     ]
    }
   ],
   "source": [
    "ridge_reg = Ridge(alpha=0.0001)\n",
    "ridge_reg.fit(x_train,y_train)\n",
    "print (\"\\nRidge Regression coefficient values of Alpha = 0.0001\\n\")\n",
    "for i in range(11):\n",
    "    print (all_colnms[i],\": \",ridge_reg.coef_[i])\n",
    "\n",
    "lasso_reg = Lasso(alpha=0.0001)\n",
    "lasso_reg.fit(x_train,y_train)\n",
    "print (\"\\nLasso Regression coefficient values of Alpha = 0.0001\\n\")\n",
    "for i in range(11):\n",
    "    print (all_colnms[i],\": \",lasso_reg.coef_[i])"
   ]
  },
  {
   "cell_type": "code",
   "execution_count": null,
   "metadata": {
    "collapsed": true
   },
   "outputs": [],
   "source": []
  }
 ],
 "metadata": {
  "kernelspec": {
   "display_name": "Python 3",
   "language": "python",
   "name": "python3"
  },
  "language_info": {
   "codemirror_mode": {
    "name": "ipython",
    "version": 3
   },
   "file_extension": ".py",
   "mimetype": "text/x-python",
   "name": "python",
   "nbconvert_exporter": "python",
   "pygments_lexer": "ipython3",
   "version": "3.6.0"
  }
 },
 "nbformat": 4,
 "nbformat_minor": 2
}
