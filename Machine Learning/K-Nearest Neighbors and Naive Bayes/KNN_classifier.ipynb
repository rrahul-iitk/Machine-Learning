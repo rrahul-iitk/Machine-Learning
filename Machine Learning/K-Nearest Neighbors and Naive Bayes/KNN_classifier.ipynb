{
 "cells": [
  {
   "cell_type": "code",
   "execution_count": 10,
   "metadata": {
    "collapsed": false
   },
   "outputs": [],
   "source": [
    "#KNN Classifier - Breast Cancer\n",
    "import numpy as np\n",
    "import pandas as pd\n",
    "from sklearn.metrics import accuracy_score, classification_report"
   ]
  },
  {
   "cell_type": "code",
   "execution_count": 11,
   "metadata": {
    "collapsed": false
   },
   "outputs": [
    {
     "name": "stdout",
     "output_type": "stream",
     "text": [
      "   ID_Number  Clump_Thickness  Unit_Cell_Size  Unit_Cell_Shape  Marg_Adhesion  \\\n",
      "0    1000025                5               1                1              1   \n",
      "1    1002945                5               4                4              5   \n",
      "2    1015425                3               1                1              1   \n",
      "3    1016277                6               8                8              1   \n",
      "4    1017023                4               1                1              3   \n",
      "\n",
      "   Single_Epth_Cell_Size Bare_Nuclei  Bland_Chromatin  Normal_Nucleoli  \\\n",
      "0                      2           1                3                1   \n",
      "1                      7          10                3                2   \n",
      "2                      2           2                3                1   \n",
      "3                      3           4                3                7   \n",
      "4                      2           1                3                1   \n",
      "\n",
      "   Mitoses  Class  \n",
      "0        1      2  \n",
      "1        1      2  \n",
      "2        1      2  \n",
      "3        1      2  \n",
      "4        1      2  \n"
     ]
    }
   ],
   "source": [
    "breast_cancer = pd.read_csv(\"Breast_Cancer_Wisconsin.csv\")\n",
    "print(breast_cancer.head(5))"
   ]
  },
  {
   "cell_type": "markdown",
   "metadata": {},
   "source": [
    "The following are the first few rows to show how the data looks like. The Class value has\n",
    "class 2 and 4. Value 2 and 4 represent benign and malignant class, respectively. Whereas all\n",
    "the other variables do vary between value 1 and 10, which are very much categorical in\n",
    "nature. Only the Bare_Nuclei variable has some missing values, here we are replacing them with\n",
    "the most frequent value (category value 1) in the following code"
   ]
  },
  {
   "cell_type": "code",
   "execution_count": 12,
   "metadata": {
    "collapsed": true
   },
   "outputs": [],
   "source": [
    "breast_cancer[\"Bare_Nuclei\"] = breast_cancer[\"Bare_Nuclei\"].replace('?',np.NAN)\n",
    "breast_cancer[\"Bare_Nuclei\"] = breast_cancer.fillna(breast_cancer[\"Bare_Nuclei\"].value_counts().index[0])"
   ]
  },
  {
   "cell_type": "code",
   "execution_count": 13,
   "metadata": {
    "collapsed": false
   },
   "outputs": [],
   "source": [
    "breast_cancer['Cancer_Ind'] = 0\n",
    "breast_cancer.loc[breast_cancer['Class']==4, 'Cancer_Ind'] = 1"
   ]
  },
  {
   "cell_type": "code",
   "execution_count": 18,
   "metadata": {
    "collapsed": false
   },
   "outputs": [],
   "source": [
    "x_vars = breast_cancer.drop(['ID_Number','Class','Cancer_Ind'],axis = 1)\n",
    "y_vars = breast_cancer['Cancer_Ind']"
   ]
  },
  {
   "cell_type": "code",
   "execution_count": 19,
   "metadata": {
    "collapsed": false
   },
   "outputs": [
    {
     "name": "stderr",
     "output_type": "stream",
     "text": [
      "C:\\ProgramData\\Anaconda3\\lib\\site-packages\\sklearn\\utils\\validation.py:429: DataConversionWarning: Data with input dtype object was converted to float64 by StandardScaler.\n",
      "  warnings.warn(msg, _DataConversionWarning)\n"
     ]
    }
   ],
   "source": [
    "from sklearn.preprocessing import StandardScaler\n",
    "x_vars_stdscle = StandardScaler().fit_transform(x_vars.values)\n",
    "from sklearn.model_selection import train_test_split"
   ]
  },
  {
   "cell_type": "code",
   "execution_count": 22,
   "metadata": {
    "collapsed": true
   },
   "outputs": [],
   "source": [
    "x_vars_stdscle = pd.DataFrame(x_vars_stdscle, index= x_vars.index, columns= x_vars.columns)\n",
    "x_train,x_test,y_train,y_test = train_test_split(x_vars_stdscle,y_vars,train_size=0.7,random_state=42)"
   ]
  },
  {
   "cell_type": "code",
   "execution_count": 23,
   "metadata": {
    "collapsed": false
   },
   "outputs": [
    {
     "data": {
      "text/plain": [
       "KNeighborsClassifier(algorithm='auto', leaf_size=30, metric='minkowski',\n",
       "           metric_params=None, n_jobs=1, n_neighbors=3, p=2,\n",
       "           weights='uniform')"
      ]
     },
     "execution_count": 23,
     "metadata": {},
     "output_type": "execute_result"
    }
   ],
   "source": [
    "from sklearn.neighbors import KNeighborsClassifier \n",
    "knn_fit = KNeighborsClassifier(n_neighbors=3, p=2,metric='minkowski')\n",
    "knn_fit.fit(x_train,y_train)"
   ]
  },
  {
   "cell_type": "code",
   "execution_count": 24,
   "metadata": {
    "collapsed": false
   },
   "outputs": [
    {
     "name": "stdout",
     "output_type": "stream",
     "text": [
      "\n",
      "K-Nearest Neighbors - Train Confusion Matrix\n",
      "\n",
      " Predicted    0    1\n",
      "Actuall            \n",
      "0          303   12\n",
      "1            3  171\n",
      "\n",
      "K-Nearest Neighbors - Train accuracy: 0.969\n",
      "\n",
      "K-Nearest Neighbors - Train Classification Report\n",
      "              precision    recall  f1-score   support\n",
      "\n",
      "          0       0.99      0.96      0.98       315\n",
      "          1       0.93      0.98      0.96       174\n",
      "\n",
      "avg / total       0.97      0.97      0.97       489\n",
      "\n",
      "\n",
      "\n",
      "K-Nearest Neighbors - Test Confusion Matrix\n",
      "\n",
      " Predicted    0   1\n",
      "Actuall           \n",
      "0          139   4\n",
      "1            2  65\n",
      "\n",
      "K-Nearest Neighbors - Test accuracy: 0.971\n",
      "\n",
      "K-Nearest Neighbors - Test Classification Report\n",
      "              precision    recall  f1-score   support\n",
      "\n",
      "          0       0.99      0.97      0.98       143\n",
      "          1       0.94      0.97      0.96        67\n",
      "\n",
      "avg / total       0.97      0.97      0.97       210\n",
      "\n"
     ]
    }
   ],
   "source": [
    "print(\"\\nK-Nearest Neighbors - Train Confusion Matrix\\n\\n\",\n",
    "       pd.crosstab(y_train, knn_fit.predict(x_train),rownames =[\"Actuall\"],colnames = [\"Predicted\"]) )\n",
    "print(\"\\nK-Nearest Neighbors - Train accuracy:\",round(accuracy_score(y_train, knn_fit.predict(x_train)),3))\n",
    "print(\"\\nK-Nearest Neighbors - Train Classification Report\\n\", classification_report( y_train,knn_fit.predict(x_train)))\n",
    "print(\"\\n\\nK-Nearest Neighbors - Test Confusion Matrix\\n\\n\",\n",
    "       pd.crosstab(y_test, knn_fit.predict(x_test),rownames =[\"Actuall\"],colnames = [\"Predicted\"]))\n",
    "print(\"\\nK-Nearest Neighbors - Test accuracy:\",round(accuracy_score(y_test,knn_fit.predict(x_test)),3))\n",
    "print(\"\\nK-Nearest Neighbors - Test Classification Report\\n\",classification_report(y_test,knn_fit.predict(x_test)))"
   ]
  },
  {
   "cell_type": "markdown",
   "metadata": {},
   "source": [
    "From the results, it is appearing that KNN is working very well in classifying malignant\n",
    "and benign classes well, obtaining test accuracy of 97.6 percent with 96 percent of recall on\n",
    "malignant class. The only deficiency of KNN classifier would be, it is computationally\n",
    "intensive during test phase, as each test observation will be compared with all the available\n",
    "observations in train data, which practically KNN does not learn a thing from training data.\n",
    "Hence, we are also calling it a lazy classifier!"
   ]
  },
  {
   "cell_type": "markdown",
   "metadata": {},
   "source": [
    "# #Tuning of k-value in KNN classifier"
   ]
  },
  {
   "cell_type": "code",
   "execution_count": 25,
   "metadata": {
    "collapsed": true
   },
   "outputs": [],
   "source": [
    "#Tuning of K-value for Train & Test data\n",
    "dummyarray=np.empty((5,3))\n",
    "k_valchart = pd.DataFrame(dummyarray)\n",
    "k_valchart.columns = [\"K_value\",\"Train_acc\",\"Test_acc\"]"
   ]
  },
  {
   "cell_type": "code",
   "execution_count": 26,
   "metadata": {
    "collapsed": true
   },
   "outputs": [],
   "source": [
    "k_vals = [1,2,3,4,5]"
   ]
  },
  {
   "cell_type": "code",
   "execution_count": 28,
   "metadata": {
    "collapsed": false
   },
   "outputs": [
    {
     "name": "stdout",
     "output_type": "stream",
     "text": [
      "\n",
      "K-value 1\n",
      "\n",
      "K-Nearest Neighbors - Train Confusion Matrix\n",
      "\n",
      " Predicted    0    1\n",
      "Actuall            \n",
      "0          315    0\n",
      "1            0  174\n",
      "\n",
      "K-Nearest Neighbors - Train accuracy: 1.0\n",
      "\n",
      "K-Nearest Neighbors - Train Classification Report\n",
      "              precision    recall  f1-score   support\n",
      "\n",
      "          0       1.00      1.00      1.00       315\n",
      "          1       1.00      1.00      1.00       174\n",
      "\n",
      "avg / total       1.00      1.00      1.00       489\n",
      "\n",
      "\n",
      "\n",
      "K-Nearest Neighbors - Test Confusion Matrix\n",
      "\n",
      " Predicted    0   1\n",
      "Actuall           \n",
      "0          140   3\n",
      "1            9  58\n",
      "\n",
      "K-Nearest Neighbors - Test accuracy: 0.943\n",
      "\n",
      "K-Nearest Neighbors - Test Classification Report\n",
      "              precision    recall  f1-score   support\n",
      "\n",
      "          0       0.94      0.98      0.96       143\n",
      "          1       0.95      0.87      0.91        67\n",
      "\n",
      "avg / total       0.94      0.94      0.94       210\n",
      "\n",
      "\n",
      "K-value 2\n",
      "\n",
      "K-Nearest Neighbors - Train Confusion Matrix\n",
      "\n",
      " Predicted    0    1\n",
      "Actuall            \n",
      "0          315    0\n",
      "1           23  151\n",
      "\n",
      "K-Nearest Neighbors - Train accuracy: 0.953\n",
      "\n",
      "K-Nearest Neighbors - Train Classification Report\n",
      "              precision    recall  f1-score   support\n",
      "\n",
      "          0       0.93      1.00      0.96       315\n",
      "          1       1.00      0.87      0.93       174\n",
      "\n",
      "avg / total       0.96      0.95      0.95       489\n",
      "\n",
      "\n",
      "\n",
      "K-Nearest Neighbors - Test Confusion Matrix\n",
      "\n",
      " Predicted    0   1\n",
      "Actuall           \n",
      "0          141   2\n",
      "1           14  53\n",
      "\n",
      "K-Nearest Neighbors - Test accuracy: 0.924\n",
      "\n",
      "K-Nearest Neighbors - Test Classification Report\n",
      "              precision    recall  f1-score   support\n",
      "\n",
      "          0       0.91      0.99      0.95       143\n",
      "          1       0.96      0.79      0.87        67\n",
      "\n",
      "avg / total       0.93      0.92      0.92       210\n",
      "\n",
      "\n",
      "K-value 3\n",
      "\n",
      "K-Nearest Neighbors - Train Confusion Matrix\n",
      "\n",
      " Predicted    0    1\n",
      "Actuall            \n",
      "0          303   12\n",
      "1            3  171\n",
      "\n",
      "K-Nearest Neighbors - Train accuracy: 0.969\n",
      "\n",
      "K-Nearest Neighbors - Train Classification Report\n",
      "              precision    recall  f1-score   support\n",
      "\n",
      "          0       0.99      0.96      0.98       315\n",
      "          1       0.93      0.98      0.96       174\n",
      "\n",
      "avg / total       0.97      0.97      0.97       489\n",
      "\n",
      "\n",
      "\n",
      "K-Nearest Neighbors - Test Confusion Matrix\n",
      "\n",
      " Predicted    0   1\n",
      "Actuall           \n",
      "0          139   4\n",
      "1            2  65\n",
      "\n",
      "K-Nearest Neighbors - Test accuracy: 0.971\n",
      "\n",
      "K-Nearest Neighbors - Test Classification Report\n",
      "              precision    recall  f1-score   support\n",
      "\n",
      "          0       0.99      0.97      0.98       143\n",
      "          1       0.94      0.97      0.96        67\n",
      "\n",
      "avg / total       0.97      0.97      0.97       210\n",
      "\n",
      "\n",
      "K-value 4\n",
      "\n",
      "K-Nearest Neighbors - Train Confusion Matrix\n",
      "\n",
      " Predicted    0    1\n",
      "Actuall            \n",
      "0          304   11\n",
      "1            9  165\n",
      "\n",
      "K-Nearest Neighbors - Train accuracy: 0.959\n",
      "\n",
      "K-Nearest Neighbors - Train Classification Report\n",
      "              precision    recall  f1-score   support\n",
      "\n",
      "          0       0.97      0.97      0.97       315\n",
      "          1       0.94      0.95      0.94       174\n",
      "\n",
      "avg / total       0.96      0.96      0.96       489\n",
      "\n",
      "\n",
      "\n",
      "K-Nearest Neighbors - Test Confusion Matrix\n",
      "\n",
      " Predicted    0   1\n",
      "Actuall           \n",
      "0          141   2\n",
      "1            6  61\n",
      "\n",
      "K-Nearest Neighbors - Test accuracy: 0.962\n",
      "\n",
      "K-Nearest Neighbors - Test Classification Report\n",
      "              precision    recall  f1-score   support\n",
      "\n",
      "          0       0.96      0.99      0.97       143\n",
      "          1       0.97      0.91      0.94        67\n",
      "\n",
      "avg / total       0.96      0.96      0.96       210\n",
      "\n",
      "\n",
      "K-value 5\n",
      "\n",
      "K-Nearest Neighbors - Train Confusion Matrix\n",
      "\n",
      " Predicted    0    1\n",
      "Actuall            \n",
      "0          302   13\n",
      "1            8  166\n",
      "\n",
      "K-Nearest Neighbors - Train accuracy: 0.957\n",
      "\n",
      "K-Nearest Neighbors - Train Classification Report\n",
      "              precision    recall  f1-score   support\n",
      "\n",
      "          0       0.97      0.96      0.97       315\n",
      "          1       0.93      0.95      0.94       174\n",
      "\n",
      "avg / total       0.96      0.96      0.96       489\n",
      "\n",
      "\n",
      "\n",
      "K-Nearest Neighbors - Test Confusion Matrix\n",
      "\n",
      " Predicted    0   1\n",
      "Actuall           \n",
      "0          139   4\n",
      "1            3  64\n",
      "\n",
      "K-Nearest Neighbors - Test accuracy: 0.967\n",
      "\n",
      "K-Nearest Neighbors - Test Classification Report\n",
      "              precision    recall  f1-score   support\n",
      "\n",
      "          0       0.98      0.97      0.98       143\n",
      "          1       0.94      0.96      0.95        67\n",
      "\n",
      "avg / total       0.97      0.97      0.97       210\n",
      "\n"
     ]
    }
   ],
   "source": [
    "for i in range(len(k_vals)):\n",
    "    knn_fit = KNeighborsClassifier(n_neighbors=k_vals[i],p=2,metric='minkowski')\n",
    "    knn_fit.fit(x_train,y_train)\n",
    "    print(\"\\nK-value\",k_vals[i])\n",
    "    tr_accscore = round(accuracy_score(y_train,knn_fit.predict(x_train)),3)\n",
    "    print(\"\\nK-Nearest Neighbors - Train Confusion Matrix\\n\\n\",\n",
    "           pd.crosstab( y_train, knn_fit.predict(x_train),rownames =[\"Actuall\"],colnames = [\"Predicted\"]) )\n",
    "    print(\"\\nK-Nearest Neighbors - Train accuracy:\",tr_accscore)\n",
    "    print (\"\\nK-Nearest Neighbors - Train Classification Report\\n\",\n",
    "           classification_report(y_train,knn_fit.predict(x_train)))\n",
    "    ts_accscore= round(accuracy_score(y_test,knn_fit.predict(x_test)),3)\n",
    "    print (\"\\n\\nK-Nearest Neighbors - Test Confusion Matrix\\n\\n\",\n",
    "           pd.crosstab( y_test,knn_fit.predict(x_test),rownames =[\"Actuall\"],colnames = [\"Predicted\"]))\n",
    "    print (\"\\nK-Nearest Neighbors - Test accuracy:\",ts_accscore)\n",
    "    print (\"\\nK-Nearest Neighbors - Test Classification Report\\n\",classification_report(y_test,knn_fit.predict(x_test)))\n",
    "    k_valchart.loc[i, 'K_value'] = k_vals[i]\n",
    "    k_valchart.loc[i, 'Train_acc'] = tr_accscore\n",
    "    k_valchart.loc[i, 'Test_acc'] = ts_accscore"
   ]
  },
  {
   "cell_type": "code",
   "execution_count": 29,
   "metadata": {
    "collapsed": false
   },
   "outputs": [
    {
     "data": {
      "image/png": "[encoded data removed]",
      "text/plain": [
       "<matplotlib.figure.Figure at 0xf49410>"
      ]
     },
     "metadata": {},
     "output_type": "display_data"
    }
   ],
   "source": [
    "# Ploting accuracies over varied K-values\n",
    "import matplotlib.pyplot as plt\n",
    "plt.figure()\n",
    "plt.xlabel('K-value')\n",
    "plt.ylabel('Accuracy')\n",
    "plt.plot(k_valchart[\"K_value\"],k_valchart[\"Train_acc\"])\n",
    "plt.plot(k_valchart[\"K_value\"],k_valchart[\"Test_acc\"])\n",
    "plt.axis([0.9,5, 0.92, 1.005])\n",
    "plt.xticks([1,2,3,4,5])\n",
    "for a,b in zip(k_valchart[\"K_value\"],k_valchart[\"Train_acc\"]):\n",
    "    plt.text(a, b, str(b),fontsize=10)\n",
    "for a,b in zip(k_valchart[\"K_value\"],k_valchart[\"Test_acc\"]):\n",
    "    plt.text(a, b, str(b),fontsize=10)\n",
    "plt.legend(loc='upper right')\n",
    "plt.show()"
   ]
  }
 ],
 "metadata": {
  "kernelspec": {
   "display_name": "Python 3",
   "language": "python",
   "name": "python3"
  },
  "language_info": {
   "codemirror_mode": {
    "name": "ipython",
    "version": 3
   },
   "file_extension": ".py",
   "mimetype": "text/x-python",
   "name": "python",
   "nbconvert_exporter": "python",
   "pygments_lexer": "ipython3",
   "version": "3.6.0"
  }
 },
 "nbformat": 4,
 "nbformat_minor": 2
}
