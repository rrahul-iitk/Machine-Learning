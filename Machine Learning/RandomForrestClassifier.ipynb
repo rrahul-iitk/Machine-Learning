{
 "cells": [
  {
   "cell_type": "code",
   "execution_count": 1,
   "metadata": {
    "collapsed": true
   },
   "outputs": [],
   "source": [
    "import pandas as pd\n",
    "from sklearn.ensemble import RandomForestClassifier\n",
    "from sklearn.model_selection import train_test_split\n",
    "from sklearn.metrics import accuracy_score, classification_report"
   ]
  },
  {
   "cell_type": "code",
   "execution_count": 2,
   "metadata": {
    "collapsed": false
   },
   "outputs": [
    {
     "data": {
      "text/html": [
       "<div>\n",
       "<table border=\"1\" class=\"dataframe\">\n",
       "  <thead>\n",
       "    <tr style=\"text-align: right;\">\n",
       "      <th></th>\n",
       "      <th>Status_of_existing_checking_account</th>\n",
       "      <th>Duration_in_month</th>\n",
       "      <th>Credit_history</th>\n",
       "      <th>Purpose</th>\n",
       "      <th>Credit_amount</th>\n",
       "      <th>Savings_Account</th>\n",
       "      <th>Present_Employment_since</th>\n",
       "      <th>Installment_rate_in_percentage_of_disposable_income</th>\n",
       "      <th>Personal_status_and_sex</th>\n",
       "      <th>Other_debtors</th>\n",
       "      <th>...</th>\n",
       "      <th>Property</th>\n",
       "      <th>Age_in_years</th>\n",
       "      <th>Other_installment_plans</th>\n",
       "      <th>Housing</th>\n",
       "      <th>Number_of_existing_credits_at_the_bank</th>\n",
       "      <th>Job</th>\n",
       "      <th>Number_of_people_being_liable_to_provide_maintenance_for</th>\n",
       "      <th>Telephone</th>\n",
       "      <th>Foreign_worker</th>\n",
       "      <th>class</th>\n",
       "    </tr>\n",
       "  </thead>\n",
       "  <tbody>\n",
       "    <tr>\n",
       "      <th>0</th>\n",
       "      <td>A11</td>\n",
       "      <td>6</td>\n",
       "      <td>A34</td>\n",
       "      <td>A43</td>\n",
       "      <td>1169</td>\n",
       "      <td>A65</td>\n",
       "      <td>A75</td>\n",
       "      <td>4</td>\n",
       "      <td>A93</td>\n",
       "      <td>A101</td>\n",
       "      <td>...</td>\n",
       "      <td>A121</td>\n",
       "      <td>67</td>\n",
       "      <td>A143</td>\n",
       "      <td>A152</td>\n",
       "      <td>2</td>\n",
       "      <td>A173</td>\n",
       "      <td>1</td>\n",
       "      <td>A192</td>\n",
       "      <td>A201</td>\n",
       "      <td>0</td>\n",
       "    </tr>\n",
       "    <tr>\n",
       "      <th>1</th>\n",
       "      <td>A12</td>\n",
       "      <td>48</td>\n",
       "      <td>A32</td>\n",
       "      <td>A43</td>\n",
       "      <td>5951</td>\n",
       "      <td>A61</td>\n",
       "      <td>A73</td>\n",
       "      <td>2</td>\n",
       "      <td>A92</td>\n",
       "      <td>A101</td>\n",
       "      <td>...</td>\n",
       "      <td>A121</td>\n",
       "      <td>22</td>\n",
       "      <td>A143</td>\n",
       "      <td>A152</td>\n",
       "      <td>1</td>\n",
       "      <td>A173</td>\n",
       "      <td>1</td>\n",
       "      <td>A191</td>\n",
       "      <td>A201</td>\n",
       "      <td>1</td>\n",
       "    </tr>\n",
       "    <tr>\n",
       "      <th>2</th>\n",
       "      <td>A14</td>\n",
       "      <td>12</td>\n",
       "      <td>A34</td>\n",
       "      <td>A46</td>\n",
       "      <td>2096</td>\n",
       "      <td>A61</td>\n",
       "      <td>A74</td>\n",
       "      <td>2</td>\n",
       "      <td>A93</td>\n",
       "      <td>A101</td>\n",
       "      <td>...</td>\n",
       "      <td>A121</td>\n",
       "      <td>49</td>\n",
       "      <td>A143</td>\n",
       "      <td>A152</td>\n",
       "      <td>1</td>\n",
       "      <td>A172</td>\n",
       "      <td>2</td>\n",
       "      <td>A191</td>\n",
       "      <td>A201</td>\n",
       "      <td>0</td>\n",
       "    </tr>\n",
       "    <tr>\n",
       "      <th>3</th>\n",
       "      <td>A11</td>\n",
       "      <td>42</td>\n",
       "      <td>A32</td>\n",
       "      <td>A42</td>\n",
       "      <td>7882</td>\n",
       "      <td>A61</td>\n",
       "      <td>A74</td>\n",
       "      <td>2</td>\n",
       "      <td>A93</td>\n",
       "      <td>A103</td>\n",
       "      <td>...</td>\n",
       "      <td>A122</td>\n",
       "      <td>45</td>\n",
       "      <td>A143</td>\n",
       "      <td>A153</td>\n",
       "      <td>1</td>\n",
       "      <td>A173</td>\n",
       "      <td>2</td>\n",
       "      <td>A191</td>\n",
       "      <td>A201</td>\n",
       "      <td>0</td>\n",
       "    </tr>\n",
       "    <tr>\n",
       "      <th>4</th>\n",
       "      <td>A11</td>\n",
       "      <td>24</td>\n",
       "      <td>A33</td>\n",
       "      <td>A40</td>\n",
       "      <td>4870</td>\n",
       "      <td>A61</td>\n",
       "      <td>A73</td>\n",
       "      <td>3</td>\n",
       "      <td>A93</td>\n",
       "      <td>A101</td>\n",
       "      <td>...</td>\n",
       "      <td>A124</td>\n",
       "      <td>53</td>\n",
       "      <td>A143</td>\n",
       "      <td>A153</td>\n",
       "      <td>2</td>\n",
       "      <td>A173</td>\n",
       "      <td>2</td>\n",
       "      <td>A191</td>\n",
       "      <td>A201</td>\n",
       "      <td>1</td>\n",
       "    </tr>\n",
       "  </tbody>\n",
       "</table>\n",
       "<p>5 rows × 21 columns</p>\n",
       "</div>"
      ],
      "text/plain": [
       "  Status_of_existing_checking_account  Duration_in_month Credit_history  \\\n",
       "0                                 A11                  6            A34   \n",
       "1                                 A12                 48            A32   \n",
       "2                                 A14                 12            A34   \n",
       "3                                 A11                 42            A32   \n",
       "4                                 A11                 24            A33   \n",
       "\n",
       "  Purpose  Credit_amount Savings_Account Present_Employment_since  \\\n",
       "0     A43           1169             A65                      A75   \n",
       "1     A43           5951             A61                      A73   \n",
       "2     A46           2096             A61                      A74   \n",
       "3     A42           7882             A61                      A74   \n",
       "4     A40           4870             A61                      A73   \n",
       "\n",
       "   Installment_rate_in_percentage_of_disposable_income  \\\n",
       "0                                                  4     \n",
       "1                                                  2     \n",
       "2                                                  2     \n",
       "3                                                  2     \n",
       "4                                                  3     \n",
       "\n",
       "  Personal_status_and_sex Other_debtors  ...   Property Age_in_years  \\\n",
       "0                     A93          A101  ...       A121           67   \n",
       "1                     A92          A101  ...       A121           22   \n",
       "2                     A93          A101  ...       A121           49   \n",
       "3                     A93          A103  ...       A122           45   \n",
       "4                     A93          A101  ...       A124           53   \n",
       "\n",
       "   Other_installment_plans Housing Number_of_existing_credits_at_the_bank  \\\n",
       "0                     A143    A152                                      2   \n",
       "1                     A143    A152                                      1   \n",
       "2                     A143    A152                                      1   \n",
       "3                     A143    A153                                      1   \n",
       "4                     A143    A153                                      2   \n",
       "\n",
       "    Job Number_of_people_being_liable_to_provide_maintenance_for  Telephone  \\\n",
       "0  A173                                                  1             A192   \n",
       "1  A173                                                  1             A191   \n",
       "2  A172                                                  2             A191   \n",
       "3  A173                                                  2             A191   \n",
       "4  A173                                                  2             A191   \n",
       "\n",
       "  Foreign_worker class  \n",
       "0           A201     0  \n",
       "1           A201     1  \n",
       "2           A201     0  \n",
       "3           A201     0  \n",
       "4           A201     1  \n",
       "\n",
       "[5 rows x 21 columns]"
      ]
     },
     "execution_count": 2,
     "metadata": {},
     "output_type": "execute_result"
    }
   ],
   "source": [
    "credit_data = pd.read_csv(r'C:\\Users\\I0001104\\Desktop\\Python\\Machine Learning\\Logistic Regression\\credit_data.csv')\n",
    "credit_data['class'] = credit_data['class']-1\n",
    "credit_data.head()"
   ]
  },
  {
   "cell_type": "markdown",
   "metadata": {},
   "source": [
    "# #Creation of dummy variables similar to logistic regression preprocessing"
   ]
  },
  {
   "cell_type": "code",
   "execution_count": 3,
   "metadata": {
    "collapsed": true
   },
   "outputs": [],
   "source": [
    "dummy_stseca = pd.get_dummies(credit_data['Status_of_existing_checking_account'], prefix = 'status_exs_accnt')\n",
    "dummy_ch = pd.get_dummies(credit_data['Credit_history'], prefix = 'cred_hist')\n",
    "dummy_purpose = pd.get_dummies(credit_data['Purpose'],prefix='purpose')\n",
    "dummy_savacc = pd.get_dummies(credit_data['Savings_Account'],prefix='sav_acc')\n",
    "dummy_presc = pd.get_dummies(credit_data['Present_Employment_since'],prefix='pre_emp_snc')\n",
    "dummy_perssx = pd.get_dummies(credit_data['Personal_status_and_sex'],prefix='per_stat_sx')\n",
    "dummy_othdts = pd.get_dummies(credit_data['Other_debtors'],prefix='oth_debtors')\n",
    "dummy_property = pd.get_dummies(credit_data['Property'],prefix='property')\n",
    "dummy_othinstpln = pd.get_dummies(credit_data['Other_installment_plans'],prefix='oth_inst_pln')\n",
    "dummy_housing = pd.get_dummies(credit_data['Housing'],prefix='housing')\n",
    "dummy_job = pd.get_dummies(credit_data['Job'], prefix='job')\n",
    "dummy_telephn = pd.get_dummies(credit_data['Telephone'], prefix = 'telephn')\n",
    "dummy_forgnwrkr = pd.get_dummies(credit_data['Foreign_worker'],prefix='forgn_wrkr')"
   ]
  },
  {
   "cell_type": "code",
   "execution_count": 4,
   "metadata": {
    "collapsed": true
   },
   "outputs": [],
   "source": [
    "continuous_columns = ['Duration_in_month', 'Credit_amount','Installment_rate_in_percentage_of_disposable_income','Present_residence_since','Age_in_years','Number_of_existing_credits_at_the_bank','Number_of_people_being_liable_to_provide_maintenance_for']"
   ]
  },
  {
   "cell_type": "code",
   "execution_count": 5,
   "metadata": {
    "collapsed": false
   },
   "outputs": [
    {
     "name": "stdout",
     "output_type": "stream",
     "text": [
      "Status_of_existing_checking_account\n",
      "Credit_history\n",
      "Purpose\n",
      "Savings_Account\n",
      "Present_Employment_since\n",
      "Personal_status_and_sex\n",
      "Other_debtors\n",
      "Property\n",
      "Other_installment_plans\n",
      "Housing\n",
      "Job\n",
      "Telephone\n",
      "Foreign_worker\n",
      "class\n"
     ]
    }
   ],
   "source": [
    "for i in credit_data.columns:\n",
    "    if i not in continuous_columns:\n",
    "        print(i)"
   ]
  },
  {
   "cell_type": "code",
   "execution_count": 6,
   "metadata": {
    "collapsed": false
   },
   "outputs": [],
   "source": [
    "credit_continuous = credit_data[continuous_columns]\n",
    "credit_data_new = pd.concat([dummy_stseca, dummy_ch,dummy_purpose,dummy_savacc,dummy_presc,dummy_perssx,dummy_othdts, dummy_property,dummy_othinstpln,dummy_housing,dummy_job, dummy_telephn, dummy_forgnwrkr,credit_continuous,credit_data['class']],axis=1)"
   ]
  },
  {
   "cell_type": "code",
   "execution_count": 7,
   "metadata": {
    "collapsed": false
   },
   "outputs": [],
   "source": [
    "x_train,x_test,y_train,y_test = train_test_split(credit_data_new.drop(['class'],axis=1),credit_data_new['class'],train_size =0.7,random_state=42)"
   ]
  },
  {
   "cell_type": "code",
   "execution_count": 8,
   "metadata": {
    "collapsed": false
   },
   "outputs": [
    {
     "data": {
      "text/plain": [
       "RandomForestClassifier(bootstrap=True, class_weight=None, criterion='gini',\n",
       "            max_depth=100, max_features='auto', max_leaf_nodes=None,\n",
       "            min_impurity_split=1e-07, min_samples_leaf=2,\n",
       "            min_samples_split=3, min_weight_fraction_leaf=0.0,\n",
       "            n_estimators=1000, n_jobs=1, oob_score=False,\n",
       "            random_state=None, verbose=0, warm_start=False)"
      ]
     },
     "execution_count": 8,
     "metadata": {},
     "output_type": "execute_result"
    }
   ],
   "source": [
    "rf_fit = RandomForestClassifier(n_estimators = 1000, criterion=\"gini\", max_depth=100, min_samples_split=3, min_samples_leaf=2)\n",
    "rf_fit.fit(x_train,y_train)"
   ]
  },
  {
   "cell_type": "code",
   "execution_count": 9,
   "metadata": {
    "collapsed": false
   },
   "outputs": [
    {
     "name": "stdout",
     "output_type": "stream",
     "text": [
      "\n",
      " Random Forest - Train Confusion Matrix\n",
      "\n",
      " Predicted    0    1\n",
      "Actual             \n",
      "0          491    0\n",
      "1           31  178\n",
      "\n",
      " Random Forest - Train accuracy 0.956\n"
     ]
    }
   ],
   "source": [
    "print(\"\\n Random Forest - Train Confusion Matrix\\n\\n\", pd.crosstab(y_train, rf_fit.predict(x_train), rownames = [\"Actual\"],colnames = [\"Predicted\"]))\n",
    "print (\"\\n Random Forest - Train accuracy\",round(accuracy_score(y_train, rf_fit.predict(x_train)),3))"
   ]
  },
  {
   "cell_type": "code",
   "execution_count": 10,
   "metadata": {
    "collapsed": false
   },
   "outputs": [
    {
     "name": "stdout",
     "output_type": "stream",
     "text": [
      "\n",
      " Random Forest - Test Confusion Matrix\n",
      "\n",
      " Predicted    0   1\n",
      "Actual            \n",
      "0          197  12\n",
      "1           57  34\n",
      "\n",
      " Random Forest - Test accuracy 0.77\n"
     ]
    }
   ],
   "source": [
    "print(\"\\n Random Forest - Test Confusion Matrix\\n\\n\", pd.crosstab(y_test, rf_fit.predict(x_test), rownames = [\"Actual\"],colnames = [\"Predicted\"]))\n",
    "print (\"\\n Random Forest - Test accuracy\",round(accuracy_score(y_test, rf_fit.predict(x_test)),3))"
   ]
  },
  {
   "cell_type": "markdown",
   "metadata": {},
   "source": [
    "# #Grid Search on random forest"
   ]
  },
  {
   "cell_type": "code",
   "execution_count": 11,
   "metadata": {
    "collapsed": true
   },
   "outputs": [],
   "source": [
    "from sklearn.pipeline import Pipeline\n",
    "from sklearn.model_selection import train_test_split, GridSearchCV"
   ]
  },
  {
   "cell_type": "code",
   "execution_count": 12,
   "metadata": {
    "collapsed": false
   },
   "outputs": [],
   "source": [
    "pipeline = Pipeline([('clf', RandomForestClassifier(criterion='gini'))])\n",
    "parameters = {'clf__n_estimators':(1000,2000,3000),'clf__max_depth':(100,200,300),'clf__min_samples_split':(2,3),'clf__min_samples_leaf':(1,2)}"
   ]
  },
  {
   "cell_type": "code",
   "execution_count": 13,
   "metadata": {
    "collapsed": false
   },
   "outputs": [
    {
     "name": "stdout",
     "output_type": "stream",
     "text": [
      "Fitting 5 folds for each of 36 candidates, totalling 180 fits\n"
     ]
    },
    {
     "name": "stderr",
     "output_type": "stream",
     "text": [
      "[Parallel(n_jobs=-1)]: Done  34 tasks      | elapsed:   27.2s\n",
      "[Parallel(n_jobs=-1)]: Done 180 out of 180 | elapsed:  2.0min finished\n"
     ]
    },
    {
     "data": {
      "text/plain": [
       "GridSearchCV(cv=5, error_score='raise',\n",
       "       estimator=Pipeline(steps=[('clf', RandomForestClassifier(bootstrap=True, class_weight=None, criterion='gini',\n",
       "            max_depth=None, max_features='auto', max_leaf_nodes=None,\n",
       "            min_impurity_split=1e-07, min_samples_leaf=1,\n",
       "            min_samples_split=2, min_weight_fraction_leaf=0.0,\n",
       "            n_estimators=10, n_jobs=1, oob_score=False, random_state=None,\n",
       "            verbose=0, warm_start=False))]),\n",
       "       fit_params={}, iid=True, n_jobs=-1,\n",
       "       param_grid={'clf__n_estimators': (1000, 2000, 3000), 'clf__max_depth': (100, 200, 300), 'clf__min_samples_split': (2, 3), 'clf__min_samples_leaf': (1, 2)},\n",
       "       pre_dispatch='2*n_jobs', refit=True, return_train_score=True,\n",
       "       scoring='accuracy', verbose=1)"
      ]
     },
     "execution_count": 13,
     "metadata": {},
     "output_type": "execute_result"
    }
   ],
   "source": [
    "grid_search = GridSearchCV(pipeline,parameters,n_jobs=-1, cv=5,verbose=1,scoring='accuracy')\n",
    "grid_search.fit(x_train,y_train)"
   ]
  },
  {
   "cell_type": "code",
   "execution_count": 14,
   "metadata": {
    "collapsed": false
   },
   "outputs": [
    {
     "name": "stdout",
     "output_type": "stream",
     "text": [
      "Best Training score: 0.773\n",
      "Best parameters set:\n",
      "\tclf__max_depth: 300\n",
      "\tclf__min_samples_leaf: 2\n",
      "\tclf__min_samples_split: 2\n",
      "\tclf__n_estimators: 3000\n"
     ]
    }
   ],
   "source": [
    "print ('Best Training score: %0.3f' % grid_search.best_score_)\n",
    "print ('Best parameters set:')\n",
    "best_parameters = grid_search.best_estimator_.get_params()\n",
    "\n",
    "for param_name in sorted(parameters.keys()):\n",
    "    print ('\\t%s: %r' % (param_name, best_parameters[param_name]))"
   ]
  },
  {
   "cell_type": "code",
   "execution_count": 15,
   "metadata": {
    "collapsed": false
   },
   "outputs": [
    {
     "name": "stdout",
     "output_type": "stream",
     "text": [
      "Testing accuracy: 0.7633\n",
      "\n",
      "Complete report of Testingdata\n",
      "              precision    recall  f1-score   support\n",
      "\n",
      "          0       0.77      0.95      0.85       209\n",
      "          1       0.74      0.34      0.47        91\n",
      "\n",
      "avg / total       0.76      0.76      0.73       300\n",
      "\n",
      "\n",
      "\n",
      "Random Forest Grid Search- Test Confusion Matrix\n",
      "\n",
      " Predicted    0   1\n",
      "Actuall           \n",
      "0          198  11\n",
      "1           60  31\n"
     ]
    }
   ],
   "source": [
    "predictions = grid_search.predict(x_test)\n",
    "print (\"Testing accuracy:\",round(accuracy_score(y_test,predictions),4))\n",
    "print (\"\\nComplete report of Testingdata\\n\",classification_report(y_test, predictions))\n",
    "print (\"\\n\\nRandom Forest Grid Search- Test Confusion Matrix\\n\\n\",pd.crosstab(y_test, predictions,rownames = [\"Actuall\"],colnames =[\"Predicted\"]))"
   ]
  },
  {
   "cell_type": "markdown",
   "metadata": {},
   "source": [
    "# #Variable Importance Plot"
   ]
  },
  {
   "cell_type": "code",
   "execution_count": 16,
   "metadata": {
    "collapsed": false
   },
   "outputs": [
    {
     "name": "stdout",
     "output_type": "stream",
     "text": [
      "\n",
      "Feature ranking:\n",
      "\n",
      "Feature 55 , Credit_amount 0.1003\n",
      "Feature 58 , Age_in_years 0.0812\n",
      "Feature 54 , Duration_in_month 0.0752\n",
      "Feature 3 , status_exs_accnt_A14 0.0483\n",
      "Feature 0 , status_exs_accnt_A11 0.0372\n",
      "Feature 56 , Installment_rate_in_percentage_of_disposable_income 0.0351\n",
      "Feature 57 , Present_residence_since 0.0316\n",
      "Feature 8 , cred_hist_A34 0.0261\n",
      "Feature 9 , purpose_A40 0.0214\n",
      "Feature 19 , sav_acc_A61 0.0189\n",
      "Feature 59 , Number_of_existing_credits_at_the_bank 0.0189\n",
      "Feature 1 , status_exs_accnt_A12 0.0177\n",
      "Feature 44 , housing_A152 0.0157\n",
      "Feature 36 , property_A121 0.0153\n",
      "Feature 25 , pre_emp_snc_A72 0.015\n",
      "Feature 4 , cred_hist_A30 0.0148\n",
      "Feature 6 , cred_hist_A32 0.0148\n",
      "Feature 13 , purpose_A43 0.0146\n",
      "Feature 38 , property_A123 0.0145\n",
      "Feature 30 , per_stat_sx_A92 0.0143\n",
      "Feature 26 , pre_emp_snc_A73 0.0143\n",
      "Feature 42 , oth_inst_pln_A143 0.014\n",
      "Feature 31 , per_stat_sx_A93 0.0138\n",
      "Feature 48 , job_A173 0.0134\n",
      "Feature 51 , telephn_A192 0.0134\n",
      "Feature 50 , telephn_A191 0.0133\n",
      "Feature 39 , property_A124 0.0132\n",
      "Feature 40 , oth_inst_pln_A141 0.0132\n",
      "Feature 12 , purpose_A42 0.0125\n",
      "Feature 28 , pre_emp_snc_A75 0.0124\n",
      "Feature 37 , property_A122 0.0122\n",
      "Feature 49 , job_A174 0.0119\n",
      "Feature 23 , sav_acc_A65 0.0119\n",
      "Feature 18 , purpose_A49 0.0114\n",
      "Feature 27 , pre_emp_snc_A74 0.0112\n",
      "Feature 5 , cred_hist_A31 0.0112\n",
      "Feature 43 , housing_A151 0.0111\n",
      "Feature 24 , pre_emp_snc_A71 0.0101\n",
      "Feature 47 , job_A172 0.0101\n",
      "Feature 16 , purpose_A46 0.0097\n",
      "Feature 60 , Number_of_people_being_liable_to_provide_maintenance_for 0.0097\n",
      "Feature 33 , oth_debtors_A101 0.0095\n",
      "Feature 7 , cred_hist_A33 0.0093\n",
      "Feature 45 , housing_A153 0.0091\n",
      "Feature 20 , sav_acc_A62 0.0085\n",
      "Feature 32 , per_stat_sx_A94 0.0081\n",
      "Feature 2 , status_exs_accnt_A13 0.0077\n",
      "Feature 10 , purpose_A41 0.0074\n",
      "Feature 35 , oth_debtors_A103 0.0072\n",
      "Feature 21 , sav_acc_A63 0.0067\n",
      "Feature 34 , oth_debtors_A102 0.0064\n",
      "Feature 29 , per_stat_sx_A91 0.006\n",
      "Feature 41 , oth_inst_pln_A142 0.0056\n",
      "Feature 22 , sav_acc_A64 0.0048\n",
      "Feature 15 , purpose_A45 0.0042\n",
      "Feature 52 , forgn_wrkr_A201 0.0032\n",
      "Feature 53 , forgn_wrkr_A202 0.0032\n",
      "Feature 14 , purpose_A44 0.0026\n",
      "Feature 46 , job_A171 0.0025\n",
      "Feature 11 , purpose_A410 0.0022\n",
      "Feature 17 , purpose_A48 0.001\n"
     ]
    },
    {
     "data": {
      "image/png": "[encoded data removed]",
      "text/plain": [
       "<matplotlib.figure.Figure at 0xe95b170>"
      ]
     },
     "metadata": {},
     "output_type": "display_data"
    }
   ],
   "source": [
    "import matplotlib.pyplot as plt\n",
    "import numpy as np\n",
    "\n",
    "rf_fit = RandomForestClassifier(n_estimators=1000, criterion=\"gini\",max_depth=300, min_samples_split=3,min_samples_leaf=1)\n",
    "rf_fit.fit(x_train,y_train)\n",
    "importances = rf_fit.feature_importances_\n",
    "\n",
    "std = np.std([tree.feature_importances_ for tree in rf_fit.estimators_], axis=0)\n",
    "indices = np.argsort(importances)[::-1]\n",
    "\n",
    "colnames = list(x_train.columns)\n",
    "# Print the feature ranking\n",
    "print(\"\\nFeature ranking:\\n\")\n",
    "for f in range(x_train.shape[1]):\n",
    "    print (\"Feature\", indices[f], \",\", colnames[indices[f]],round(importances [indices[f]],4))\n",
    "\n",
    "plt.figure()\n",
    "plt.bar(range(x_train.shape[1]), importances[indices], color=\"r\", yerr=std[indices], align=\"center\")\n",
    "plt.xticks(range(x_train.shape[1]), indices)\n",
    "plt.xlim([-1, x_train.shape[1]])\n",
    "plt.show()"
   ]
  }
 ],
 "metadata": {
  "kernelspec": {
   "display_name": "Python 3",
   "language": "python",
   "name": "python3"
  },
  "language_info": {
   "codemirror_mode": {
    "name": "ipython",
    "version": 3
   },
   "file_extension": ".py",
   "mimetype": "text/x-python",
   "name": "python",
   "nbconvert_exporter": "python",
   "pygments_lexer": "ipython3",
   "version": "3.6.0"
  }
 },
 "nbformat": 4,
 "nbformat_minor": 2
}
