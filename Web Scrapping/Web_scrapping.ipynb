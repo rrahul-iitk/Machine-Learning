{
 "cells": [
  {
   "cell_type": "code",
   "execution_count": 1,
   "metadata": {},
   "outputs": [
    {
     "ename": "ModuleNotFoundError",
     "evalue": "No module named 'selenium'",
     "output_type": "error",
     "traceback": [
      "\u001b[0;31m---------------------------------------------------------------------------\u001b[0m",
      "\u001b[0;31mModuleNotFoundError\u001b[0m                       Traceback (most recent call last)",
      "\u001b[0;32m<ipython-input-1-52e0fcf5cd72>\u001b[0m in \u001b[0;36m<module>\u001b[0;34m()\u001b[0m\n\u001b[1;32m      1\u001b[0m \u001b[0;32mimport\u001b[0m \u001b[0mnumpy\u001b[0m \u001b[0;32mas\u001b[0m \u001b[0mnp\u001b[0m\u001b[0;34m\u001b[0m\u001b[0m\n\u001b[1;32m      2\u001b[0m \u001b[0;32mimport\u001b[0m \u001b[0mpandas\u001b[0m \u001b[0;32mas\u001b[0m \u001b[0mpd\u001b[0m\u001b[0;34m\u001b[0m\u001b[0m\n\u001b[0;32m----> 3\u001b[0;31m \u001b[0;32mfrom\u001b[0m \u001b[0mselenium\u001b[0m \u001b[0;32mimport\u001b[0m \u001b[0mwebdriver\u001b[0m\u001b[0;34m\u001b[0m\u001b[0m\n\u001b[0m\u001b[1;32m      4\u001b[0m \u001b[0;32mfrom\u001b[0m \u001b[0mselenium\u001b[0m\u001b[0;34m.\u001b[0m\u001b[0mwebdriver\u001b[0m\u001b[0;34m.\u001b[0m\u001b[0msupport\u001b[0m\u001b[0;34m.\u001b[0m\u001b[0mui\u001b[0m \u001b[0;32mimport\u001b[0m \u001b[0mSelect\u001b[0m\u001b[0;34m\u001b[0m\u001b[0m\n\u001b[1;32m      5\u001b[0m \u001b[0;32mfrom\u001b[0m \u001b[0mPIL\u001b[0m \u001b[0;32mimport\u001b[0m \u001b[0mImage\u001b[0m\u001b[0;34m\u001b[0m\u001b[0m\n",
      "\u001b[0;31mModuleNotFoundError\u001b[0m: No module named 'selenium'"
     ]
    }
   ],
   "source": [
    "import numpy as np\n",
    "import pandas as pd\n",
    "from selenium import webdriver\n",
    "from selenium.webdriver.support.ui import Select\n",
    "from PIL import Image\n",
    "import pytesseract\n",
    "import time\n",
    "import subprocess\n",
    "import os"
   ]
  },
  {
   "cell_type": "code",
   "execution_count": 2,
   "metadata": {},
   "outputs": [
    {
     "ename": "AttributeError",
     "evalue": "module 'ctypes' has no attribute 'windll'",
     "output_type": "error",
     "traceback": [
      "\u001b[0;31m---------------------------------------------------------------------------\u001b[0m",
      "\u001b[0;31mAttributeError\u001b[0m                            Traceback (most recent call last)",
      "\u001b[0;32m<ipython-input-2-bbbe59010215>\u001b[0m in \u001b[0;36m<module>\u001b[0;34m()\u001b[0m\n\u001b[1;32m      1\u001b[0m \u001b[0;32mimport\u001b[0m \u001b[0mctypes\u001b[0m\u001b[0;34m\u001b[0m\u001b[0m\n\u001b[0;32m----> 2\u001b[0;31m \u001b[0muser32\u001b[0m \u001b[0;34m=\u001b[0m \u001b[0mctypes\u001b[0m\u001b[0;34m.\u001b[0m\u001b[0mwindll\u001b[0m\u001b[0;34m.\u001b[0m\u001b[0muser32\u001b[0m\u001b[0;34m\u001b[0m\u001b[0m\n\u001b[0m\u001b[1;32m      3\u001b[0m \u001b[0mscreensize\u001b[0m \u001b[0;34m=\u001b[0m \u001b[0muser32\u001b[0m\u001b[0;34m.\u001b[0m\u001b[0mGetSystemMetrics\u001b[0m\u001b[0;34m(\u001b[0m\u001b[0;36m0\u001b[0m\u001b[0;34m)\u001b[0m\u001b[0;34m,\u001b[0m \u001b[0muser32\u001b[0m\u001b[0;34m.\u001b[0m\u001b[0mGetSystemMetrics\u001b[0m\u001b[0;34m(\u001b[0m\u001b[0;36m1\u001b[0m\u001b[0;34m)\u001b[0m\u001b[0;34m\u001b[0m\u001b[0m\n",
      "\u001b[0;31mAttributeError\u001b[0m: module 'ctypes' has no attribute 'windll'"
     ]
    }
   ],
   "source": [
    "import ctypes\n",
    "user32 = ctypes.windll.user32\n",
    "screensize = user32.GetSystemMetrics(0), user32.GetSystemMetrics(1)"
   ]
  },
  {
   "cell_type": "code",
   "execution_count": null,
   "metadata": {
    "collapsed": true
   },
   "outputs": [],
   "source": [
    "def get_captcha(driver, element, path):\n",
    "    # now that we have the preliminary stuff out of the way time to get that image :D\n",
    "    location = element.location\n",
    "\n",
    "    size = element.size\n",
    "\n",
    "    # saves screenshot of entire page\n",
    "    driver.save_screenshot(path)\n",
    "\n",
    "    # uses PIL library to open image in memory\n",
    "    image = Image.open(path)\n",
    "\n",
    "    left = location['x']\n",
    "    top = location['y'] \n",
    "    right = location['x'] + size['width']\n",
    "    bottom = location['y'] + size['height']\n",
    "\n",
    "    image = image.crop((left, top, right, bottom))  # defines crop points\n",
    "    image.save(path, 'png')  # saves new cropped image"
   ]
  },
  {
   "cell_type": "code",
   "execution_count": null,
   "metadata": {
    "collapsed": true
   },
   "outputs": [],
   "source": [
    "def screen_resolution(w,h,screen):\n",
    "    directory = os.getcwd()\n",
    "    with open(os.path.join(directory, 'screen_resolution_to_{}_{}.bat'.format(w,h)), 'w') as OPATH:\n",
    "        OPATH.writelines(['ChangeScreenResolution.exe /w={} /h={} /d={} \\n'.format(w,h,screen),\n",
    "                          '\\n'\n",
    "                          'exit'])\n",
    "    subprocess.call([os.getcwd() +  '\\\\screen_resolution_to_{}_{}.bat'.format(w,h)])\n",
    "    OPATH.close()"
   ]
  },
  {
   "cell_type": "code",
   "execution_count": null,
   "metadata": {
    "collapsed": true
   },
   "outputs": [],
   "source": [
    "def click_button(browser ,button_text):\n",
    "    try:\n",
    "        button = browser.find_element_by_link_text(button_text)\n",
    "        button.click()\n",
    "    except:\n",
    "        pass"
   ]
  },
  {
   "cell_type": "code",
   "execution_count": null,
   "metadata": {
    "collapsed": true
   },
   "outputs": [],
   "source": [
    "browser = webdriver.Chrome(r'C:\\Users\\g701295\\webscrapping_rahul\\chromedriver_win32\\chromedriver.exe')\n",
    "browser.get('http://igrmaharashtra.gov.in/frmHome.aspx')\n",
    "browser.maximize_window()\n",
    "time.sleep(2)\n",
    "\n",
    "browser.find_element_by_xpath(\"/html/body/div/div/form/table[2]/tbody/tr/td/table[1]/tbody/tr[4]/td/table/tbody/tr/td[1]/input[2]\").click()\n",
    "time.sleep(5)\n",
    "\n",
    "browser.find_element_by_link_text('English').click()\n",
    "time.sleep(5)\n",
    "\n",
    "browser.find_element_by_xpath(\"//span[text()='e-Search']\").click()\n",
    "browser.find_element_by_link_text('Free Process').click()\n",
    "time.sleep(5)\n",
    "\n",
    "child = browser.window_handles[1]      \n",
    "browser.switch_to.window(child)\n",
    "time.sleep(5)"
   ]
  },
  {
   "cell_type": "code",
   "execution_count": null,
   "metadata": {
    "collapsed": true
   },
   "outputs": [],
   "source": [
    "def fill_page(browser, year, district, first_four_letter_of_village, village_name, property_number):\n",
    "\n",
    "    browser.find_element_by_xpath(\"//*[@id='ddlFromYear']\").send_keys(str(year))\n",
    "\n",
    "    district_dropdown = browser.find_element_by_xpath(\"//*[@id='ddlDistrict']\")\n",
    "    district_select = Select(district_dropdown)\n",
    "    district_select.select_by_value(str(district))\n",
    "    time.sleep(5)\n",
    "\n",
    "    vill_text_area = browser.find_element_by_id('txtAreaName')\n",
    "    vill_text_area.send_keys(first_four_letter_of_village)\n",
    "    time.sleep(1)\n",
    "\n",
    "    browser.find_element_by_xpath(\"//*[@id='ddlareaname']\").click()\n",
    "    time.sleep(5)\n",
    "\n",
    "    village_dropdown = browser.find_element_by_xpath(\"//*[@id='ddlareaname']\")\n",
    "    village_select = Select(village_dropdown)\n",
    "    village_select.select_by_value(village_name)\n",
    "\n",
    "    property_text_area = browser.find_element_by_id('txtAttributeValue')\n",
    "    property_text_area.send_keys(str(property_number))\n",
    "\n",
    "    w = 1920\n",
    "    h = 1080\n",
    "    screen_resolution(w,h,1)\n",
    "\n",
    "    # browser.save_screenshot(\"screenshot.png\")\n",
    "    img = browser.find_element_by_xpath(\"//*[@id='imgCaptcha']\")\n",
    "    get_captcha(browser, img, \"captcha.png\")\n",
    "    time.sleep(5)\n",
    "\n",
    "    im = Image.open(\"captcha.png\")\n",
    "    pytesseract.pytesseract.tesseract_cmd = r'C:\\Users\\g701295\\AppData\\Local\\Tesseract-OCR\\tesseract.exe'\n",
    "    captcha_text = pytesseract.image_to_string(im, lang='eng')\n",
    "\n",
    "    vill_text_area = browser.find_element_by_id('txtImg')\n",
    "    vill_text_area.send_keys(captcha_text)\n",
    "\n",
    "    browser.find_element_by_xpath(\"//*[@id='btnSearch']\").click()\n",
    "\n",
    "    w = screensize[0]\n",
    "    h = screensize[1]\n",
    "    screen_resolution(w,h,1)\n",
    "    time.sleep(5)\n",
    "    return browser"
   ]
  },
  {
   "cell_type": "code",
   "execution_count": null,
   "metadata": {
    "collapsed": true
   },
   "outputs": [],
   "source": [
    "pagetab=2\n",
    "page=11"
   ]
  },
  {
   "cell_type": "code",
   "execution_count": null,
   "metadata": {},
   "outputs": [],
   "source": [
    "pages = browser.find_element_by_xpath(\"//*[@id='RegistrationGrid']/tbody/tr[12]/td/table/tbody/tr\")\n",
    "currenttab = pages.find_elements_by_tag_name('td')[8].text\n",
    "if (((pagetab==1)&(page==10))|((pagetab>1)&(page==11))):         \n",
    "    page_clicked = pages.find_elements_by_tag_name('td')[8].text\n",
    "    while (page_clicked==currenttab):  \n",
    "        print(page_clicked,currenttab)\n",
    "        try:                \n",
    "            #clicking on a given page\n",
    "            xpath = \"//*[@id='RegistrationGrid']/tbody/tr[12]/td/table/tbody/tr/td[\" + str(page+1) + \"]/a\"\n",
    "            browser.find_element_by_xpath(xpath).click()\n",
    "            time.sleep(3)  \n",
    "            pages = browser.find_element_by_xpath(\"//*[@id='RegistrationGrid']/tbody/tr[12]/td/table/tbody/tr\")\n",
    "            page_clicked = pages.find_elements_by_tag_name('td')[8].text\n",
    "        except:\n",
    "            print('not_clicked')"
   ]
  },
  {
   "cell_type": "code",
   "execution_count": null,
   "metadata": {
    "collapsed": true
   },
   "outputs": [],
   "source": [
    "browser = fill_page(browser, 2018, 31, 'Kole', 'Kolekalyan', 4207)"
   ]
  },
  {
   "cell_type": "code",
   "execution_count": null,
   "metadata": {
    "collapsed": true
   },
   "outputs": [],
   "source": [
    "# %%timeit\n",
    "table_end = False\n",
    "pagetab = 1\n",
    "\n",
    "#Counting the number of pages that are present for clicking on the given page\n",
    "pages = browser.find_element_by_xpath(\"//*[@id='RegistrationGrid']/tbody/tr[12]/td/table/tbody/tr\")\n",
    "count_pages = len(pages.find_elements_by_tag_name('td'))\n",
    "row_list = []\n",
    "col_list = []"
   ]
  },
  {
   "cell_type": "code",
   "execution_count": null,
   "metadata": {
    "scrolled": false
   },
   "outputs": [],
   "source": [
    "while not table_end:\n",
    "    if (((pagetab==1)&(count_pages<11))|((pagetab>1)&(count_pages<12))):\n",
    "        table_end = True     \n",
    "        \n",
    "    #Number fo columns\n",
    "    xpath  = \"//*[@id='RegistrationGrid']/tbody/tr[2]\"\n",
    "    table = browser.find_element_by_xpath(xpath)\n",
    "    column_count = len(table.find_elements_by_tag_name('td'))  \n",
    "    \n",
    "    #Counting the number of pages that are present for clicking on the given page\n",
    "    pages = browser.find_element_by_xpath(\"//*[@id='RegistrationGrid']/tbody/tr[12]/td/table/tbody/tr\")\n",
    "    count_pages = len(pages.find_elements_by_tag_name('td'))\n",
    "    \n",
    "    for page in range(count_pages-10,count_pages):\n",
    "        page_clicked = False\n",
    "#         print((page>1),(page>2),pagetab==1,((page>1)&(pagetab==1)),((page>2)&(pagetab>1)),((page>1)&(pagetab==1))|((page>2)&(pagetab>1)))\n",
    "        if ((page>1)&(pagetab==1))|((page>2)&(pagetab>1)):\n",
    "            while not page_clicked:                \n",
    "                try:\n",
    "                    #clicking on a given page\n",
    "                    xpath = \"//*[@id='RegistrationGrid']/tbody/tr[12]/td/table/tbody/tr/td[\" + str(page) + \"]/a\"\n",
    "                    browser.find_element_by_xpath(xpath).click()\n",
    "                    time.sleep(3)\n",
    "                except:\n",
    "                    page_clicked = True\n",
    "        else:\n",
    "            print('page1 of tab 1 or page2 of other tab')\n",
    "        print('inner',11, column_count,page-1,pagetab,page_clicked)   \n",
    "        \n",
    "        #Number fo columns\n",
    "        table = browser.find_element_by_xpath(\"//*[@id='RegistrationGrid']/tbody\")\n",
    "        row_count = len(table.find_elements_by_tag_name('tr'))-2\n",
    "        \n",
    "        time.sleep(3)\n",
    "        for row in range(2,row_count+1):            \n",
    "            for col in range(1, column_count+1):\n",
    "                xpath = \"//*[@id='RegistrationGrid']/tbody/tr[\" + str(row) + \"]/td[\" + str(col) + \"]\"\n",
    "                col_list.append(browser.find_element_by_xpath(xpath).text)\n",
    "                \n",
    "    #Counting the number of pages that are present for clicking on the given page\n",
    "    pages = browser.find_element_by_xpath(\"//*[@id='RegistrationGrid']/tbody/tr[12]/td/table/tbody/tr\")\n",
    "    currenttab = pages.find_elements_by_tag_name('td')[8].text\n",
    "    click_count = 0\n",
    "    if (((pagetab==1)&(page==10))|((pagetab>1)&(page==11))):         \n",
    "        page_clicked = pages.find_elements_by_tag_name('td')[8].text\n",
    "        while (page_clicked==currenttab)|(click_count>5):  \n",
    "            print(page_clicked,currenttab)\n",
    "            try:                \n",
    "                #clicking on a given page\n",
    "                xpath = \"//*[@id='RegistrationGrid']/tbody/tr[12]/td/table/tbody/tr/td[\" + str(page+1) + \"]/a\"\n",
    "                browser.find_element_by_xpath(xpath).click()\n",
    "                time.sleep(3)  \n",
    "                click_count = click_count + 1\n",
    "                pages = browser.find_element_by_xpath(\"//*[@id='RegistrationGrid']/tbody/tr[12]/td/table/tbody/tr\")\n",
    "                page_clicked = pages.find_elements_by_tag_name('td')[8].text\n",
    "            except:\n",
    "                print('not_clicked')\n",
    "#         if (click_count>5):\n",
    "#             browser = fill_page(browser, year, district, first_four_letter_of_village, village_name, property_number)\n",
    "        #Counting the number of pages that are present for clicking on the given page\n",
    "        pages = browser.find_element_by_xpath(\"//*[@id='RegistrationGrid']/tbody/tr[12]/td/table/tbody/tr\")\n",
    "        count_pages = len(pages.find_elements_by_tag_name('td'))\n",
    "        pagetab = pagetab + 1"
   ]
  },
  {
   "cell_type": "code",
   "execution_count": null,
   "metadata": {
    "collapsed": true
   },
   "outputs": [],
   "source": [
    "pages = browser.find_element_by_xpath(\"//*[@id='RegistrationGrid']/tbody/tr[12]/td/table/tbody/tr\")"
   ]
  },
  {
   "cell_type": "code",
   "execution_count": null,
   "metadata": {},
   "outputs": [],
   "source": [
    "#Counting the number of pages that are present for clicking on the given page\n",
    "pages = browser.find_element_by_xpath(\"//*[@id='RegistrationGrid']/tbody/tr[12]/td/table/tbody/tr\")\n",
    "count_pages = len(pages.find_elements_by_tag_name('td'))"
   ]
  },
  {
   "cell_type": "code",
   "execution_count": null,
   "metadata": {},
   "outputs": [],
   "source": [
    "pages.find_elements_by_tag_name('td')[8].text"
   ]
  },
  {
   "cell_type": "code",
   "execution_count": null,
   "metadata": {
    "collapsed": true
   },
   "outputs": [],
   "source": [
    "<a href=\"javascript:__doPostBack('RegistrationGrid','Page$85')\" style=\"color:Black;\">85</a>"
   ]
  },
  {
   "cell_type": "code",
   "execution_count": null,
   "metadata": {},
   "outputs": [],
   "source": [
    "browser.find_element_by_link_text(\"javascript:__doPostBack('RegistrationGrid','Page$85')\").click()"
   ]
  },
  {
   "cell_type": "code",
   "execution_count": null,
   "metadata": {},
   "outputs": [],
   "source": [
    "len(col_list)/11"
   ]
  },
  {
   "cell_type": "code",
   "execution_count": null,
   "metadata": {
    "collapsed": true
   },
   "outputs": [],
   "source": [
    "//*[@id=\"RegistrationGrid\"]/tbody/tr[12]/td/table/tbody/tr/td[6]/a"
   ]
  },
  {
   "cell_type": "code",
   "execution_count": null,
   "metadata": {},
   "outputs": [],
   "source": [
    "(pagetab==1&page==10)|(pagetab>1&page==11)"
   ]
  },
  {
   "cell_type": "code",
   "execution_count": null,
   "metadata": {
    "collapsed": true
   },
   "outputs": [],
   "source": [
    "xpath = \"//*[@id='RegistrationGrid']/tbody/tr[12]/td/table/tbody/tr/td[\" + str(page+1) + \"]/a\"\n",
    "browser.find_element_by_xpath(xpath).click()\n",
    "time.sleep(8)   "
   ]
  },
  {
   "cell_type": "code",
   "execution_count": null,
   "metadata": {},
   "outputs": [],
   "source": [
    "row_list"
   ]
  },
  {
   "cell_type": "code",
   "execution_count": null,
   "metadata": {},
   "outputs": [],
   "source": [
    "len(row_list)"
   ]
  },
  {
   "cell_type": "code",
   "execution_count": null,
   "metadata": {
    "collapsed": true
   },
   "outputs": [],
   "source": [
    "#Number fo columns\n",
    "table = browser.find_element_by_xpath(\"//*[@id='RegistrationGrid']/tbody/tr[10]\")\n",
    "column_count = len(table.find_elements_by_tag_name('td'))\n",
    "\n",
    "#Number fo columns\n",
    "table = browser.find_element_by_xpath(\"//*[@id='RegistrationGrid']/tbody\")\n",
    "row_count = len(table.find_elements_by_tag_name('tr'))-2"
   ]
  },
  {
   "cell_type": "code",
   "execution_count": null,
   "metadata": {
    "collapsed": true
   },
   "outputs": [],
   "source": [
    "for row, col in browser.find_elements_by_xpath('//*[@id=\"tblmainn\"]/tbody/tr'):\n",
    "    tds = tr.find_elements_by_tag_name('col')\n",
    "    print([td.text for td in tds])"
   ]
  },
  {
   "cell_type": "code",
   "execution_count": null,
   "metadata": {
    "collapsed": true
   },
   "outputs": [],
   "source": [
    "# child = browser.window_handles[1]      \n",
    "# browser.switch_to.window(child) "
   ]
  },
  {
   "cell_type": "code",
   "execution_count": null,
   "metadata": {
    "collapsed": true
   },
   "outputs": [],
   "source": [
    "//*[@id=\"RegistrationGrid\"]/tbody/tr[12]/td/table/tbody/tr/td[12]/a"
   ]
  },
  {
   "cell_type": "code",
   "execution_count": null,
   "metadata": {
    "collapsed": true
   },
   "outputs": [],
   "source": [
    "#Counting the number of pages that are present for clicking on the given page\n",
    "pages = browser.find_element_by_xpath(\"//*[@id='RegistrationGrid']/tbody/tr[12]/td/table/tbody/tr\")\n",
    "count_pages = len(pages.find_elements_by_tag_name('td'))"
   ]
  },
  {
   "cell_type": "code",
   "execution_count": null,
   "metadata": {
    "collapsed": true
   },
   "outputs": [],
   "source": [
    "#clicking on a given page\n",
    "browser.find_element_by_xpath(\"//*[@id='RegistrationGrid']/tbody/tr[12]/td/table/tbody/tr/td[11]/a\").click()"
   ]
  },
  {
   "cell_type": "code",
   "execution_count": null,
   "metadata": {
    "collapsed": true
   },
   "outputs": [],
   "source": [
    "col_len = len(browser.find_element_by_xpath(\"//*[@id='RegistrationGrid']/tbody\").find_elements_by_tag_name('td'))"
   ]
  },
  {
   "cell_type": "code",
   "execution_count": null,
   "metadata": {},
   "outputs": [],
   "source": [
    "browser.find_element_by_xpath(\"//*[@id='tblmain']/tbody/tr[3]/td/div/table\").text"
   ]
  },
  {
   "cell_type": "code",
   "execution_count": null,
   "metadata": {
    "collapsed": true
   },
   "outputs": [],
   "source": [
    "# pd.read_html('https://freesearchigrservice.maharashtra.gov.in/')"
   ]
  },
  {
   "cell_type": "code",
   "execution_count": null,
   "metadata": {
    "collapsed": true
   },
   "outputs": [],
   "source": [
    "//*[@id=\"tblmain\"]/tbody/tr[3]/td/div/table"
   ]
  },
  {
   "cell_type": "code",
   "execution_count": null,
   "metadata": {},
   "outputs": [],
   "source": [
    "elem.text.split('\\n')"
   ]
  },
  {
   "cell_type": "code",
   "execution_count": null,
   "metadata": {
    "collapsed": true
   },
   "outputs": [],
   "source": [
    "a = pd.DataFrame(elem.text.split('\\n'))"
   ]
  },
  {
   "cell_type": "code",
   "execution_count": null,
   "metadata": {},
   "outputs": [],
   "source": [
    "a"
   ]
  },
  {
   "cell_type": "code",
   "execution_count": null,
   "metadata": {},
   "outputs": [],
   "source": [
    "(str(a.iloc[2]))"
   ]
  },
  {
   "cell_type": "code",
   "execution_count": null,
   "metadata": {
    "collapsed": true
   },
   "outputs": [],
   "source": [
    "row = browser.find_element_by_xpath(\"//*[@id='RegistrationGrid']/tbody/tr[2]/td[7]\") "
   ]
  },
  {
   "cell_type": "code",
   "execution_count": null,
   "metadata": {},
   "outputs": [],
   "source": [
    "row.text"
   ]
  },
  {
   "cell_type": "code",
   "execution_count": null,
   "metadata": {
    "collapsed": true
   },
   "outputs": [],
   "source": [
    "import pandas as pd"
   ]
  },
  {
   "cell_type": "code",
   "execution_count": null,
   "metadata": {},
   "outputs": [],
   "source": [
    "data = pd.DataFrame(columns=['DocNo','DName','RDate','SROName','Seller', 'Name','Purchaser', 'Name','Property',\n",
    "                      'Description','SROCode','Status','IndexII'])"
   ]
  },
  {
   "cell_type": "code",
   "execution_count": null,
   "metadata": {},
   "outputs": [],
   "source": [
    "//*[@id=\"RegistrationGrid\"]"
   ]
  },
  {
   "cell_type": "code",
   "execution_count": null,
   "metadata": {
    "collapsed": true
   },
   "outputs": [],
   "source": [
    "//*[@id=\"btnSearch\"]"
   ]
  },
  {
   "cell_type": "code",
   "execution_count": null,
   "metadata": {
    "collapsed": true
   },
   "outputs": [],
   "source": [
    "//*[@id=\"RegistrationGrid\"]/tbody/tr[2]/td[7]/text()"
   ]
  },
  {
   "cell_type": "code",
   "execution_count": null,
   "metadata": {
    "collapsed": true
   },
   "outputs": [],
   "source": [
    "//*[@id=\"RegistrationGrid\"]/tbody/tr[3]/td[7]/text()"
   ]
  },
  {
   "cell_type": "code",
   "execution_count": null,
   "metadata": {
    "collapsed": true
   },
   "outputs": [],
   "source": [
    "//*[@id=\"RegistrationGrid\"]/tbody/tr[2]/td[10]/input"
   ]
  },
  {
   "cell_type": "code",
   "execution_count": null,
   "metadata": {
    "scrolled": true
   },
   "outputs": [],
   "source": [
    "//*[@id=\"RegistrationGrid\"]/tbody/tr[3]/td[10]/input"
   ]
  }
 ],
 "metadata": {
  "kernelspec": {
   "display_name": "Python 3",
   "language": "python",
   "name": "python3"
  },
  "language_info": {
   "codemirror_mode": {
    "name": "ipython",
    "version": 3
   },
   "file_extension": ".py",
   "mimetype": "text/x-python",
   "name": "python",
   "nbconvert_exporter": "python",
   "pygments_lexer": "ipython3",
   "version": "3.6.0"
  }
 },
 "nbformat": 4,
 "nbformat_minor": 2
}
