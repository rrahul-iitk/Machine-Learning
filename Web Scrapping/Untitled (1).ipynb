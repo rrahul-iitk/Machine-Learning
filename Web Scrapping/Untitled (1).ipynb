{
 "cells": [
  {
   "cell_type": "code",
   "execution_count": 1,
   "metadata": {
    "collapsed": true
   },
   "outputs": [],
   "source": [
    "import numpy as np\n",
    "import pandas as pd\n",
    "from selenium import webdriver\n",
    "from selenium.webdriver.support.ui import Select\n",
    "from PIL import Image\n",
    "import pytesseract\n",
    "import time\n",
    "import subprocess\n",
    "import os"
   ]
  },
  {
   "cell_type": "code",
   "execution_count": 2,
   "metadata": {
    "collapsed": true
   },
   "outputs": [],
   "source": [
    "import ctypes\n",
    "user32 = ctypes.windll.user32\n",
    "screensize = user32.GetSystemMetrics(0), user32.GetSystemMetrics(1)"
   ]
  },
  {
   "cell_type": "code",
   "execution_count": 3,
   "metadata": {
    "collapsed": true
   },
   "outputs": [],
   "source": [
    "def get_captcha(driver, element, path):\n",
    "    # now that we have the preliminary stuff out of the way time to get that image :D\n",
    "    location = element.location\n",
    "\n",
    "    size = element.size\n",
    "\n",
    "    # saves screenshot of entire page\n",
    "    driver.save_screenshot(path)\n",
    "\n",
    "    # uses PIL library to open image in memory\n",
    "    image = Image.open(path)\n",
    "\n",
    "    left = location['x']\n",
    "    top = location['y'] \n",
    "    right = location['x'] + size['width']\n",
    "    bottom = location['y'] + size['height']\n",
    "\n",
    "    image = image.crop((left, top, right, bottom))  # defines crop points\n",
    "    image.save(path, 'png')  # saves new cropped image"
   ]
  },
  {
   "cell_type": "code",
   "execution_count": 4,
   "metadata": {
    "collapsed": true
   },
   "outputs": [],
   "source": [
    "def screen_resolution(w,h,screen):\n",
    "    directory = os.getcwd()\n",
    "    with open(os.path.join(directory, 'screen_resolution_to_{}_{}.bat'.format(w,h)), 'w') as OPATH:\n",
    "        OPATH.writelines(['ChangeScreenResolution.exe /w={} /h={} /d={} \\n'.format(w,h,screen),\n",
    "                          '\\n'\n",
    "                          'exit'])\n",
    "    subprocess.call([os.getcwd() +  '\\\\screen_resolution_to_{}_{}.bat'.format(w,h)])\n",
    "    OPATH.close()"
   ]
  },
  {
   "cell_type": "code",
   "execution_count": 5,
   "metadata": {
    "collapsed": true
   },
   "outputs": [],
   "source": [
    "def click_button(browser ,button_text):\n",
    "    try:\n",
    "        button = browser.find_element_by_link_text(button_text)\n",
    "        button.click()\n",
    "    except:\n",
    "        pass"
   ]
  },
  {
   "cell_type": "code",
   "execution_count": 6,
   "metadata": {},
   "outputs": [],
   "source": [
    "browser = webdriver.Chrome(r'C:\\Users\\g701295\\webscrapping_rahul\\chromedriver_win32\\chromedriver.exe')\n",
    "browser.get('http://igrmaharashtra.gov.in/frmHome.aspx')\n",
    "browser.maximize_window()\n",
    "time.sleep(2)\n",
    "\n",
    "browser.find_element_by_xpath(\"/html/body/div/div/form/table[2]/tbody/tr/td/table[1]/tbody/tr[4]/td/table/tbody/tr/td[1]/input[2]\").click()\n",
    "time.sleep(5)\n",
    "\n",
    "browser.find_element_by_link_text('English').click()\n",
    "time.sleep(5)\n",
    "\n",
    "browser.find_element_by_xpath(\"//span[text()='e-Search']\").click()\n",
    "browser.find_element_by_link_text('Free Process').click()\n",
    "time.sleep(5)\n",
    "\n",
    "child = browser.window_handles[1]      \n",
    "browser.switch_to.window(child)\n",
    "time.sleep(5)"
   ]
  },
  {
   "cell_type": "code",
   "execution_count": 7,
   "metadata": {},
   "outputs": [],
   "source": [
    "def fill_page(browser, year, district, first_four_letter_of_village, village_name, property_number):\n",
    "\n",
    "    browser.find_element_by_xpath(\"//*[@id='ddlFromYear']\").send_keys(str(year))\n",
    "\n",
    "    district_dropdown = browser.find_element_by_xpath(\"//*[@id='ddlDistrict']\")\n",
    "    district_select = Select(district_dropdown)\n",
    "    district_select.select_by_value(str(district))\n",
    "    time.sleep(5)\n",
    "\n",
    "    vill_text_area = browser.find_element_by_id('txtAreaName')\n",
    "    vill_text_area.send_keys(first_four_letter_of_village)\n",
    "    time.sleep(1)\n",
    "\n",
    "    browser.find_element_by_xpath(\"//*[@id='ddlareaname']\").click()\n",
    "    time.sleep(5)\n",
    "\n",
    "    village_dropdown = browser.find_element_by_xpath(\"//*[@id='ddlareaname']\")\n",
    "    village_select = Select(village_dropdown)\n",
    "    village_select.select_by_value(village_name)\n",
    "\n",
    "    property_text_area = browser.find_element_by_id('txtAttributeValue')\n",
    "    property_text_area.send_keys(str(property_number))\n",
    "\n",
    "    w = 1920\n",
    "    h = 1080\n",
    "    screen_resolution(w,h,1)\n",
    "\n",
    "    # browser.save_screenshot(\"screenshot.png\")\n",
    "    img = browser.find_element_by_xpath(\"//*[@id='imgCaptcha']\")\n",
    "    get_captcha(browser, img, \"captcha.png\")\n",
    "    time.sleep(5)\n",
    "\n",
    "    im = Image.open(\"captcha.png\")\n",
    "    pytesseract.pytesseract.tesseract_cmd = r'C:\\Users\\g701295\\AppData\\Local\\Tesseract-OCR\\tesseract.exe'\n",
    "    captcha_text = pytesseract.image_to_string(im, lang='eng')\n",
    "\n",
    "    vill_text_area = browser.find_element_by_id('txtImg')\n",
    "    vill_text_area.send_keys(captcha_text)\n",
    "\n",
    "    browser.find_element_by_xpath(\"//*[@id='btnSearch']\").click()\n",
    "\n",
    "    w = screensize[0]\n",
    "    h = screensize[1]\n",
    "    screen_resolution(w,h,1)\n",
    "    time.sleep(5)\n",
    "    return browser"
   ]
  },
  {
   "cell_type": "code",
   "execution_count": 28,
   "metadata": {
    "collapsed": true
   },
   "outputs": [],
   "source": [
    "pagetab=2\n",
    "page=11"
   ]
  },
  {
   "cell_type": "code",
   "execution_count": 29,
   "metadata": {
    "collapsed": true
   },
   "outputs": [],
   "source": []
  },
  {
   "cell_type": "code",
   "execution_count": 30,
   "metadata": {},
   "outputs": [
    {
     "name": "stdout",
     "output_type": "stream",
     "text": [
      "18 18\n"
     ]
    }
   ],
   "source": [
    "pages = browser.find_element_by_xpath(\"//*[@id='RegistrationGrid']/tbody/tr[12]/td/table/tbody/tr\")\n",
    "currenttab = pages.find_elements_by_tag_name('td')[8].text\n",
    "if (((pagetab==1)&(page==10))|((pagetab>1)&(page==11))):         \n",
    "    page_clicked = pages.find_elements_by_tag_name('td')[8].text\n",
    "    while (page_clicked==currenttab):  \n",
    "        print(page_clicked,currenttab)\n",
    "        try:                \n",
    "            #clicking on a given page\n",
    "            xpath = \"//*[@id='RegistrationGrid']/tbody/tr[12]/td/table/tbody/tr/td[\" + str(page+1) + \"]/a\"\n",
    "            browser.find_element_by_xpath(xpath).click()\n",
    "            time.sleep(3)  \n",
    "            pages = browser.find_element_by_xpath(\"//*[@id='RegistrationGrid']/tbody/tr[12]/td/table/tbody/tr\")\n",
    "            page_clicked = pages.find_elements_by_tag_name('td')[8].text\n",
    "        except:\n",
    "            print('not_clicked')"
   ]
  },
  {
   "cell_type": "code",
   "execution_count": null,
   "metadata": {
    "collapsed": true
   },
   "outputs": [],
   "source": []
  },
  {
   "cell_type": "code",
   "execution_count": 8,
   "metadata": {
    "collapsed": true
   },
   "outputs": [],
   "source": [
    "browser = fill_page(browser, 2018, 31, 'Kole', 'Kolekalyan', 4207)"
   ]
  },
  {
   "cell_type": "code",
   "execution_count": 10,
   "metadata": {
    "collapsed": true
   },
   "outputs": [],
   "source": [
    "# %%timeit\n",
    "table_end = False\n",
    "pagetab = 1\n",
    "\n",
    "#Counting the number of pages that are present for clicking on the given page\n",
    "pages = browser.find_element_by_xpath(\"//*[@id='RegistrationGrid']/tbody/tr[12]/td/table/tbody/tr\")\n",
    "count_pages = len(pages.find_elements_by_tag_name('td'))\n",
    "row_list = []\n",
    "col_list = []"
   ]
  },
  {
   "cell_type": "code",
   "execution_count": null,
   "metadata": {
    "scrolled": false
   },
   "outputs": [
    {
     "name": "stdout",
     "output_type": "stream",
     "text": [
      "page1 of tab 1 or page2 of other tab\n",
      "inner 11 10 0 1 False\n",
      "inner 11 10 1 1 True\n",
      "inner 11 10 2 1 True\n",
      "inner 11 10 3 1 True\n",
      "inner 11 10 4 1 True\n",
      "inner 11 10 5 1 True\n",
      "inner 11 10 6 1 True\n",
      "inner 11 10 7 1 True\n",
      "inner 11 10 8 1 True\n",
      "inner 11 10 9 1 True\n",
      "9 9\n",
      "page1 of tab 1 or page2 of other tab\n",
      "inner 11 10 1 2 False\n",
      "inner 11 10 2 2 True\n",
      "inner 11 10 3 2 True\n",
      "inner 11 10 4 2 True\n",
      "inner 11 10 5 2 True\n",
      "inner 11 10 6 2 True\n",
      "inner 11 10 7 2 True\n",
      "inner 11 10 8 2 True\n",
      "inner 11 10 9 2 True\n",
      "inner 11 10 10 2 True\n",
      "18 18\n",
      "page1 of tab 1 or page2 of other tab\n",
      "inner 11 10 1 3 False\n",
      "inner 11 10 2 3 True\n",
      "inner 11 10 3 3 True\n",
      "inner 11 10 4 3 True\n",
      "inner 11 10 5 3 True\n",
      "inner 11 10 6 3 True\n",
      "inner 11 10 7 3 True\n",
      "inner 11 10 8 3 True\n",
      "inner 11 10 9 3 True\n",
      "inner 11 10 10 3 True\n",
      "28 28\n",
      "page1 of tab 1 or page2 of other tab\n",
      "inner 11 10 1 4 False\n",
      "inner 11 10 2 4 True\n",
      "inner 11 10 3 4 True\n",
      "inner 11 10 4 4 True\n",
      "inner 11 10 5 4 True\n",
      "inner 11 10 6 4 True\n",
      "inner 11 10 7 4 True\n",
      "inner 11 10 8 4 True\n",
      "inner 11 10 9 4 True\n",
      "inner 11 10 10 4 True\n",
      "38 38\n",
      "page1 of tab 1 or page2 of other tab\n",
      "inner 11 10 1 5 False\n",
      "inner 11 10 2 5 True\n",
      "inner 11 10 3 5 True\n",
      "inner 11 10 4 5 True\n",
      "inner 11 10 5 5 True\n",
      "inner 11 10 6 5 True\n",
      "inner 11 10 7 5 True\n",
      "inner 11 10 8 5 True\n",
      "inner 11 10 9 5 True\n",
      "inner 11 10 10 5 True\n",
      "48 48\n",
      "page1 of tab 1 or page2 of other tab\n",
      "inner 11 10 1 6 False\n",
      "inner 11 10 2 6 True\n",
      "inner 11 10 3 6 True\n",
      "inner 11 10 4 6 True\n",
      "inner 11 10 5 6 True\n",
      "inner 11 10 6 6 True\n",
      "inner 11 10 7 6 True\n",
      "inner 11 10 8 6 True\n",
      "inner 11 10 9 6 True\n",
      "inner 11 10 10 6 True\n",
      "58 58\n",
      "page1 of tab 1 or page2 of other tab\n",
      "inner 11 10 1 7 False\n",
      "inner 11 10 2 7 True\n",
      "inner 11 10 3 7 True\n",
      "inner 11 10 4 7 True\n",
      "inner 11 10 5 7 True\n",
      "inner 11 10 6 7 True\n",
      "inner 11 10 7 7 True\n",
      "inner 11 10 8 7 True\n",
      "inner 11 10 9 7 True\n",
      "inner 11 10 10 7 True\n",
      "68 68\n",
      "page1 of tab 1 or page2 of other tab\n",
      "inner 11 10 1 8 False\n",
      "inner 11 10 2 8 True\n",
      "inner 11 10 3 8 True\n",
      "inner 11 10 4 8 True\n",
      "inner 11 10 5 8 True\n",
      "inner 11 10 6 8 True\n",
      "inner 11 10 7 8 True\n",
      "inner 11 10 8 8 True\n",
      "inner 11 10 9 8 True\n",
      "inner 11 10 10 8 True\n",
      "78 78\n",
      "page1 of tab 1 or page2 of other tab\n",
      "inner 11 10 0 9 False\n",
      "page1 of tab 1 or page2 of other tab\n",
      "inner 11 10 1 9 False\n",
      "inner 11 10 2 9 True\n",
      "inner 11 10 3 9 True\n",
      "inner 11 10 4 9 True\n",
      "inner 11 10 5 9 True\n",
      "inner 11 10 6 9 True\n"
     ]
    }
   ],
   "source": [
    "while not table_end:\n",
    "    if (((pagetab==1)&(count_pages<11))|((pagetab>1)&(count_pages<12))):\n",
    "        table_end = True     \n",
    "        \n",
    "    #Number fo columns\n",
    "    xpath  = \"//*[@id='RegistrationGrid']/tbody/tr[2]\"\n",
    "    table = browser.find_element_by_xpath(xpath)\n",
    "    column_count = len(table.find_elements_by_tag_name('td'))  \n",
    "    \n",
    "    #Counting the number of pages that are present for clicking on the given page\n",
    "    pages = browser.find_element_by_xpath(\"//*[@id='RegistrationGrid']/tbody/tr[12]/td/table/tbody/tr\")\n",
    "    count_pages = len(pages.find_elements_by_tag_name('td'))\n",
    "    \n",
    "    for page in range(count_pages-10,count_pages):\n",
    "        page_clicked = False\n",
    "#         print((page>1),(page>2),pagetab==1,((page>1)&(pagetab==1)),((page>2)&(pagetab>1)),((page>1)&(pagetab==1))|((page>2)&(pagetab>1)))\n",
    "        if ((page>1)&(pagetab==1))|((page>2)&(pagetab>1)):\n",
    "            while not page_clicked:                \n",
    "                try:\n",
    "                    #clicking on a given page\n",
    "                    xpath = \"//*[@id='RegistrationGrid']/tbody/tr[12]/td/table/tbody/tr/td[\" + str(page) + \"]/a\"\n",
    "                    browser.find_element_by_xpath(xpath).click()\n",
    "                    time.sleep(3)\n",
    "                except:\n",
    "                    page_clicked = True\n",
    "        else:\n",
    "            print('page1 of tab 1 or page2 of other tab')\n",
    "        print('inner',11, column_count,page-1,pagetab,page_clicked)   \n",
    "        \n",
    "        #Number fo columns\n",
    "        table = browser.find_element_by_xpath(\"//*[@id='RegistrationGrid']/tbody\")\n",
    "        row_count = len(table.find_elements_by_tag_name('tr'))-2\n",
    "        \n",
    "        time.sleep(3)\n",
    "        for row in range(2,row_count+1):            \n",
    "            for col in range(1, column_count+1):\n",
    "                xpath = \"//*[@id='RegistrationGrid']/tbody/tr[\" + str(row) + \"]/td[\" + str(col) + \"]\"\n",
    "                col_list.append(browser.find_element_by_xpath(xpath).text)\n",
    "                \n",
    "    #Counting the number of pages that are present for clicking on the given page\n",
    "    pages = browser.find_element_by_xpath(\"//*[@id='RegistrationGrid']/tbody/tr[12]/td/table/tbody/tr\")\n",
    "    currenttab = pages.find_elements_by_tag_name('td')[8].text\n",
    "    click_count = 0\n",
    "    if (((pagetab==1)&(page==10))|((pagetab>1)&(page==11))):         \n",
    "        page_clicked = pages.find_elements_by_tag_name('td')[8].text\n",
    "        while (page_clicked==currenttab)|(click_count>5):  \n",
    "            print(page_clicked,currenttab)\n",
    "            try:                \n",
    "                #clicking on a given page\n",
    "                xpath = \"//*[@id='RegistrationGrid']/tbody/tr[12]/td/table/tbody/tr/td[\" + str(page+1) + \"]/a\"\n",
    "                browser.find_element_by_xpath(xpath).click()\n",
    "                time.sleep(3)  \n",
    "                click_count = click_count + 1\n",
    "                pages = browser.find_element_by_xpath(\"//*[@id='RegistrationGrid']/tbody/tr[12]/td/table/tbody/tr\")\n",
    "                page_clicked = pages.find_elements_by_tag_name('td')[8].text\n",
    "            except:\n",
    "                print('not_clicked')\n",
    "#         if (click_count>5):\n",
    "#             browser = fill_page(browser, year, district, first_four_letter_of_village, village_name, property_number)\n",
    "        #Counting the number of pages that are present for clicking on the given page\n",
    "        pages = browser.find_element_by_xpath(\"//*[@id='RegistrationGrid']/tbody/tr[12]/td/table/tbody/tr\")\n",
    "        count_pages = len(pages.find_elements_by_tag_name('td'))\n",
    "        pagetab = pagetab + 1"
   ]
  },
  {
   "cell_type": "code",
   "execution_count": 11,
   "metadata": {},
   "outputs": [],
   "source": []
  },
  {
   "cell_type": "code",
   "execution_count": 12,
   "metadata": {
    "collapsed": true
   },
   "outputs": [],
   "source": []
  },
  {
   "cell_type": "code",
   "execution_count": 13,
   "metadata": {},
   "outputs": [
    {
     "data": {
      "text/plain": [
       "'9'"
      ]
     },
     "execution_count": 13,
     "metadata": {},
     "output_type": "execute_result"
    }
   ],
   "source": [
    "currenttab"
   ]
  },
  {
   "cell_type": "code",
   "execution_count": 14,
   "metadata": {},
   "outputs": [
    {
     "name": "stdout",
     "output_type": "stream",
     "text": [
      "9 9\n"
     ]
    }
   ],
   "source": []
  },
  {
   "cell_type": "code",
   "execution_count": null,
   "metadata": {
    "collapsed": true
   },
   "outputs": [],
   "source": [
    "pages = browser.find_element_by_xpath(\"//*[@id='RegistrationGrid']/tbody/tr[12]/td/table/tbody/tr\")"
   ]
  },
  {
   "cell_type": "code",
   "execution_count": 4,
   "metadata": {},
   "outputs": [
    {
     "ename": "NameError",
     "evalue": "name 'browser' is not defined",
     "output_type": "error",
     "traceback": [
      "\u001b[1;31m---------------------------------------------------------------------------\u001b[0m",
      "\u001b[1;31mNameError\u001b[0m                                 Traceback (most recent call last)",
      "\u001b[1;32m<ipython-input-4-5a3fcc343b7c>\u001b[0m in \u001b[0;36m<module>\u001b[1;34m()\u001b[0m\n\u001b[0;32m      1\u001b[0m \u001b[1;31m#Counting the number of pages that are present for clicking on the given page\u001b[0m\u001b[1;33m\u001b[0m\u001b[1;33m\u001b[0m\u001b[0m\n\u001b[1;32m----> 2\u001b[1;33m \u001b[0mpages\u001b[0m \u001b[1;33m=\u001b[0m \u001b[0mbrowser\u001b[0m\u001b[1;33m.\u001b[0m\u001b[0mfind_element_by_xpath\u001b[0m\u001b[1;33m(\u001b[0m\u001b[1;34m\"//*[@id='RegistrationGrid']/tbody/tr[12]/td/table/tbody/tr\"\u001b[0m\u001b[1;33m)\u001b[0m\u001b[1;33m\u001b[0m\u001b[0m\n\u001b[0m\u001b[0;32m      3\u001b[0m \u001b[0mcount_pages\u001b[0m \u001b[1;33m=\u001b[0m \u001b[0mlen\u001b[0m\u001b[1;33m(\u001b[0m\u001b[0mpages\u001b[0m\u001b[1;33m.\u001b[0m\u001b[0mfind_elements_by_tag_name\u001b[0m\u001b[1;33m(\u001b[0m\u001b[1;34m'td'\u001b[0m\u001b[1;33m)\u001b[0m\u001b[1;33m)\u001b[0m\u001b[1;33m\u001b[0m\u001b[0m\n",
      "\u001b[1;31mNameError\u001b[0m: name 'browser' is not defined"
     ]
    }
   ],
   "source": [
    "#Counting the number of pages that are present for clicking on the given page\n",
    "pages = browser.find_element_by_xpath(\"//*[@id='RegistrationGrid']/tbody/tr[12]/td/table/tbody/tr\")\n",
    "count_pages = len(pages.find_elements_by_tag_name('td'))"
   ]
  },
  {
   "cell_type": "code",
   "execution_count": 3,
   "metadata": {},
   "outputs": [
    {
     "ename": "NameError",
     "evalue": "name 'pages' is not defined",
     "output_type": "error",
     "traceback": [
      "\u001b[1;31m---------------------------------------------------------------------------\u001b[0m",
      "\u001b[1;31mNameError\u001b[0m                                 Traceback (most recent call last)",
      "\u001b[1;32m<ipython-input-3-6138a13d3d4c>\u001b[0m in \u001b[0;36m<module>\u001b[1;34m()\u001b[0m\n\u001b[1;32m----> 1\u001b[1;33m \u001b[0mpages\u001b[0m\u001b[1;33m\u001b[0m\u001b[0m\n\u001b[0m",
      "\u001b[1;31mNameError\u001b[0m: name 'pages' is not defined"
     ]
    }
   ],
   "source": [
    "pages"
   ]
  },
  {
   "cell_type": "code",
   "execution_count": 2,
   "metadata": {},
   "outputs": [
    {
     "ename": "NameError",
     "evalue": "name 'pages' is not defined",
     "output_type": "error",
     "traceback": [
      "\u001b[1;31m---------------------------------------------------------------------------\u001b[0m",
      "\u001b[1;31mNameError\u001b[0m                                 Traceback (most recent call last)",
      "\u001b[1;32m<ipython-input-2-31b3298c63b2>\u001b[0m in \u001b[0;36m<module>\u001b[1;34m()\u001b[0m\n\u001b[1;32m----> 1\u001b[1;33m \u001b[0mpages\u001b[0m\u001b[1;33m.\u001b[0m\u001b[0mfind_elements_by_tag_name\u001b[0m\u001b[1;33m(\u001b[0m\u001b[1;34m'td'\u001b[0m\u001b[1;33m)\u001b[0m\u001b[1;33m[\u001b[0m\u001b[1;36m8\u001b[0m\u001b[1;33m]\u001b[0m\u001b[1;33m.\u001b[0m\u001b[0mtext\u001b[0m\u001b[1;33m\u001b[0m\u001b[0m\n\u001b[0m",
      "\u001b[1;31mNameError\u001b[0m: name 'pages' is not defined"
     ]
    }
   ],
   "source": [
    "pages.find_elements_by_tag_name('td')[8].text"
   ]
  },
  {
   "cell_type": "code",
   "execution_count": null,
   "metadata": {
    "collapsed": true
   },
   "outputs": [],
   "source": [
    "<a href=\"javascript:__doPostBack('RegistrationGrid','Page$85')\" style=\"color:Black;\">85</a>"
   ]
  },
  {
   "cell_type": "code",
   "execution_count": 16,
   "metadata": {},
   "outputs": [
    {
     "ename": "NoSuchElementException",
     "evalue": "Message: no such element: Unable to locate element: {\"method\":\"link text\",\"selector\":\"javascript:__doPostBack('RegistrationGrid','Page$85')\"}\n  (Session info: chrome=76.0.3809.100)\n",
     "output_type": "error",
     "traceback": [
      "\u001b[1;31m---------------------------------------------------------------------------\u001b[0m",
      "\u001b[1;31mNoSuchElementException\u001b[0m                    Traceback (most recent call last)",
      "\u001b[1;32m<ipython-input-16-0ce631ff36f9>\u001b[0m in \u001b[0;36m<module>\u001b[1;34m()\u001b[0m\n\u001b[1;32m----> 1\u001b[1;33m \u001b[0mbrowser\u001b[0m\u001b[1;33m.\u001b[0m\u001b[0mfind_element_by_link_text\u001b[0m\u001b[1;33m(\u001b[0m\u001b[1;34m\"javascript:__doPostBack('RegistrationGrid','Page$85')\"\u001b[0m\u001b[1;33m)\u001b[0m\u001b[1;33m.\u001b[0m\u001b[0mclick\u001b[0m\u001b[1;33m(\u001b[0m\u001b[1;33m)\u001b[0m\u001b[1;33m\u001b[0m\u001b[0m\n\u001b[0m",
      "\u001b[1;32mC:\\Users\\g701295\\AppData\\Local\\Continuum\\Anaconda3\\lib\\site-packages\\selenium\\webdriver\\remote\\webdriver.py\u001b[0m in \u001b[0;36mfind_element_by_link_text\u001b[1;34m(self, link_text)\u001b[0m\n\u001b[0;32m    426\u001b[0m             \u001b[0melement\u001b[0m \u001b[1;33m=\u001b[0m \u001b[0mdriver\u001b[0m\u001b[1;33m.\u001b[0m\u001b[0mfind_element_by_link_text\u001b[0m\u001b[1;33m(\u001b[0m\u001b[1;34m'Sign In'\u001b[0m\u001b[1;33m)\u001b[0m\u001b[1;33m\u001b[0m\u001b[0m\n\u001b[0;32m    427\u001b[0m         \"\"\"\n\u001b[1;32m--> 428\u001b[1;33m         \u001b[1;32mreturn\u001b[0m \u001b[0mself\u001b[0m\u001b[1;33m.\u001b[0m\u001b[0mfind_element\u001b[0m\u001b[1;33m(\u001b[0m\u001b[0mby\u001b[0m\u001b[1;33m=\u001b[0m\u001b[0mBy\u001b[0m\u001b[1;33m.\u001b[0m\u001b[0mLINK_TEXT\u001b[0m\u001b[1;33m,\u001b[0m \u001b[0mvalue\u001b[0m\u001b[1;33m=\u001b[0m\u001b[0mlink_text\u001b[0m\u001b[1;33m)\u001b[0m\u001b[1;33m\u001b[0m\u001b[0m\n\u001b[0m\u001b[0;32m    429\u001b[0m \u001b[1;33m\u001b[0m\u001b[0m\n\u001b[0;32m    430\u001b[0m     \u001b[1;32mdef\u001b[0m \u001b[0mfind_elements_by_link_text\u001b[0m\u001b[1;33m(\u001b[0m\u001b[0mself\u001b[0m\u001b[1;33m,\u001b[0m \u001b[0mtext\u001b[0m\u001b[1;33m)\u001b[0m\u001b[1;33m:\u001b[0m\u001b[1;33m\u001b[0m\u001b[0m\n",
      "\u001b[1;32mC:\\Users\\g701295\\AppData\\Local\\Continuum\\Anaconda3\\lib\\site-packages\\selenium\\webdriver\\remote\\webdriver.py\u001b[0m in \u001b[0;36mfind_element\u001b[1;34m(self, by, value)\u001b[0m\n\u001b[0;32m    976\u001b[0m         return self.execute(Command.FIND_ELEMENT, {\n\u001b[0;32m    977\u001b[0m             \u001b[1;34m'using'\u001b[0m\u001b[1;33m:\u001b[0m \u001b[0mby\u001b[0m\u001b[1;33m,\u001b[0m\u001b[1;33m\u001b[0m\u001b[0m\n\u001b[1;32m--> 978\u001b[1;33m             'value': value})['value']\n\u001b[0m\u001b[0;32m    979\u001b[0m \u001b[1;33m\u001b[0m\u001b[0m\n\u001b[0;32m    980\u001b[0m     \u001b[1;32mdef\u001b[0m \u001b[0mfind_elements\u001b[0m\u001b[1;33m(\u001b[0m\u001b[0mself\u001b[0m\u001b[1;33m,\u001b[0m \u001b[0mby\u001b[0m\u001b[1;33m=\u001b[0m\u001b[0mBy\u001b[0m\u001b[1;33m.\u001b[0m\u001b[0mID\u001b[0m\u001b[1;33m,\u001b[0m \u001b[0mvalue\u001b[0m\u001b[1;33m=\u001b[0m\u001b[1;32mNone\u001b[0m\u001b[1;33m)\u001b[0m\u001b[1;33m:\u001b[0m\u001b[1;33m\u001b[0m\u001b[0m\n",
      "\u001b[1;32mC:\\Users\\g701295\\AppData\\Local\\Continuum\\Anaconda3\\lib\\site-packages\\selenium\\webdriver\\remote\\webdriver.py\u001b[0m in \u001b[0;36mexecute\u001b[1;34m(self, driver_command, params)\u001b[0m\n\u001b[0;32m    319\u001b[0m         \u001b[0mresponse\u001b[0m \u001b[1;33m=\u001b[0m \u001b[0mself\u001b[0m\u001b[1;33m.\u001b[0m\u001b[0mcommand_executor\u001b[0m\u001b[1;33m.\u001b[0m\u001b[0mexecute\u001b[0m\u001b[1;33m(\u001b[0m\u001b[0mdriver_command\u001b[0m\u001b[1;33m,\u001b[0m \u001b[0mparams\u001b[0m\u001b[1;33m)\u001b[0m\u001b[1;33m\u001b[0m\u001b[0m\n\u001b[0;32m    320\u001b[0m         \u001b[1;32mif\u001b[0m \u001b[0mresponse\u001b[0m\u001b[1;33m:\u001b[0m\u001b[1;33m\u001b[0m\u001b[0m\n\u001b[1;32m--> 321\u001b[1;33m             \u001b[0mself\u001b[0m\u001b[1;33m.\u001b[0m\u001b[0merror_handler\u001b[0m\u001b[1;33m.\u001b[0m\u001b[0mcheck_response\u001b[0m\u001b[1;33m(\u001b[0m\u001b[0mresponse\u001b[0m\u001b[1;33m)\u001b[0m\u001b[1;33m\u001b[0m\u001b[0m\n\u001b[0m\u001b[0;32m    322\u001b[0m             response['value'] = self._unwrap_value(\n\u001b[0;32m    323\u001b[0m                 response.get('value', None))\n",
      "\u001b[1;32mC:\\Users\\g701295\\AppData\\Local\\Continuum\\Anaconda3\\lib\\site-packages\\selenium\\webdriver\\remote\\errorhandler.py\u001b[0m in \u001b[0;36mcheck_response\u001b[1;34m(self, response)\u001b[0m\n\u001b[0;32m    240\u001b[0m                 \u001b[0malert_text\u001b[0m \u001b[1;33m=\u001b[0m \u001b[0mvalue\u001b[0m\u001b[1;33m[\u001b[0m\u001b[1;34m'alert'\u001b[0m\u001b[1;33m]\u001b[0m\u001b[1;33m.\u001b[0m\u001b[0mget\u001b[0m\u001b[1;33m(\u001b[0m\u001b[1;34m'text'\u001b[0m\u001b[1;33m)\u001b[0m\u001b[1;33m\u001b[0m\u001b[0m\n\u001b[0;32m    241\u001b[0m             \u001b[1;32mraise\u001b[0m \u001b[0mexception_class\u001b[0m\u001b[1;33m(\u001b[0m\u001b[0mmessage\u001b[0m\u001b[1;33m,\u001b[0m \u001b[0mscreen\u001b[0m\u001b[1;33m,\u001b[0m \u001b[0mstacktrace\u001b[0m\u001b[1;33m,\u001b[0m \u001b[0malert_text\u001b[0m\u001b[1;33m)\u001b[0m\u001b[1;33m\u001b[0m\u001b[0m\n\u001b[1;32m--> 242\u001b[1;33m         \u001b[1;32mraise\u001b[0m \u001b[0mexception_class\u001b[0m\u001b[1;33m(\u001b[0m\u001b[0mmessage\u001b[0m\u001b[1;33m,\u001b[0m \u001b[0mscreen\u001b[0m\u001b[1;33m,\u001b[0m \u001b[0mstacktrace\u001b[0m\u001b[1;33m)\u001b[0m\u001b[1;33m\u001b[0m\u001b[0m\n\u001b[0m\u001b[0;32m    243\u001b[0m \u001b[1;33m\u001b[0m\u001b[0m\n\u001b[0;32m    244\u001b[0m     \u001b[1;32mdef\u001b[0m \u001b[0m_value_or_default\u001b[0m\u001b[1;33m(\u001b[0m\u001b[0mself\u001b[0m\u001b[1;33m,\u001b[0m \u001b[0mobj\u001b[0m\u001b[1;33m,\u001b[0m \u001b[0mkey\u001b[0m\u001b[1;33m,\u001b[0m \u001b[0mdefault\u001b[0m\u001b[1;33m)\u001b[0m\u001b[1;33m:\u001b[0m\u001b[1;33m\u001b[0m\u001b[0m\n",
      "\u001b[1;31mNoSuchElementException\u001b[0m: Message: no such element: Unable to locate element: {\"method\":\"link text\",\"selector\":\"javascript:__doPostBack('RegistrationGrid','Page$85')\"}\n  (Session info: chrome=76.0.3809.100)\n"
     ]
    }
   ],
   "source": [
    "browser.find_element_by_link_text(\"javascript:__doPostBack('RegistrationGrid','Page$85')\").click()"
   ]
  },
  {
   "cell_type": "code",
   "execution_count": 15,
   "metadata": {},
   "outputs": [
    {
     "data": {
      "text/plain": [
       "459.09090909090907"
      ]
     },
     "execution_count": 15,
     "metadata": {},
     "output_type": "execute_result"
    }
   ],
   "source": [
    "len(col_list)/11"
   ]
  },
  {
   "cell_type": "code",
   "execution_count": null,
   "metadata": {
    "collapsed": true
   },
   "outputs": [],
   "source": [
    "//*[@id=\"RegistrationGrid\"]/tbody/tr[12]/td/table/tbody/tr/td[6]/a"
   ]
  },
  {
   "cell_type": "code",
   "execution_count": 40,
   "metadata": {},
   "outputs": [
    {
     "data": {
      "text/plain": [
       "False"
      ]
     },
     "execution_count": 40,
     "metadata": {},
     "output_type": "execute_result"
    }
   ],
   "source": [
    "(pagetab==1&page==10)|(pagetab>1&page==11)"
   ]
  },
  {
   "cell_type": "code",
   "execution_count": 29,
   "metadata": {
    "collapsed": true
   },
   "outputs": [],
   "source": [
    "xpath = \"//*[@id='RegistrationGrid']/tbody/tr[12]/td/table/tbody/tr/td[\" + str(page+1) + \"]/a\"\n",
    "browser.find_element_by_xpath(xpath).click()\n",
    "time.sleep(8)   "
   ]
  },
  {
   "cell_type": "code",
   "execution_count": 44,
   "metadata": {},
   "outputs": [
    {
     "data": {
      "text/plain": [
       "True"
      ]
     },
     "execution_count": 44,
     "metadata": {},
     "output_type": "execute_result"
    }
   ],
   "source": [
    "pagetab==1"
   ]
  },
  {
   "cell_type": "code",
   "execution_count": 34,
   "metadata": {},
   "outputs": [
    {
     "data": {
      "text/plain": [
       "True"
      ]
     },
     "execution_count": 34,
     "metadata": {},
     "output_type": "execute_result"
    }
   ],
   "source": [
    "page==10"
   ]
  },
  {
   "cell_type": "code",
   "execution_count": 36,
   "metadata": {},
   "outputs": [
    {
     "data": {
      "text/plain": [
       "True"
      ]
     },
     "execution_count": 36,
     "metadata": {},
     "output_type": "execute_result"
    }
   ],
   "source": [
    "((pagetab==1)&(page==10))"
   ]
  },
  {
   "cell_type": "code",
   "execution_count": 26,
   "metadata": {},
   "outputs": [
    {
     "data": {
      "text/plain": [
       "True"
      ]
     },
     "execution_count": 26,
     "metadata": {},
     "output_type": "execute_result"
    }
   ],
   "source": [
    "table_end"
   ]
  },
  {
   "cell_type": "code",
   "execution_count": 31,
   "metadata": {},
   "outputs": [
    {
     "name": "stdout",
     "output_type": "stream",
     "text": [
      "10 1\n"
     ]
    }
   ],
   "source": [
    "print(page,pagetab)"
   ]
  },
  {
   "cell_type": "code",
   "execution_count": 93,
   "metadata": {},
   "outputs": [
    {
     "data": {
      "text/plain": [
       "[['10052',\n",
       "  'गहाणखत',\n",
       "  '14/08/2018',\n",
       "  'सह दु.नि. अंधेरी 1',\n",
       "  '{\"सेंट्रल बँक ऑफ इंडिया भारत डायमन्ड बोर्स ब्रांचतर्फे असिसस्टंट. मॅनिजरसुमा नायर\"}',\n",
       "  '{\"आर चिमनलाल अँड कोतर्फे पार्टनरअतुल रजनिकुमार झवेरी\"}',\n",
       "  'सदनिका नं: ऑफिस डी सी 5150, माळा नं: 5 फ़्लोर डी टावर, इमारतीचे नाव: भारत डायमन्ड बोर्स कॉमप्लेक्स सेंट्रल विंग, ब्लॉक नं: कार पार्किग स्पन्स नं.डी-761 बांदरा ईस्ट, रोड नं: बीकेएसी रोड',\n",
       "  '322',\n",
       "  '4',\n",
       "  ''],\n",
       " ['10383',\n",
       "  'सप्लीमेंट्री अँग्रीमेंट',\n",
       "  '24/08/2018',\n",
       "  'सह दु.नि. अंधेरी 1',\n",
       "  '{\"स्टारलाईट सिस्टम्स आय एल.एल.पी तर्फे प्राधिकृत व्यक्ती स्वेता गुप्ता यांच्या तर्फे मुखत्यार कमलेश अगरवाल--\",\"स्टारलाईट सिस्टम्स आय एल.एल.पी तर्फे प्राधिकृत व्यक्ती मारिया अविताम्पिल्ली यांच्या तर्फे मुखत्यार कमलेश अगरवाल--\"}',\n",
       "  '{\"लक्ष्मण नरसिंम्हन--\"}',\n",
       "  'सदनिका नं: 503,बी विंग, माळा नं: 5 वा मजला, इमारतीचे नाव: सिग्नेचर आयलंड, ब्लॉक नं: बांद्रा पूर्व,मुंबई-400051, रोड नं: जी ब्लॉक,बांद्रा कुर्ला कॉम्प्लेक्स, इतर माहिती: दस्तात नमूद केल्याप्रमाणे. दस्त क्रमांक बदर-4/1979/2011 या दस्ताचे पुरवणी दस्त.या दस्तात जुने क्षेत्र 4403.90 चौरस फूट कार्पेट व वाढीव क्षेत्र 206.63 चौरस फूट कार्पेट,याचे एकूण क्षेत्र 4610.53 चौरस फूट कार्पेट.वाढीव क्षेत्राचा मोबदला रु.50,00,000/-एकुन मोबदाल 241821239/-.',\n",
       "  '322',\n",
       "  '4',\n",
       "  ''],\n",
       " ['10540',\n",
       "  '36-अ-लिव्ह अॅड लायसन्सेस',\n",
       "  '29/08/2018',\n",
       "  'सह दु.नि. अंधेरी 1',\n",
       "  '{\"धीरेन शामलजीदोशी\"}',\n",
       "  '{\"मे योगेश्वर डायमंडस चे भागीदारदिनेशभाई के कपोपरा\",\"मे कपिश जेम्स चे भागीदारजयेशभाई बी मणिया\"}',\n",
       "  ', इतर माहिती: ऑफिस प्रिमायसेस नं डी सी 9030,डी टावर,सेंटर साईड,9 वा मजला,भारत डायमंड बुर्स कॉम्प्लेक्स,जी ब्लॉक,बांद्रा कुर्ला कॉम्प्लेक्स,बांद्रा पूर्व,मुंबई 400051',\n",
       "  '322',\n",
       "  '4',\n",
       "  ''],\n",
       " ['10545',\n",
       "  '36-अ-लिव्ह अॅड लायसन्सेस',\n",
       "  '29/08/2018',\n",
       "  'सह दु.नि. अंधेरी 1',\n",
       "  '{हसमुखकुमारकीर्तीलालमेहता,रमेशचंद्रचिमनलालमेहता}',\n",
       "  '{\"सागर एंटरप्राइस तर्फे भागिदार दिलीपभाईडाह्याभाईशाह\"}',\n",
       "  'सदनिका नं: ऑफिस प्रीमाईसीस नं डीडब्लू-2070,डी टावर,वेस्ट विंग, माळा नं: 2 रा मजला, इमारतीचे नाव: भारत डायमंड बुर्स कॉमप्लेक्स, ब्लॉक नं: जी ब्लॉक,बांदरा कुर्ला कॉमप्लेक्स, रोड नं: बांदरा पूर्व,मुंबई-400051',\n",
       "  '322',\n",
       "  '4',\n",
       "  ''],\n",
       " ['10598',\n",
       "  '36-अ-लिव्ह अॅड लायसन्सेस',\n",
       "  '30/08/2018',\n",
       "  'सह दु.नि. अंधेरी 1',\n",
       "  '{\"स्टारलाईट सिस्टम्स आय एल एल पी तर्फे प्राधिकृत चारुदत्त जांभेकर--\"}',\n",
       "  '{\"कॉन्सलेट जनरल ऑफ युनायटेड स्टेट्स ऑफ अमेरिका मुंबई,इंडिया तर्फे सिनियर जनरल सर्व्हिसेस ऑफिसर शंकर राव-( नोंदणी कायदा 1908 चे कलम 88 खाली नोंदणीस हजर राहण्यास माफी )\"}',\n",
       "  'सदनिका नं: युनिट नं.1304, माळा नं: 13 वा मजला, इमारतीचे नाव: सिग्निया आईल्स, ब्लॉक नं: बांद्रा पूर्व,मुंबई-400051, रोड नं: बांद्रा कुर्ला कॉमप्लेक्स',\n",
       "  '322',\n",
       "  '4',\n",
       "  ''],\n",
       " ['10597',\n",
       "  '36-अ-लिव्ह अॅड लायसन्सेस',\n",
       "  '30/08/2018',\n",
       "  'सह दु.नि. अंधेरी 1',\n",
       "  '{\"स्टारलाईट सिस्टम्स आय एल एल पी तर्फे प्राधिकृत व्यक्ति चारुदत्त जांभेकर--\"}',\n",
       "  '{\"कॉन्सलेट जनरल ऑफ युनायटेड स्टेट्स ऑफ अमेरिका मुंबई,इंडिया तर्फे सिनियर जनरल सर्व्हिसेस ऑफिसर शंकर राव-( नोंदणी कायदा 1908 चे कलम 88 खाली नोंदणीस हजर राहण्यास माफी )\"}',\n",
       "  'सदनिका नं: युनिट नं.101, माळा नं: पहिला मजला, इमारतीचे नाव: सिग्निया पर्ल, ब्लॉक नं: बांद्रा पश्चिम,मुंबई-400050, रोड नं: बांद्रा कुर्ला कॉमप्लेक्स',\n",
       "  '322',\n",
       "  '4',\n",
       "  ''],\n",
       " ['10800',\n",
       "  'सेल डीड',\n",
       "  '05/09/2018',\n",
       "  'सह दु.नि. अंधेरी 1',\n",
       "  '{\"सन जेम्स तर्फे भागिदार सुनीलकुमाररतिलालशाह\"}',\n",
       "  '{\"श्री हरी जेवेल्स तर्फे भागिदार अंशुल.अग्रवाल\"}',\n",
       "  'सदनिका नं: ऑफिस प्रीमाईसीस नं.जेई-3022,जे टावर,ईस्ट विंग, माळा नं: 3 रा मजला, इमारतीचे नाव: भारत डायमंड बुर्स कॉमप्लेक्स, ब्लॉक नं: जी ब्लॉक,बांदरा कुर्ला कॉमप्लेक्स, रोड नं: बांदरा पूर्व,मुंबई-400051, इतर माहिती: क्षेत्र 150 चौ फुट बाधीव',\n",
       "  '322',\n",
       "  '4',\n",
       "  ''],\n",
       " ['10795',\n",
       "  '36-अ-लिव्ह अॅड लायसन्सेस',\n",
       "  '05/09/2018',\n",
       "  'सह दु.नि. अंधेरी 1',\n",
       "  '{दालचंद.नाहाता}',\n",
       "  '{\"मोवालिया ब्रॉथेर्स तर्फे भागिदार जयदीपकुमारभ.मोवालिया\"}',\n",
       "  'सदनिका नं: ऑफिस प्रीमाईसीस नं.जेई-3120,जे टावर,ईस्ट विंग, माळा नं: 3 रा मजला, इमारतीचे नाव: भारत डायमंड बुर्स कॉमप्लेक्स, ब्लॉक नं: जी ब्लॉक,बांदरा कुर्ला कॉमप्लेक्स, रोड नं: बांदरा पूर्व,मुंबई-400051',\n",
       "  '322',\n",
       "  '4',\n",
       "  ''],\n",
       " ['10798',\n",
       "  'हक्कलेखनिक्षेप दस्त',\n",
       "  '05/09/2018',\n",
       "  'सह दु.नि. अंधेरी 1',\n",
       "  '{\"रहिल इंपेक्स तर्फे भागिदारश्री रहिल एम शाह\"}',\n",
       "  '{\"एड्लवाइस फायनान्स लीमीटेडतर्फेहितेश सी पटेल\"}',\n",
       "  'सदनिका नं: ऑफिस नं ए इ 4042 बी ए टावर ईस्ट विंग, माळा नं: 04, इमारतीचे नाव: भरत डायमन्ड बोर्स कॉमप्लेक्स, ब्लॉक नं: प्लाट नं सी-70 जी बांदरा कुर्ला कॉमप्लेक्स, रोड नं: बांदरा ईस्ट मुंबई 400051',\n",
       "  '322',\n",
       "  '4',\n",
       "  ''],\n",
       " ['11197',\n",
       "  '36-अ-लिव्ह अॅड लायसन्सेस',\n",
       "  '17/09/2018',\n",
       "  'सह दु.नि. अंधेरी 1',\n",
       "  '{\"विहाना विराट मेहता तर्फे पालंकर्ते वडील विराटप्रवीणचंद्रमेहता\",सिद्धीविराटमेहता,\"विहा विराट मेहता तर्फे पालंकर्ते वडील विराटप्रवीणचंद्रमेहता\"}',\n",
       "  '{\"आकाश डायमंड तर्फे भागिदार भरतजयंतीभाईमनिया\"}',\n",
       "  'सदनिका नं: ऑफिस प्रीमाईसीस नं.बीडब्लू-5110,बी टावर,वेस्ट विंग, माळा नं: 5 वा मजला, इमारतीचे नाव: भारत डायमंड बुर्स कॉमप्लेक्स, ब्लॉक नं: जी ब्लॉक,बांदरा कुर्ला कॉमप्लेक्स, रोड नं: बांदरा पूर्व,मुंबई-400051',\n",
       "  '322',\n",
       "  '4',\n",
       "  ''],\n",
       " ['10052',\n",
       "  'गहाणखत',\n",
       "  '14/08/2018',\n",
       "  'सह दु.नि. अंधेरी 1',\n",
       "  '{\"सेंट्रल बँक ऑफ इंडिया भारत डायमन्ड बोर्स ब्रांचतर्फे असिसस्टंट. मॅनिजरसुमा नायर\"}',\n",
       "  '{\"आर चिमनलाल अँड कोतर्फे पार्टनरअतुल रजनिकुमार झवेरी\"}',\n",
       "  'सदनिका नं: ऑफिस डी सी 5150, माळा नं: 5 फ़्लोर डी टावर, इमारतीचे नाव: भारत डायमन्ड बोर्स कॉमप्लेक्स सेंट्रल विंग, ब्लॉक नं: कार पार्किग स्पन्स नं.डी-761 बांदरा ईस्ट, रोड नं: बीकेएसी रोड',\n",
       "  '322',\n",
       "  '4',\n",
       "  ''],\n",
       " ['10383',\n",
       "  'सप्लीमेंट्री अँग्रीमेंट',\n",
       "  '24/08/2018',\n",
       "  'सह दु.नि. अंधेरी 1',\n",
       "  '{\"स्टारलाईट सिस्टम्स आय एल.एल.पी तर्फे प्राधिकृत व्यक्ती स्वेता गुप्ता यांच्या तर्फे मुखत्यार कमलेश अगरवाल--\",\"स्टारलाईट सिस्टम्स आय एल.एल.पी तर्फे प्राधिकृत व्यक्ती मारिया अविताम्पिल्ली यांच्या तर्फे मुखत्यार कमलेश अगरवाल--\"}',\n",
       "  '{\"लक्ष्मण नरसिंम्हन--\"}',\n",
       "  'सदनिका नं: 503,बी विंग, माळा नं: 5 वा मजला, इमारतीचे नाव: सिग्नेचर आयलंड, ब्लॉक नं: बांद्रा पूर्व,मुंबई-400051, रोड नं: जी ब्लॉक,बांद्रा कुर्ला कॉम्प्लेक्स, इतर माहिती: दस्तात नमूद केल्याप्रमाणे. दस्त क्रमांक बदर-4/1979/2011 या दस्ताचे पुरवणी दस्त.या दस्तात जुने क्षेत्र 4403.90 चौरस फूट कार्पेट व वाढीव क्षेत्र 206.63 चौरस फूट कार्पेट,याचे एकूण क्षेत्र 4610.53 चौरस फूट कार्पेट.वाढीव क्षेत्राचा मोबदला रु.50,00,000/-एकुन मोबदाल 241821239/-.',\n",
       "  '322',\n",
       "  '4',\n",
       "  ''],\n",
       " ['10540',\n",
       "  '36-अ-लिव्ह अॅड लायसन्सेस',\n",
       "  '29/08/2018',\n",
       "  'सह दु.नि. अंधेरी 1',\n",
       "  '{\"धीरेन शामलजीदोशी\"}',\n",
       "  '{\"मे योगेश्वर डायमंडस चे भागीदारदिनेशभाई के कपोपरा\",\"मे कपिश जेम्स चे भागीदारजयेशभाई बी मणिया\"}',\n",
       "  ', इतर माहिती: ऑफिस प्रिमायसेस नं डी सी 9030,डी टावर,सेंटर साईड,9 वा मजला,भारत डायमंड बुर्स कॉम्प्लेक्स,जी ब्लॉक,बांद्रा कुर्ला कॉम्प्लेक्स,बांद्रा पूर्व,मुंबई 400051',\n",
       "  '322',\n",
       "  '4',\n",
       "  ''],\n",
       " ['10545',\n",
       "  '36-अ-लिव्ह अॅड लायसन्सेस',\n",
       "  '29/08/2018',\n",
       "  'सह दु.नि. अंधेरी 1',\n",
       "  '{हसमुखकुमारकीर्तीलालमेहता,रमेशचंद्रचिमनलालमेहता}',\n",
       "  '{\"सागर एंटरप्राइस तर्फे भागिदार दिलीपभाईडाह्याभाईशाह\"}',\n",
       "  'सदनिका नं: ऑफिस प्रीमाईसीस नं डीडब्लू-2070,डी टावर,वेस्ट विंग, माळा नं: 2 रा मजला, इमारतीचे नाव: भारत डायमंड बुर्स कॉमप्लेक्स, ब्लॉक नं: जी ब्लॉक,बांदरा कुर्ला कॉमप्लेक्स, रोड नं: बांदरा पूर्व,मुंबई-400051',\n",
       "  '322',\n",
       "  '4',\n",
       "  ''],\n",
       " ['10598',\n",
       "  '36-अ-लिव्ह अॅड लायसन्सेस',\n",
       "  '30/08/2018',\n",
       "  'सह दु.नि. अंधेरी 1',\n",
       "  '{\"स्टारलाईट सिस्टम्स आय एल एल पी तर्फे प्राधिकृत चारुदत्त जांभेकर--\"}',\n",
       "  '{\"कॉन्सलेट जनरल ऑफ युनायटेड स्टेट्स ऑफ अमेरिका मुंबई,इंडिया तर्फे सिनियर जनरल सर्व्हिसेस ऑफिसर शंकर राव-( नोंदणी कायदा 1908 चे कलम 88 खाली नोंदणीस हजर राहण्यास माफी )\"}',\n",
       "  'सदनिका नं: युनिट नं.1304, माळा नं: 13 वा मजला, इमारतीचे नाव: सिग्निया आईल्स, ब्लॉक नं: बांद्रा पूर्व,मुंबई-400051, रोड नं: बांद्रा कुर्ला कॉमप्लेक्स',\n",
       "  '322',\n",
       "  '4',\n",
       "  ''],\n",
       " ['10597',\n",
       "  '36-अ-लिव्ह अॅड लायसन्सेस',\n",
       "  '30/08/2018',\n",
       "  'सह दु.नि. अंधेरी 1',\n",
       "  '{\"स्टारलाईट सिस्टम्स आय एल एल पी तर्फे प्राधिकृत व्यक्ति चारुदत्त जांभेकर--\"}',\n",
       "  '{\"कॉन्सलेट जनरल ऑफ युनायटेड स्टेट्स ऑफ अमेरिका मुंबई,इंडिया तर्फे सिनियर जनरल सर्व्हिसेस ऑफिसर शंकर राव-( नोंदणी कायदा 1908 चे कलम 88 खाली नोंदणीस हजर राहण्यास माफी )\"}',\n",
       "  'सदनिका नं: युनिट नं.101, माळा नं: पहिला मजला, इमारतीचे नाव: सिग्निया पर्ल, ब्लॉक नं: बांद्रा पश्चिम,मुंबई-400050, रोड नं: बांद्रा कुर्ला कॉमप्लेक्स',\n",
       "  '322',\n",
       "  '4',\n",
       "  ''],\n",
       " ['10800',\n",
       "  'सेल डीड',\n",
       "  '05/09/2018',\n",
       "  'सह दु.नि. अंधेरी 1',\n",
       "  '{\"सन जेम्स तर्फे भागिदार सुनीलकुमाररतिलालशाह\"}',\n",
       "  '{\"श्री हरी जेवेल्स तर्फे भागिदार अंशुल.अग्रवाल\"}',\n",
       "  'सदनिका नं: ऑफिस प्रीमाईसीस नं.जेई-3022,जे टावर,ईस्ट विंग, माळा नं: 3 रा मजला, इमारतीचे नाव: भारत डायमंड बुर्स कॉमप्लेक्स, ब्लॉक नं: जी ब्लॉक,बांदरा कुर्ला कॉमप्लेक्स, रोड नं: बांदरा पूर्व,मुंबई-400051, इतर माहिती: क्षेत्र 150 चौ फुट बाधीव',\n",
       "  '322',\n",
       "  '4',\n",
       "  ''],\n",
       " ['10795',\n",
       "  '36-अ-लिव्ह अॅड लायसन्सेस',\n",
       "  '05/09/2018',\n",
       "  'सह दु.नि. अंधेरी 1',\n",
       "  '{दालचंद.नाहाता}',\n",
       "  '{\"मोवालिया ब्रॉथेर्स तर्फे भागिदार जयदीपकुमारभ.मोवालिया\"}',\n",
       "  'सदनिका नं: ऑफिस प्रीमाईसीस नं.जेई-3120,जे टावर,ईस्ट विंग, माळा नं: 3 रा मजला, इमारतीचे नाव: भारत डायमंड बुर्स कॉमप्लेक्स, ब्लॉक नं: जी ब्लॉक,बांदरा कुर्ला कॉमप्लेक्स, रोड नं: बांदरा पूर्व,मुंबई-400051',\n",
       "  '322',\n",
       "  '4',\n",
       "  ''],\n",
       " ['10798',\n",
       "  'हक्कलेखनिक्षेप दस्त',\n",
       "  '05/09/2018',\n",
       "  'सह दु.नि. अंधेरी 1',\n",
       "  '{\"रहिल इंपेक्स तर्फे भागिदारश्री रहिल एम शाह\"}',\n",
       "  '{\"एड्लवाइस फायनान्स लीमीटेडतर्फेहितेश सी पटेल\"}',\n",
       "  'सदनिका नं: ऑफिस नं ए इ 4042 बी ए टावर ईस्ट विंग, माळा नं: 04, इमारतीचे नाव: भरत डायमन्ड बोर्स कॉमप्लेक्स, ब्लॉक नं: प्लाट नं सी-70 जी बांदरा कुर्ला कॉमप्लेक्स, रोड नं: बांदरा ईस्ट मुंबई 400051',\n",
       "  '322',\n",
       "  '4',\n",
       "  ''],\n",
       " ['11197',\n",
       "  '36-अ-लिव्ह अॅड लायसन्सेस',\n",
       "  '17/09/2018',\n",
       "  'सह दु.नि. अंधेरी 1',\n",
       "  '{\"विहाना विराट मेहता तर्फे पालंकर्ते वडील विराटप्रवीणचंद्रमेहता\",सिद्धीविराटमेहता,\"विहा विराट मेहता तर्फे पालंकर्ते वडील विराटप्रवीणचंद्रमेहता\"}',\n",
       "  '{\"आकाश डायमंड तर्फे भागिदार भरतजयंतीभाईमनिया\"}',\n",
       "  'सदनिका नं: ऑफिस प्रीमाईसीस नं.बीडब्लू-5110,बी टावर,वेस्ट विंग, माळा नं: 5 वा मजला, इमारतीचे नाव: भारत डायमंड बुर्स कॉमप्लेक्स, ब्लॉक नं: जी ब्लॉक,बांदरा कुर्ला कॉमप्लेक्स, रोड नं: बांदरा पूर्व,मुंबई-400051',\n",
       "  '322',\n",
       "  '4',\n",
       "  ''],\n",
       " ['10052',\n",
       "  'गहाणखत',\n",
       "  '14/08/2018',\n",
       "  'सह दु.नि. अंधेरी 1',\n",
       "  '{\"सेंट्रल बँक ऑफ इंडिया भारत डायमन्ड बोर्स ब्रांचतर्फे असिसस्टंट. मॅनिजरसुमा नायर\"}',\n",
       "  '{\"आर चिमनलाल अँड कोतर्फे पार्टनरअतुल रजनिकुमार झवेरी\"}',\n",
       "  'सदनिका नं: ऑफिस डी सी 5150, माळा नं: 5 फ़्लोर डी टावर, इमारतीचे नाव: भारत डायमन्ड बोर्स कॉमप्लेक्स सेंट्रल विंग, ब्लॉक नं: कार पार्किग स्पन्स नं.डी-761 बांदरा ईस्ट, रोड नं: बीकेएसी रोड',\n",
       "  '322',\n",
       "  '4',\n",
       "  ''],\n",
       " ['10383',\n",
       "  'सप्लीमेंट्री अँग्रीमेंट',\n",
       "  '24/08/2018',\n",
       "  'सह दु.नि. अंधेरी 1',\n",
       "  '{\"स्टारलाईट सिस्टम्स आय एल.एल.पी तर्फे प्राधिकृत व्यक्ती स्वेता गुप्ता यांच्या तर्फे मुखत्यार कमलेश अगरवाल--\",\"स्टारलाईट सिस्टम्स आय एल.एल.पी तर्फे प्राधिकृत व्यक्ती मारिया अविताम्पिल्ली यांच्या तर्फे मुखत्यार कमलेश अगरवाल--\"}',\n",
       "  '{\"लक्ष्मण नरसिंम्हन--\"}',\n",
       "  'सदनिका नं: 503,बी विंग, माळा नं: 5 वा मजला, इमारतीचे नाव: सिग्नेचर आयलंड, ब्लॉक नं: बांद्रा पूर्व,मुंबई-400051, रोड नं: जी ब्लॉक,बांद्रा कुर्ला कॉम्प्लेक्स, इतर माहिती: दस्तात नमूद केल्याप्रमाणे. दस्त क्रमांक बदर-4/1979/2011 या दस्ताचे पुरवणी दस्त.या दस्तात जुने क्षेत्र 4403.90 चौरस फूट कार्पेट व वाढीव क्षेत्र 206.63 चौरस फूट कार्पेट,याचे एकूण क्षेत्र 4610.53 चौरस फूट कार्पेट.वाढीव क्षेत्राचा मोबदला रु.50,00,000/-एकुन मोबदाल 241821239/-.',\n",
       "  '322',\n",
       "  '4',\n",
       "  ''],\n",
       " ['10540',\n",
       "  '36-अ-लिव्ह अॅड लायसन्सेस',\n",
       "  '29/08/2018',\n",
       "  'सह दु.नि. अंधेरी 1',\n",
       "  '{\"धीरेन शामलजीदोशी\"}',\n",
       "  '{\"मे योगेश्वर डायमंडस चे भागीदारदिनेशभाई के कपोपरा\",\"मे कपिश जेम्स चे भागीदारजयेशभाई बी मणिया\"}',\n",
       "  ', इतर माहिती: ऑफिस प्रिमायसेस नं डी सी 9030,डी टावर,सेंटर साईड,9 वा मजला,भारत डायमंड बुर्स कॉम्प्लेक्स,जी ब्लॉक,बांद्रा कुर्ला कॉम्प्लेक्स,बांद्रा पूर्व,मुंबई 400051',\n",
       "  '322',\n",
       "  '4',\n",
       "  ''],\n",
       " ['10545',\n",
       "  '36-अ-लिव्ह अॅड लायसन्सेस',\n",
       "  '29/08/2018',\n",
       "  'सह दु.नि. अंधेरी 1',\n",
       "  '{हसमुखकुमारकीर्तीलालमेहता,रमेशचंद्रचिमनलालमेहता}',\n",
       "  '{\"सागर एंटरप्राइस तर्फे भागिदार दिलीपभाईडाह्याभाईशाह\"}',\n",
       "  'सदनिका नं: ऑफिस प्रीमाईसीस नं डीडब्लू-2070,डी टावर,वेस्ट विंग, माळा नं: 2 रा मजला, इमारतीचे नाव: भारत डायमंड बुर्स कॉमप्लेक्स, ब्लॉक नं: जी ब्लॉक,बांदरा कुर्ला कॉमप्लेक्स, रोड नं: बांदरा पूर्व,मुंबई-400051',\n",
       "  '322',\n",
       "  '4',\n",
       "  ''],\n",
       " ['10598',\n",
       "  '36-अ-लिव्ह अॅड लायसन्सेस',\n",
       "  '30/08/2018',\n",
       "  'सह दु.नि. अंधेरी 1',\n",
       "  '{\"स्टारलाईट सिस्टम्स आय एल एल पी तर्फे प्राधिकृत चारुदत्त जांभेकर--\"}',\n",
       "  '{\"कॉन्सलेट जनरल ऑफ युनायटेड स्टेट्स ऑफ अमेरिका मुंबई,इंडिया तर्फे सिनियर जनरल सर्व्हिसेस ऑफिसर शंकर राव-( नोंदणी कायदा 1908 चे कलम 88 खाली नोंदणीस हजर राहण्यास माफी )\"}',\n",
       "  'सदनिका नं: युनिट नं.1304, माळा नं: 13 वा मजला, इमारतीचे नाव: सिग्निया आईल्स, ब्लॉक नं: बांद्रा पूर्व,मुंबई-400051, रोड नं: बांद्रा कुर्ला कॉमप्लेक्स',\n",
       "  '322',\n",
       "  '4',\n",
       "  ''],\n",
       " ['10597',\n",
       "  '36-अ-लिव्ह अॅड लायसन्सेस',\n",
       "  '30/08/2018',\n",
       "  'सह दु.नि. अंधेरी 1',\n",
       "  '{\"स्टारलाईट सिस्टम्स आय एल एल पी तर्फे प्राधिकृत व्यक्ति चारुदत्त जांभेकर--\"}',\n",
       "  '{\"कॉन्सलेट जनरल ऑफ युनायटेड स्टेट्स ऑफ अमेरिका मुंबई,इंडिया तर्फे सिनियर जनरल सर्व्हिसेस ऑफिसर शंकर राव-( नोंदणी कायदा 1908 चे कलम 88 खाली नोंदणीस हजर राहण्यास माफी )\"}',\n",
       "  'सदनिका नं: युनिट नं.101, माळा नं: पहिला मजला, इमारतीचे नाव: सिग्निया पर्ल, ब्लॉक नं: बांद्रा पश्चिम,मुंबई-400050, रोड नं: बांद्रा कुर्ला कॉमप्लेक्स',\n",
       "  '322',\n",
       "  '4',\n",
       "  ''],\n",
       " ['10800',\n",
       "  'सेल डीड',\n",
       "  '05/09/2018',\n",
       "  'सह दु.नि. अंधेरी 1',\n",
       "  '{\"सन जेम्स तर्फे भागिदार सुनीलकुमाररतिलालशाह\"}',\n",
       "  '{\"श्री हरी जेवेल्स तर्फे भागिदार अंशुल.अग्रवाल\"}',\n",
       "  'सदनिका नं: ऑफिस प्रीमाईसीस नं.जेई-3022,जे टावर,ईस्ट विंग, माळा नं: 3 रा मजला, इमारतीचे नाव: भारत डायमंड बुर्स कॉमप्लेक्स, ब्लॉक नं: जी ब्लॉक,बांदरा कुर्ला कॉमप्लेक्स, रोड नं: बांदरा पूर्व,मुंबई-400051, इतर माहिती: क्षेत्र 150 चौ फुट बाधीव',\n",
       "  '322',\n",
       "  '4',\n",
       "  ''],\n",
       " ['10795',\n",
       "  '36-अ-लिव्ह अॅड लायसन्सेस',\n",
       "  '05/09/2018',\n",
       "  'सह दु.नि. अंधेरी 1',\n",
       "  '{दालचंद.नाहाता}',\n",
       "  '{\"मोवालिया ब्रॉथेर्स तर्फे भागिदार जयदीपकुमारभ.मोवालिया\"}',\n",
       "  'सदनिका नं: ऑफिस प्रीमाईसीस नं.जेई-3120,जे टावर,ईस्ट विंग, माळा नं: 3 रा मजला, इमारतीचे नाव: भारत डायमंड बुर्स कॉमप्लेक्स, ब्लॉक नं: जी ब्लॉक,बांदरा कुर्ला कॉमप्लेक्स, रोड नं: बांदरा पूर्व,मुंबई-400051',\n",
       "  '322',\n",
       "  '4',\n",
       "  '']]"
      ]
     },
     "execution_count": 93,
     "metadata": {},
     "output_type": "execute_result"
    }
   ],
   "source": [
    "row_list"
   ]
  },
  {
   "cell_type": "code",
   "execution_count": 92,
   "metadata": {},
   "outputs": [
    {
     "data": {
      "text/plain": [
       "28"
      ]
     },
     "execution_count": 92,
     "metadata": {},
     "output_type": "execute_result"
    }
   ],
   "source": [
    "len(row_list)"
   ]
  },
  {
   "cell_type": "code",
   "execution_count": 30,
   "metadata": {
    "collapsed": true
   },
   "outputs": [],
   "source": [
    "#Number fo columns\n",
    "table = browser.find_element_by_xpath(\"//*[@id='RegistrationGrid']/tbody/tr[10]\")\n",
    "column_count = len(table.find_elements_by_tag_name('td'))\n",
    "\n",
    "#Number fo columns\n",
    "table = browser.find_element_by_xpath(\"//*[@id='RegistrationGrid']/tbody\")\n",
    "row_count = len(table.find_elements_by_tag_name('tr'))-2"
   ]
  },
  {
   "cell_type": "code",
   "execution_count": null,
   "metadata": {
    "collapsed": true
   },
   "outputs": [],
   "source": [
    "for row, col in browser.find_elements_by_xpath('//*[@id=\"tblmainn\"]/tbody/tr'):\n",
    "    tds = tr.find_elements_by_tag_name('col')\n",
    "    print([td.text for td in tds])"
   ]
  },
  {
   "cell_type": "code",
   "execution_count": 31,
   "metadata": {
    "collapsed": true
   },
   "outputs": [],
   "source": [
    "# child = browser.window_handles[1]      \n",
    "# browser.switch_to.window(child) "
   ]
  },
  {
   "cell_type": "code",
   "execution_count": null,
   "metadata": {
    "collapsed": true
   },
   "outputs": [],
   "source": [
    "//*[@id=\"RegistrationGrid\"]/tbody/tr[12]/td/table/tbody/tr/td[12]/a"
   ]
  },
  {
   "cell_type": "code",
   "execution_count": 67,
   "metadata": {},
   "outputs": [],
   "source": [
    "#Counting the number of pages that are present for clicking on the given page\n",
    "pages = browser.find_element_by_xpath(\"//*[@id='RegistrationGrid']/tbody/tr[12]/td/table/tbody/tr\")\n",
    "count_pages = len(pages.find_elements_by_tag_name('td'))"
   ]
  },
  {
   "cell_type": "code",
   "execution_count": 66,
   "metadata": {},
   "outputs": [],
   "source": [
    "#clicking on a given page\n",
    "browser.find_element_by_xpath(\"//*[@id='RegistrationGrid']/tbody/tr[12]/td/table/tbody/tr/td[11]/a\").click()"
   ]
  },
  {
   "cell_type": "code",
   "execution_count": 192,
   "metadata": {},
   "outputs": [],
   "source": [
    "col_len = len(browser.find_element_by_xpath(\"//*[@id='RegistrationGrid']/tbody\").find_elements_by_tag_name('td'))"
   ]
  },
  {
   "cell_type": "code",
   "execution_count": 152,
   "metadata": {},
   "outputs": [
    {
     "data": {
      "text/plain": [
       "'DocNo DName RDate SROName Seller Name Purchaser Name Property Description SROCode Status IndexII\\n7485 सेल डीड 15/06/2018 सह दु.नि. अंधेरी 1 {\"येशा डायमंड्स तर्फे भागिदार नितिनकांतिलालरावल\",\"येशा डायमंड्स तर्फे भागिदार जिगरनितिनरावल\"} {साधनानितिनकुमाररावल,मितमनोजमेहता} सदनिका नं: ऑफिस प्रीमाईसीस नं.एफडब्लू-2110,एफ टावर,वेस्ट विंग, माळा नं: 2 रा माळा, इमारतीचे नाव: भारत डायमंड बुर्स कॉमप्लेक्स, ब्लॉक नं: जी ब्लॉक,बांदरा कुर्ला कॉमप्लेक्स, रोड नं: बांदरा पूर्व,मुंबई-400051 322 4\\n4932 करारनामा 21/04/2018 सह दु.नि. अंधेरी 1 {\"स्टारलाईट सिस्टम्स आय एल एल पी तर्फे प्राधिकृत व्यक्ति स्वेता गुप्ता यांच्या तर्फे मुखत्यार गोपाल क्रीशन अगरवाल--\",\"स्टारलाईट सिस्टम्स आय एल एल पी तर्फे प्राधिकृत व्यक्ति मेहुल तोलिया यांच्या तर्फे मुखत्यार गोपाल क्रीशन अगरवाल--\"} {\"एक्सपांडेड पॉलीमर सिस्टम्स प्रायवेट लीमीटेड तर्फे संचालक मुकेश एस.भूता--\",\"एक्सपांडेड पॉलीमर सिस्टम्स प्रायवेट लीमीटेड तर्फे संचालक राजेन मेहता--\",\"मुकेश शांतीलाल.भूता--\"} सदनिका नं: युनिट नं.204, माळा नं: दुसरा मजला, इमारतीचे नाव: सिग्निया आईल्स, ब्लॉक नं: बांद्रा पु मुबई 400051, रोड नं: जी-ब्लॉक,बांद्रा-कुर्ला कॉम्प्लेक्स, इतर माहिती: युनिटचे क्षेत्र 314.66 चौरस मीटर कार्पेट,सोबत 2 कार पार्किंग 322 4\\n6259 अभिहस्तांतरणपत्र 19/05/2018 सह दु.नि. अंधेरी 1 {\"के एस एम सिक्युरिटिस अँड फायनान्स प्राईवेट लिमिटेड चे संचालक कल्पेशएस.मेहता\"} {\"लफान्स पेट्रोकेमिकल्स लिमिटेड चे संचालक संदीपसेठ\"} सदनिका नं: युनिट नं. 1302, माळा नं: 13,बी - विंग, इमारतीचे नाव: वन बी के सी, ब्लॉक नं: प्लाट नं. सी-66,जी - ब्लॉक,बांदरा(ईस्ट),मुंबई-51, रोड नं: बी के सी रोड, इतर माहिती: सोबत बेसमेंट मध्ये 1 कार पार्किग स्पेस. 322 4\\n5004 65-चुक दुरुस्ती पत्र 23/04/2018 सह दु.नि. अंधेरी 1 {\"आय सी आय सी आय बँक लिमिटेड यांच्या तर्फे श्रुती-पाटील\"} {सुनील-कोठारी} सदनिका नं: ऑफिस नं सी सी /3172, माळा नं: तिसरा मजला, इमारतीचे नाव: सेंट्रल विंग टॉवर सी भारत बोर्स, ब्लॉक नं: बांद्रा कुर्ला कॉम्प्लेक्स,जी ब्लॉक, रोड नं: बांद्रा पूर्व मुंबई 400051, इतर माहिती: दस्त क्रमांक बी डी आर-1-3980-2018 दिनांक 03/04/2018 चा दस्तात नोंदणी करताना दस्तासोबत एलॉ टमेंट लेटर जोडावयाचे राहुन गेले त्यास मूळदस्ताचा भाग असे वाचावे चुकदुरुस्तीपत्र,इतर माहिती दस्तात नमूद केल्याप्रमाणे 322 4\\n11616 36-अ-लिव्ह अॅड लायसन्सेस 29/09/2018 सह दु.नि. अंधेरी 1 {\"अनिषा अग्रवाल सेठ--\",\"संदीप सेठ--\"} {\"नलिनी सोरेन्सेन--\",\"लार्स सोरेन्सेन--\"} सदनिका नं: 303,बी-विंग, माळा नं: 3 रा मजला, इमारतीचे नाव: सिग्निया पर्ल, ब्लॉक नं: बांद्रा पूर्व,मुंबई-400051, रोड नं: जी ब्लॉक,बांद्रा कुर्ला कॉम्प्लेक्स, इतर माहिती: कालावधी 36 महिने,अनामत रक्कम 36,00,000/-,मासिक भाडे पहिल्या वर्षासाठी 6,00,000/- व दुसऱ्या वर्षासाठी 6,30,000/-,व तिसऱ्या वर्षासाठी 6,61,500/- 322 4\\n1173 अभिहस्तांतरणपत्र 29/01/2018 सह दु.नि. अंधेरी 1 {\"जेम मॅन्युफकचूरिंग इंडिया एल एल पी तर्फे भागिदार रश्मीएसशाह\"} {\"जेएमपी एक्सपोर्ट्स तर्फे भागिदार जतीनकेअजमेरा\"} सदनिका नं: कार पार्किंग स्पेस नं. डी-809, माळा नं: ., इमारतीचे नाव: भारत डायमंड बुर्स कॉमप्लेक्स, ब्लॉक नं: जी ब्लॉक,बांदरा कुर्ला कॉमप्लेक्स, रोड नं: बांदरा पूर्व,मुंबई-400051 322 4\\n242 हक्कलेखनिक्षेप दस्त 06/01/2018 सह दु.नि. अंधेरी 1 {\"विधी जेम्सपार्टनरप्रदीप चिमनलाल ठक्कर\"} {\"एड्लवाइस रीटेलफायनान्स लीमीटेड\"} सदनिका नं: ऑफिस एइ 2053 ईस्ट विंग, माळा नं: 0, इमारतीचे नाव: ए टावर भरत डायमन्ड बुर्स कॉमप्लेक्स, ब्लॉक नं: बी के सी रोड बांदरा ईस्ट, रोड : मुंबई 400051 322 4\\n1494 सेल डीड 03/02/2018 सह दु.नि. अंधेरी 1 {\"जे. एम. डायमंड तर्फे भागिदार सतीशचंदुलालगांधी\"} {\"बी. नवीन आणी कं तर्फे भागिदार भावेशनवीनचंद्रभंसाली\"} सदनिका नं: ऑफिस प्रीमाईसीस नं.एचई-4050,एच टावर,ईस्ट विंग, माळा नं: 4 था मजला, इमारतीचे नाव: भारत डायमंड बुर्स कॉमप्लेक्स, ब्लॉक नं: जी ब्लॉक,बांदरा कुर्ला कॉमप्लेक्स, रोड नं: बांदरा पूर्व,मुंबई-400051 322 4\\n332 36-अ-लिव्ह अॅड लायसन्सेस 09/01/2018 सह दु.नि. अंधेरी 1 {\"सिद्धी जेम्स तर्फे भागिदार स्नेहलजयंतीलालशाह\"} {\"राम इंपेक्स तर्फे मालक अमरशीभाईआर.मियानी\"} सदनिका नं: ऑफिस प्रीमाईसीस नं.ईसी-4072,ई टावर,सेंट्रल विंग, माळा नं: 4था मजला, इमारतीचे नाव: भारत डायमंड बुर्स कॉमप्लेक्स, ब्लॉक नं: जी ब्लॉक,बांदरा कुर्ला कॉमप्लेक्स, रोड नं: बांदरा पूर्व,मुंबई-400051 322 4\\n335 36-अ-लिव्ह अॅड लायसन्सेस 09/01/2018 सह दु.नि. अंधेरी 1 {\"राजेश एक्सपोर्ट्स तर्फे मालक राजेशनानालालशाह\"} {\"देसाई जेम्स तर्फे मालक जयेशहिरालालदेसाई\"} सदनिका नं: ऑफिस प्रीमाईसीस नं.सीसी-3240,सी टावर,सेंट्रल विंग, माळा नं: 3 रा मजला, इमारतीचे नाव: भारत डायमंड बुर्स कॉमप्लेक्स, ब्लॉक नं: जी ब्लॉक,बांदरा कुर्ला कॉमप्लेक्स, रोड नं: बांदरा पूर्व,मुंबई-400051 322 4\\n1 2 3 4 5 6 7 8 9 10 ...'"
      ]
     },
     "execution_count": 152,
     "metadata": {},
     "output_type": "execute_result"
    }
   ],
   "source": [
    "browser.find_element_by_xpath(\"//*[@id='tblmain']/tbody/tr[3]/td/div/table\").text"
   ]
  },
  {
   "cell_type": "code",
   "execution_count": 90,
   "metadata": {},
   "outputs": [],
   "source": [
    "# pd.read_html('https://freesearchigrservice.maharashtra.gov.in/')"
   ]
  },
  {
   "cell_type": "code",
   "execution_count": null,
   "metadata": {
    "collapsed": true
   },
   "outputs": [],
   "source": [
    "//*[@id=\"tblmain\"]/tbody/tr[3]/td/div/table"
   ]
  },
  {
   "cell_type": "code",
   "execution_count": 53,
   "metadata": {},
   "outputs": [
    {
     "data": {
      "text/plain": [
       "['DocNo DName RDate SROName Seller Name Purchaser Name Property Description SROCode Status IndexII',\n",
       " '7485 सेल डीड 15/06/2018 सह दु.नि. अंधेरी 1 {\"येशा डायमंड्स तर्फे भागिदार नितिनकांतिलालरावल\",\"येशा डायमंड्स तर्फे भागिदार जिगरनितिनरावल\"} {साधनानितिनकुमाररावल,मितमनोजमेहता} सदनिका नं: ऑफिस प्रीमाईसीस नं.एफडब्लू-2110,एफ टावर,वेस्ट विंग, माळा नं: 2 रा माळा, इमारतीचे नाव: भारत डायमंड बुर्स कॉमप्लेक्स, ब्लॉक नं: जी ब्लॉक,बांदरा कुर्ला कॉमप्लेक्स, रोड नं: बांदरा पूर्व,मुंबई-400051 322 4',\n",
       " '4932 करारनामा 21/04/2018 सह दु.नि. अंधेरी 1 {\"स्टारलाईट सिस्टम्स आय एल एल पी तर्फे प्राधिकृत व्यक्ति स्वेता गुप्ता यांच्या तर्फे मुखत्यार गोपाल क्रीशन अगरवाल--\",\"स्टारलाईट सिस्टम्स आय एल एल पी तर्फे प्राधिकृत व्यक्ति मेहुल तोलिया यांच्या तर्फे मुखत्यार गोपाल क्रीशन अगरवाल--\"} {\"एक्सपांडेड पॉलीमर सिस्टम्स प्रायवेट लीमीटेड तर्फे संचालक मुकेश एस.भूता--\",\"एक्सपांडेड पॉलीमर सिस्टम्स प्रायवेट लीमीटेड तर्फे संचालक राजेन मेहता--\",\"मुकेश शांतीलाल.भूता--\"} सदनिका नं: युनिट नं.204, माळा नं: दुसरा मजला, इमारतीचे नाव: सिग्निया आईल्स, ब्लॉक नं: बांद्रा पु मुबई 400051, रोड नं: जी-ब्लॉक,बांद्रा-कुर्ला कॉम्प्लेक्स, इतर माहिती: युनिटचे क्षेत्र 314.66 चौरस मीटर कार्पेट,सोबत 2 कार पार्किंग 322 4',\n",
       " '6259 अभिहस्तांतरणपत्र 19/05/2018 सह दु.नि. अंधेरी 1 {\"के एस एम सिक्युरिटिस अँड फायनान्स प्राईवेट लिमिटेड चे संचालक कल्पेशएस.मेहता\"} {\"लफान्स पेट्रोकेमिकल्स लिमिटेड चे संचालक संदीपसेठ\"} सदनिका नं: युनिट नं. 1302, माळा नं: 13,बी - विंग, इमारतीचे नाव: वन बी के सी, ब्लॉक नं: प्लाट नं. सी-66,जी - ब्लॉक,बांदरा(ईस्ट),मुंबई-51, रोड नं: बी के सी रोड, इतर माहिती: सोबत बेसमेंट मध्ये 1 कार पार्किग स्पेस. 322 4',\n",
       " '5004 65-चुक दुरुस्ती पत्र 23/04/2018 सह दु.नि. अंधेरी 1 {\"आय सी आय सी आय बँक लिमिटेड यांच्या तर्फे श्रुती-पाटील\"} {सुनील-कोठारी} सदनिका नं: ऑफिस नं सी सी /3172, माळा नं: तिसरा मजला, इमारतीचे नाव: सेंट्रल विंग टॉवर सी भारत बोर्स, ब्लॉक नं: बांद्रा कुर्ला कॉम्प्लेक्स,जी ब्लॉक, रोड नं: बांद्रा पूर्व मुंबई 400051, इतर माहिती: दस्त क्रमांक बी डी आर-1-3980-2018 दिनांक 03/04/2018 चा दस्तात नोंदणी करताना दस्तासोबत एलॉ टमेंट लेटर जोडावयाचे राहुन गेले त्यास मूळदस्ताचा भाग असे वाचावे चुकदुरुस्तीपत्र,इतर माहिती दस्तात नमूद केल्याप्रमाणे 322 4',\n",
       " '11616 36-अ-लिव्ह अॅड लायसन्सेस 29/09/2018 सह दु.नि. अंधेरी 1 {\"अनिषा अग्रवाल सेठ--\",\"संदीप सेठ--\"} {\"नलिनी सोरेन्सेन--\",\"लार्स सोरेन्सेन--\"} सदनिका नं: 303,बी-विंग, माळा नं: 3 रा मजला, इमारतीचे नाव: सिग्निया पर्ल, ब्लॉक नं: बांद्रा पूर्व,मुंबई-400051, रोड नं: जी ब्लॉक,बांद्रा कुर्ला कॉम्प्लेक्स, इतर माहिती: कालावधी 36 महिने,अनामत रक्कम 36,00,000/-,मासिक भाडे पहिल्या वर्षासाठी 6,00,000/- व दुसऱ्या वर्षासाठी 6,30,000/-,व तिसऱ्या वर्षासाठी 6,61,500/- 322 4',\n",
       " '1173 अभिहस्तांतरणपत्र 29/01/2018 सह दु.नि. अंधेरी 1 {\"जेम मॅन्युफकचूरिंग इंडिया एल एल पी तर्फे भागिदार रश्मीएसशाह\"} {\"जेएमपी एक्सपोर्ट्स तर्फे भागिदार जतीनकेअजमेरा\"} सदनिका नं: कार पार्किंग स्पेस नं. डी-809, माळा नं: ., इमारतीचे नाव: भारत डायमंड बुर्स कॉमप्लेक्स, ब्लॉक नं: जी ब्लॉक,बांदरा कुर्ला कॉमप्लेक्स, रोड नं: बांदरा पूर्व,मुंबई-400051 322 4',\n",
       " '242 हक्कलेखनिक्षेप दस्त 06/01/2018 सह दु.नि. अंधेरी 1 {\"विधी जेम्सपार्टनरप्रदीप चिमनलाल ठक्कर\"} {\"एड्लवाइस रीटेलफायनान्स लीमीटेड\"} सदनिका नं: ऑफिस एइ 2053 ईस्ट विंग, माळा नं: 0, इमारतीचे नाव: ए टावर भरत डायमन्ड बुर्स कॉमप्लेक्स, ब्लॉक नं: बी के सी रोड बांदरा ईस्ट, रोड : मुंबई 400051 322 4',\n",
       " '1494 सेल डीड 03/02/2018 सह दु.नि. अंधेरी 1 {\"जे. एम. डायमंड तर्फे भागिदार सतीशचंदुलालगांधी\"} {\"बी. नवीन आणी कं तर्फे भागिदार भावेशनवीनचंद्रभंसाली\"} सदनिका नं: ऑफिस प्रीमाईसीस नं.एचई-4050,एच टावर,ईस्ट विंग, माळा नं: 4 था मजला, इमारतीचे नाव: भारत डायमंड बुर्स कॉमप्लेक्स, ब्लॉक नं: जी ब्लॉक,बांदरा कुर्ला कॉमप्लेक्स, रोड नं: बांदरा पूर्व,मुंबई-400051 322 4',\n",
       " '332 36-अ-लिव्ह अॅड लायसन्सेस 09/01/2018 सह दु.नि. अंधेरी 1 {\"सिद्धी जेम्स तर्फे भागिदार स्नेहलजयंतीलालशाह\"} {\"राम इंपेक्स तर्फे मालक अमरशीभाईआर.मियानी\"} सदनिका नं: ऑफिस प्रीमाईसीस नं.ईसी-4072,ई टावर,सेंट्रल विंग, माळा नं: 4था मजला, इमारतीचे नाव: भारत डायमंड बुर्स कॉमप्लेक्स, ब्लॉक नं: जी ब्लॉक,बांदरा कुर्ला कॉमप्लेक्स, रोड नं: बांदरा पूर्व,मुंबई-400051 322 4',\n",
       " '335 36-अ-लिव्ह अॅड लायसन्सेस 09/01/2018 सह दु.नि. अंधेरी 1 {\"राजेश एक्सपोर्ट्स तर्फे मालक राजेशनानालालशाह\"} {\"देसाई जेम्स तर्फे मालक जयेशहिरालालदेसाई\"} सदनिका नं: ऑफिस प्रीमाईसीस नं.सीसी-3240,सी टावर,सेंट्रल विंग, माळा नं: 3 रा मजला, इमारतीचे नाव: भारत डायमंड बुर्स कॉमप्लेक्स, ब्लॉक नं: जी ब्लॉक,बांदरा कुर्ला कॉमप्लेक्स, रोड नं: बांदरा पूर्व,मुंबई-400051 322 4',\n",
       " '1 2 3 4 5 6 7 8 9 10 ...']"
      ]
     },
     "execution_count": 53,
     "metadata": {},
     "output_type": "execute_result"
    }
   ],
   "source": [
    "elem.text.split('\\n')"
   ]
  },
  {
   "cell_type": "code",
   "execution_count": 49,
   "metadata": {},
   "outputs": [],
   "source": [
    "a = pd.DataFrame(elem.text.split('\\n'))"
   ]
  },
  {
   "cell_type": "code",
   "execution_count": 50,
   "metadata": {},
   "outputs": [
    {
     "data": {
      "text/html": [
       "<div>\n",
       "<style scoped>\n",
       "    .dataframe tbody tr th:only-of-type {\n",
       "        vertical-align: middle;\n",
       "    }\n",
       "\n",
       "    .dataframe tbody tr th {\n",
       "        vertical-align: top;\n",
       "    }\n",
       "\n",
       "    .dataframe thead th {\n",
       "        text-align: right;\n",
       "    }\n",
       "</style>\n",
       "<table border=\"1\" class=\"dataframe\">\n",
       "  <thead>\n",
       "    <tr style=\"text-align: right;\">\n",
       "      <th></th>\n",
       "      <th>0</th>\n",
       "    </tr>\n",
       "  </thead>\n",
       "  <tbody>\n",
       "    <tr>\n",
       "      <th>0</th>\n",
       "      <td>DocNo DName RDate SROName Seller Name Purchase...</td>\n",
       "    </tr>\n",
       "    <tr>\n",
       "      <th>1</th>\n",
       "      <td>7485 सेल डीड 15/06/2018 सह दु.नि. अंधेरी 1 {\"य...</td>\n",
       "    </tr>\n",
       "    <tr>\n",
       "      <th>2</th>\n",
       "      <td>4932 करारनामा 21/04/2018 सह दु.नि. अंधेरी 1 {\"...</td>\n",
       "    </tr>\n",
       "    <tr>\n",
       "      <th>3</th>\n",
       "      <td>6259 अभिहस्तांतरणपत्र 19/05/2018 सह दु.नि. अंध...</td>\n",
       "    </tr>\n",
       "    <tr>\n",
       "      <th>4</th>\n",
       "      <td>5004 65-चुक दुरुस्ती पत्र 23/04/2018 सह दु.नि....</td>\n",
       "    </tr>\n",
       "    <tr>\n",
       "      <th>5</th>\n",
       "      <td>11616 36-अ-लिव्ह अॅड लायसन्सेस 29/09/2018 सह द...</td>\n",
       "    </tr>\n",
       "    <tr>\n",
       "      <th>6</th>\n",
       "      <td>1173 अभिहस्तांतरणपत्र 29/01/2018 सह दु.नि. अंध...</td>\n",
       "    </tr>\n",
       "    <tr>\n",
       "      <th>7</th>\n",
       "      <td>242 हक्कलेखनिक्षेप दस्त 06/01/2018 सह दु.नि. अ...</td>\n",
       "    </tr>\n",
       "    <tr>\n",
       "      <th>8</th>\n",
       "      <td>1494 सेल डीड 03/02/2018 सह दु.नि. अंधेरी 1 {\"ज...</td>\n",
       "    </tr>\n",
       "    <tr>\n",
       "      <th>9</th>\n",
       "      <td>332 36-अ-लिव्ह अॅड लायसन्सेस 09/01/2018 सह दु....</td>\n",
       "    </tr>\n",
       "    <tr>\n",
       "      <th>10</th>\n",
       "      <td>335 36-अ-लिव्ह अॅड लायसन्सेस 09/01/2018 सह दु....</td>\n",
       "    </tr>\n",
       "    <tr>\n",
       "      <th>11</th>\n",
       "      <td>1 2 3 4 5 6 7 8 9 10 ...</td>\n",
       "    </tr>\n",
       "  </tbody>\n",
       "</table>\n",
       "</div>"
      ],
      "text/plain": [
       "                                                    0\n",
       "0   DocNo DName RDate SROName Seller Name Purchase...\n",
       "1   7485 सेल डीड 15/06/2018 सह दु.नि. अंधेरी 1 {\"य...\n",
       "2   4932 करारनामा 21/04/2018 सह दु.नि. अंधेरी 1 {\"...\n",
       "3   6259 अभिहस्तांतरणपत्र 19/05/2018 सह दु.नि. अंध...\n",
       "4   5004 65-चुक दुरुस्ती पत्र 23/04/2018 सह दु.नि....\n",
       "5   11616 36-अ-लिव्ह अॅड लायसन्सेस 29/09/2018 सह द...\n",
       "6   1173 अभिहस्तांतरणपत्र 29/01/2018 सह दु.नि. अंध...\n",
       "7   242 हक्कलेखनिक्षेप दस्त 06/01/2018 सह दु.नि. अ...\n",
       "8   1494 सेल डीड 03/02/2018 सह दु.नि. अंधेरी 1 {\"ज...\n",
       "9   332 36-अ-लिव्ह अॅड लायसन्सेस 09/01/2018 सह दु....\n",
       "10  335 36-अ-लिव्ह अॅड लायसन्सेस 09/01/2018 सह दु....\n",
       "11                           1 2 3 4 5 6 7 8 9 10 ..."
      ]
     },
     "execution_count": 50,
     "metadata": {},
     "output_type": "execute_result"
    }
   ],
   "source": [
    "a"
   ]
  },
  {
   "cell_type": "code",
   "execution_count": 52,
   "metadata": {},
   "outputs": [
    {
     "data": {
      "text/plain": [
       "'0    4932 करारनामा 21/04/2018 सह दु.नि. अंधेरी 1 {\"...\\nName: 2, dtype: object'"
      ]
     },
     "execution_count": 52,
     "metadata": {},
     "output_type": "execute_result"
    }
   ],
   "source": [
    "(str(a.iloc[2]))"
   ]
  },
  {
   "cell_type": "code",
   "execution_count": null,
   "metadata": {
    "collapsed": true
   },
   "outputs": [],
   "source": []
  },
  {
   "cell_type": "code",
   "execution_count": 35,
   "metadata": {},
   "outputs": [],
   "source": [
    "row = browser.find_element_by_xpath(\"//*[@id='RegistrationGrid']/tbody/tr[2]/td[7]\") "
   ]
  },
  {
   "cell_type": "code",
   "execution_count": 36,
   "metadata": {},
   "outputs": [
    {
     "data": {
      "text/plain": [
       "'सदनिका नं: ऑफिस प्रीमाईसीस नं.एफडब्लू-2110,एफ टावर,वेस्ट विंग, माळा नं: 2 रा माळा, इमारतीचे नाव: भारत डायमंड बुर्स कॉमप्लेक्स, ब्लॉक नं: जी ब्लॉक,बांदरा कुर्ला कॉमप्लेक्स, रोड नं: बांदरा पूर्व,मुंबई-400051'"
      ]
     },
     "execution_count": 36,
     "metadata": {},
     "output_type": "execute_result"
    }
   ],
   "source": [
    "row.text"
   ]
  },
  {
   "cell_type": "code",
   "execution_count": 31,
   "metadata": {
    "collapsed": true
   },
   "outputs": [],
   "source": [
    "import pandas as pd"
   ]
  },
  {
   "cell_type": "code",
   "execution_count": null,
   "metadata": {
    "collapsed": true
   },
   "outputs": [],
   "source": [
    "for rowno in \n",
    "for  colno in range(0,9):\n"
   ]
  },
  {
   "cell_type": "code",
   "execution_count": 32,
   "metadata": {},
   "outputs": [
    {
     "ename": "ValueError",
     "evalue": "DataFrame constructor not properly called!",
     "output_type": "error",
     "traceback": [
      "\u001b[1;31m---------------------------------------------------------------------------\u001b[0m",
      "\u001b[1;31mValueError\u001b[0m                                Traceback (most recent call last)",
      "\u001b[1;32m<ipython-input-32-8ca3bb21e8bc>\u001b[0m in \u001b[0;36m<module>\u001b[1;34m()\u001b[0m\n\u001b[1;32m----> 1\u001b[1;33m \u001b[0mpd\u001b[0m\u001b[1;33m.\u001b[0m\u001b[0mDataFrame\u001b[0m\u001b[1;33m(\u001b[0m\u001b[0melem\u001b[0m\u001b[1;33m.\u001b[0m\u001b[0mtext\u001b[0m\u001b[1;33m)\u001b[0m\u001b[1;33m\u001b[0m\u001b[0m\n\u001b[0m",
      "\u001b[1;32mC:\\Users\\g701295\\AppData\\Local\\Continuum\\Anaconda3\\lib\\site-packages\\pandas\\core\\frame.py\u001b[0m in \u001b[0;36m__init__\u001b[1;34m(self, data, index, columns, dtype, copy)\u001b[0m\n\u001b[0;32m    482\u001b[0m                 )\n\u001b[0;32m    483\u001b[0m             \u001b[1;32melse\u001b[0m\u001b[1;33m:\u001b[0m\u001b[1;33m\u001b[0m\u001b[0m\n\u001b[1;32m--> 484\u001b[1;33m                 \u001b[1;32mraise\u001b[0m \u001b[0mValueError\u001b[0m\u001b[1;33m(\u001b[0m\u001b[1;34m\"DataFrame constructor not properly called!\"\u001b[0m\u001b[1;33m)\u001b[0m\u001b[1;33m\u001b[0m\u001b[0m\n\u001b[0m\u001b[0;32m    485\u001b[0m \u001b[1;33m\u001b[0m\u001b[0m\n\u001b[0;32m    486\u001b[0m         \u001b[0mNDFrame\u001b[0m\u001b[1;33m.\u001b[0m\u001b[0m__init__\u001b[0m\u001b[1;33m(\u001b[0m\u001b[0mself\u001b[0m\u001b[1;33m,\u001b[0m \u001b[0mmgr\u001b[0m\u001b[1;33m,\u001b[0m \u001b[0mfastpath\u001b[0m\u001b[1;33m=\u001b[0m\u001b[1;32mTrue\u001b[0m\u001b[1;33m)\u001b[0m\u001b[1;33m\u001b[0m\u001b[0m\n",
      "\u001b[1;31mValueError\u001b[0m: DataFrame constructor not properly called!"
     ]
    }
   ],
   "source": [
    "data = pd.DataFrame(columns=['DocNo','DName','RDate','SROName','Seller', 'Name','Purchaser', 'Name','Property',\n",
    "                      'Description','SROCode','Status','IndexII'])"
   ]
  },
  {
   "cell_type": "code",
   "execution_count": 24,
   "metadata": {},
   "outputs": [
    {
     "data": {
      "text/plain": [
       "''"
      ]
     },
     "execution_count": 24,
     "metadata": {},
     "output_type": "execute_result"
    }
   ],
   "source": [
    "//*[@id=\"RegistrationGrid\"]"
   ]
  },
  {
   "cell_type": "code",
   "execution_count": 192,
   "metadata": {
    "collapsed": true
   },
   "outputs": [],
   "source": [
    "//*[@id=\"btnSearch\"]"
   ]
  },
  {
   "cell_type": "code",
   "execution_count": null,
   "metadata": {
    "collapsed": true
   },
   "outputs": [],
   "source": [
    "//*[@id=\"RegistrationGrid\"]/tbody/tr[2]/td[7]/text()"
   ]
  },
  {
   "cell_type": "code",
   "execution_count": null,
   "metadata": {
    "collapsed": true
   },
   "outputs": [],
   "source": [
    "//*[@id=\"RegistrationGrid\"]/tbody/tr[3]/td[7]/text()"
   ]
  },
  {
   "cell_type": "code",
   "execution_count": null,
   "metadata": {
    "collapsed": true
   },
   "outputs": [],
   "source": [
    "//*[@id=\"RegistrationGrid\"]/tbody/tr[2]/td[10]/input"
   ]
  },
  {
   "cell_type": "code",
   "execution_count": 194,
   "metadata": {
    "scrolled": true
   },
   "outputs": [
    {
     "data": {
      "text/plain": [
       "'23667'"
      ]
     },
     "execution_count": 194,
     "metadata": {},
     "output_type": "execute_result"
    }
   ],
   "source": [
    "//*[@id=\"RegistrationGrid\"]/tbody/tr[3]/td[10]/input"
   ]
  }
 ],
 "metadata": {
  "kernelspec": {
   "display_name": "Python 3",
   "language": "python",
   "name": "python3"
  },
  "language_info": {
   "codemirror_mode": {
    "name": "ipython",
    "version": 3
   },
   "file_extension": ".py",
   "mimetype": "text/x-python",
   "name": "python",
   "nbconvert_exporter": "python",
   "pygments_lexer": "ipython3",
   "version": "3.6.1"
  }
 },
 "nbformat": 4,
 "nbformat_minor": 2
}
